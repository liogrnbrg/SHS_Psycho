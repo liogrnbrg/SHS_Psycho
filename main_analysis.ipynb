# --------------------------------------------------------
# 0. Importations initiales
# --------------------------------------------------------
import pandas as pd
import numpy as np
import scipy.stats as stats
import statsmodels.formula.api as smf
#import pingouin as pg  # <-- vous pouvez décommenter si vous voulez utiliser Pingouin
import matplotlib.pyplot as plt

# Optionnel : configurations esthétiques
# plt.style.use('ggplot')   # par exemple, ou autre

