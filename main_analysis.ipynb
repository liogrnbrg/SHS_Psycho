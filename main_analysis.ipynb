{
 "cells": [
  {
   "cell_type": "markdown",
   "metadata": {},
   "source": [
    "# Analyse Statistique"
   ]
  },
  {
   "cell_type": "markdown",
   "metadata": {},
   "source": [
    "### 1. Imports"
   ]
  },
  {
   "cell_type": "code",
   "execution_count": 13,
   "metadata": {},
   "outputs": [],
   "source": [
    "# --------------------------------------------------------\n",
    "# 0. Importations initiales\n",
    "# --------------------------------------------------------\n",
    "import pandas as pd\n",
    "import numpy as np\n",
    "import scipy.stats as stats\n",
    "import statsmodels.formula.api as smf\n",
    "#import pingouin as pg  # <-- vous pouvez décommenter si vous voulez utiliser Pingouin\n",
    "import matplotlib.pyplot as plt\n",
    "import seaborn as sns\n",
    "\n",
    "# Optionnel : configurations esthétiques\n",
    "# plt.style.use('ggplot')   # par exemple, ou autre\n"
   ]
  },
  {
   "cell_type": "markdown",
   "metadata": {},
   "source": [
    "## 1. Chargement et préparation des données"
   ]
  },
  {
   "cell_type": "code",
   "execution_count": 14,
   "metadata": {},
   "outputs": [
    {
     "data": {
      "text/html": [
       "<div>\n",
       "<style scoped>\n",
       "    .dataframe tbody tr th:only-of-type {\n",
       "        vertical-align: middle;\n",
       "    }\n",
       "\n",
       "    .dataframe tbody tr th {\n",
       "        vertical-align: top;\n",
       "    }\n",
       "\n",
       "    .dataframe thead th {\n",
       "        text-align: right;\n",
       "    }\n",
       "</style>\n",
       "<table border=\"1\" class=\"dataframe\">\n",
       "  <thead>\n",
       "    <tr style=\"text-align: right;\">\n",
       "      <th></th>\n",
       "      <th>StartDate</th>\n",
       "      <th>EndDate</th>\n",
       "      <th>Status</th>\n",
       "      <th>IPAddress</th>\n",
       "      <th>Progress</th>\n",
       "      <th>Duration (in seconds)</th>\n",
       "      <th>Finished</th>\n",
       "      <th>RecordedDate</th>\n",
       "      <th>ResponseId</th>\n",
       "      <th>RecipientLastName</th>\n",
       "      <th>...</th>\n",
       "      <th>Education</th>\n",
       "      <th>Education.1</th>\n",
       "      <th>Origins</th>\n",
       "      <th>Q17</th>\n",
       "      <th>Q18</th>\n",
       "      <th>Q19</th>\n",
       "      <th>Q20</th>\n",
       "      <th>Q21</th>\n",
       "      <th>id</th>\n",
       "      <th>Source</th>\n",
       "    </tr>\n",
       "  </thead>\n",
       "  <tbody>\n",
       "    <tr>\n",
       "      <th>2</th>\n",
       "      <td>2025-03-04 13:08:42</td>\n",
       "      <td>2025-03-04 13:15:49</td>\n",
       "      <td>1</td>\n",
       "      <td>NaN</td>\n",
       "      <td>100</td>\n",
       "      <td>427</td>\n",
       "      <td>1</td>\n",
       "      <td>2025-03-04 13:15:50</td>\n",
       "      <td>R_8KoMYiS7pLDRnTb</td>\n",
       "      <td>NaN</td>\n",
       "      <td>...</td>\n",
       "      <td>NaN</td>\n",
       "      <td>NaN</td>\n",
       "      <td>NaN</td>\n",
       "      <td>NaN</td>\n",
       "      <td>NaN</td>\n",
       "      <td>NaN</td>\n",
       "      <td>NaN</td>\n",
       "      <td>NaN</td>\n",
       "      <td>NaN</td>\n",
       "      <td>NaN</td>\n",
       "    </tr>\n",
       "    <tr>\n",
       "      <th>3</th>\n",
       "      <td>2025-03-12 02:34:38</td>\n",
       "      <td>2025-03-12 02:35:28</td>\n",
       "      <td>1</td>\n",
       "      <td>NaN</td>\n",
       "      <td>100</td>\n",
       "      <td>50</td>\n",
       "      <td>1</td>\n",
       "      <td>2025-03-12 02:35:28</td>\n",
       "      <td>R_8htFlTMqyNsXx6x</td>\n",
       "      <td>NaN</td>\n",
       "      <td>...</td>\n",
       "      <td>NaN</td>\n",
       "      <td>NaN</td>\n",
       "      <td>NaN</td>\n",
       "      <td>NaN</td>\n",
       "      <td>NaN</td>\n",
       "      <td>NaN</td>\n",
       "      <td>NaN</td>\n",
       "      <td>NaN</td>\n",
       "      <td>NaN</td>\n",
       "      <td>NaN</td>\n",
       "    </tr>\n",
       "    <tr>\n",
       "      <th>4</th>\n",
       "      <td>2025-03-13 10:59:26</td>\n",
       "      <td>2025-03-13 11:03:14</td>\n",
       "      <td>1</td>\n",
       "      <td>NaN</td>\n",
       "      <td>100</td>\n",
       "      <td>228</td>\n",
       "      <td>1</td>\n",
       "      <td>2025-03-13 11:03:15</td>\n",
       "      <td>R_89aiCGR6g3QzEOd</td>\n",
       "      <td>NaN</td>\n",
       "      <td>...</td>\n",
       "      <td>2</td>\n",
       "      <td>gegvr</td>\n",
       "      <td>bgrsbs</td>\n",
       "      <td>2</td>\n",
       "      <td>1</td>\n",
       "      <td>2</td>\n",
       "      <td>3</td>\n",
       "      <td>1</td>\n",
       "      <td>NaN</td>\n",
       "      <td>NaN</td>\n",
       "    </tr>\n",
       "    <tr>\n",
       "      <th>5</th>\n",
       "      <td>2025-03-14 01:09:01</td>\n",
       "      <td>2025-03-14 01:09:26</td>\n",
       "      <td>0</td>\n",
       "      <td>185.12.130.88</td>\n",
       "      <td>76</td>\n",
       "      <td>24</td>\n",
       "      <td>0</td>\n",
       "      <td>2025-03-14 01:12:01</td>\n",
       "      <td>R_2qBCQkuA3CFDdud</td>\n",
       "      <td>NaN</td>\n",
       "      <td>...</td>\n",
       "      <td>NaN</td>\n",
       "      <td>NaN</td>\n",
       "      <td>NaN</td>\n",
       "      <td>NaN</td>\n",
       "      <td>NaN</td>\n",
       "      <td>NaN</td>\n",
       "      <td>NaN</td>\n",
       "      <td>NaN</td>\n",
       "      <td>NaN</td>\n",
       "      <td>NaN</td>\n",
       "    </tr>\n",
       "    <tr>\n",
       "      <th>6</th>\n",
       "      <td>2025-04-02 04:07:37</td>\n",
       "      <td>2025-04-02 04:22:30</td>\n",
       "      <td>0</td>\n",
       "      <td>128.179.204.170</td>\n",
       "      <td>100</td>\n",
       "      <td>893</td>\n",
       "      <td>1</td>\n",
       "      <td>2025-04-02 04:22:31</td>\n",
       "      <td>R_8Do6YUFYQenUARY</td>\n",
       "      <td>NaN</td>\n",
       "      <td>...</td>\n",
       "      <td>5</td>\n",
       "      <td>Data science</td>\n",
       "      <td>France</td>\n",
       "      <td>5</td>\n",
       "      <td>5</td>\n",
       "      <td>1,2,3,4,5,6,7,8,9,10</td>\n",
       "      <td>3</td>\n",
       "      <td>4</td>\n",
       "      <td>NaN</td>\n",
       "      <td>NaN</td>\n",
       "    </tr>\n",
       "  </tbody>\n",
       "</table>\n",
       "<p>5 rows × 170 columns</p>\n",
       "</div>"
      ],
      "text/plain": [
       "             StartDate              EndDate Status        IPAddress Progress  \\\n",
       "2  2025-03-04 13:08:42  2025-03-04 13:15:49      1              NaN      100   \n",
       "3  2025-03-12 02:34:38  2025-03-12 02:35:28      1              NaN      100   \n",
       "4  2025-03-13 10:59:26  2025-03-13 11:03:14      1              NaN      100   \n",
       "5  2025-03-14 01:09:01  2025-03-14 01:09:26      0    185.12.130.88       76   \n",
       "6  2025-04-02 04:07:37  2025-04-02 04:22:30      0  128.179.204.170      100   \n",
       "\n",
       "  Duration (in seconds) Finished         RecordedDate         ResponseId  \\\n",
       "2                   427        1  2025-03-04 13:15:50  R_8KoMYiS7pLDRnTb   \n",
       "3                    50        1  2025-03-12 02:35:28  R_8htFlTMqyNsXx6x   \n",
       "4                   228        1  2025-03-13 11:03:15  R_89aiCGR6g3QzEOd   \n",
       "5                    24        0  2025-03-14 01:12:01  R_2qBCQkuA3CFDdud   \n",
       "6                   893        1  2025-04-02 04:22:31  R_8Do6YUFYQenUARY   \n",
       "\n",
       "  RecipientLastName  ... Education   Education.1 Origins  Q17  Q18  \\\n",
       "2               NaN  ...       NaN           NaN     NaN  NaN  NaN   \n",
       "3               NaN  ...       NaN           NaN     NaN  NaN  NaN   \n",
       "4               NaN  ...         2         gegvr  bgrsbs    2    1   \n",
       "5               NaN  ...       NaN           NaN     NaN  NaN  NaN   \n",
       "6               NaN  ...         5  Data science  France    5    5   \n",
       "\n",
       "                    Q19  Q20  Q21   id Source  \n",
       "2                   NaN  NaN  NaN  NaN    NaN  \n",
       "3                   NaN  NaN  NaN  NaN    NaN  \n",
       "4                     2    3    1  NaN    NaN  \n",
       "5                   NaN  NaN  NaN  NaN    NaN  \n",
       "6  1,2,3,4,5,6,7,8,9,10    3    4  NaN    NaN  \n",
       "\n",
       "[5 rows x 170 columns]"
      ]
     },
     "execution_count": 14,
     "metadata": {},
     "output_type": "execute_result"
    }
   ],
   "source": [
    "# Nom du dernier CSV\n",
    "data_file = 'SHS-Lie+detection+AI_May+12%2C+2025_09.03.csv' #\"SHS-Lie+detection+AI_April+30%2C+2025_08.14.csv\" # \"SHS-Lie+detection+AI_April+9%2C+2025_11.22.csv\"\n",
    "\n",
    "\n",
    "df = pd.read_csv(data_file, header=0, skiprows=0)\n",
    "\n",
    "# dictionnaire de correspondance pour les questions en français\n",
    "questions = dict(zip(df.columns, df.iloc[0]))\n",
    "\n",
    "# supprimer les 2 premières lignes (elles sont inutiles)\n",
    "df = df[2:]\n",
    "\n",
    "df.head()"
   ]
  },
  {
   "cell_type": "code",
   "execution_count": 15,
   "metadata": {},
   "outputs": [
    {
     "data": {
      "text/plain": [
       "np.int64(131)"
      ]
     },
     "execution_count": 15,
     "metadata": {},
     "output_type": "execute_result"
    }
   ],
   "source": [
    "# df[\"Progress\"]\n",
    "(df[\"DistributionChannel\"] == \"anonymous\").astype(int).sum()"
   ]
  },
  {
   "cell_type": "code",
   "execution_count": 16,
   "metadata": {},
   "outputs": [
    {
     "data": {
      "text/plain": [
       "80"
      ]
     },
     "execution_count": 16,
     "metadata": {},
     "output_type": "execute_result"
    }
   ],
   "source": [
    "len(df.loc[(df[\"Progress\"].astype(int) > 75) | (df[\"Finished\"].astype(int) != 0)])  "
   ]
  },
  {
   "cell_type": "markdown",
   "metadata": {},
   "source": [
    "### Nettoyage / Filtrage\n",
    "\n",
    "- Vérifier la cohérence des données.\n",
    "- Supprimer ou identifier les valeurs manquantes ou aberrantes.\n",
    "- Renommer les colonnes si nécessaire.\n"
   ]
  },
  {
   "cell_type": "code",
   "execution_count": 17,
   "metadata": {},
   "outputs": [
    {
     "data": {
      "text/html": [
       "<div>\n",
       "<style scoped>\n",
       "    .dataframe tbody tr th:only-of-type {\n",
       "        vertical-align: middle;\n",
       "    }\n",
       "\n",
       "    .dataframe tbody tr th {\n",
       "        vertical-align: top;\n",
       "    }\n",
       "\n",
       "    .dataframe thead th {\n",
       "        text-align: right;\n",
       "    }\n",
       "</style>\n",
       "<table border=\"1\" class=\"dataframe\">\n",
       "  <thead>\n",
       "    <tr style=\"text-align: right;\">\n",
       "      <th></th>\n",
       "      <th>StartDate</th>\n",
       "      <th>Progress</th>\n",
       "      <th>Duration (in seconds)</th>\n",
       "      <th>Finished</th>\n",
       "      <th>RecordedDate</th>\n",
       "      <th>ResponseId</th>\n",
       "      <th>DistributionChannel</th>\n",
       "      <th>UserLanguage</th>\n",
       "      <th>Consentement</th>\n",
       "      <th>Timer Video 1_First Click</th>\n",
       "      <th>...</th>\n",
       "      <th>Education.1</th>\n",
       "      <th>Origins</th>\n",
       "      <th>Q17</th>\n",
       "      <th>Q18</th>\n",
       "      <th>Q19</th>\n",
       "      <th>Q20</th>\n",
       "      <th>Q21</th>\n",
       "      <th>id</th>\n",
       "      <th>Source</th>\n",
       "      <th>feedback_type</th>\n",
       "    </tr>\n",
       "  </thead>\n",
       "  <tbody>\n",
       "    <tr>\n",
       "      <th>5</th>\n",
       "      <td>2025-03-14 01:09:01</td>\n",
       "      <td>76</td>\n",
       "      <td>24</td>\n",
       "      <td>0</td>\n",
       "      <td>2025-03-14 01:12:01</td>\n",
       "      <td>R_2qBCQkuA3CFDdud</td>\n",
       "      <td>anonymous</td>\n",
       "      <td>FR</td>\n",
       "      <td>1</td>\n",
       "      <td>NaN</td>\n",
       "      <td>...</td>\n",
       "      <td>NaN</td>\n",
       "      <td>NaN</td>\n",
       "      <td>NaN</td>\n",
       "      <td>NaN</td>\n",
       "      <td>NaN</td>\n",
       "      <td>NaN</td>\n",
       "      <td>NaN</td>\n",
       "      <td>NaN</td>\n",
       "      <td>NaN</td>\n",
       "      <td>audio</td>\n",
       "    </tr>\n",
       "    <tr>\n",
       "      <th>6</th>\n",
       "      <td>2025-04-02 04:07:37</td>\n",
       "      <td>100</td>\n",
       "      <td>893</td>\n",
       "      <td>1</td>\n",
       "      <td>2025-04-02 04:22:31</td>\n",
       "      <td>R_8Do6YUFYQenUARY</td>\n",
       "      <td>anonymous</td>\n",
       "      <td>FR</td>\n",
       "      <td>1</td>\n",
       "      <td>1.785</td>\n",
       "      <td>...</td>\n",
       "      <td>Data science</td>\n",
       "      <td>France</td>\n",
       "      <td>5</td>\n",
       "      <td>5</td>\n",
       "      <td>1,2,3,4,5,6,7,8,9,10</td>\n",
       "      <td>3</td>\n",
       "      <td>4</td>\n",
       "      <td>NaN</td>\n",
       "      <td>NaN</td>\n",
       "      <td>audio</td>\n",
       "    </tr>\n",
       "    <tr>\n",
       "      <th>7</th>\n",
       "      <td>2025-04-02 04:50:45</td>\n",
       "      <td>100</td>\n",
       "      <td>945</td>\n",
       "      <td>1</td>\n",
       "      <td>2025-04-02 05:06:30</td>\n",
       "      <td>R_3to1h0SPRWKMjoP</td>\n",
       "      <td>anonymous</td>\n",
       "      <td>FR</td>\n",
       "      <td>1</td>\n",
       "      <td>3.02</td>\n",
       "      <td>...</td>\n",
       "      <td>bac pro HPS</td>\n",
       "      <td>france</td>\n",
       "      <td>3</td>\n",
       "      <td>2</td>\n",
       "      <td>1,2,3,4,5,6,7,8,9,10</td>\n",
       "      <td>2</td>\n",
       "      <td>3</td>\n",
       "      <td>NaN</td>\n",
       "      <td>NaN</td>\n",
       "      <td>audio</td>\n",
       "    </tr>\n",
       "    <tr>\n",
       "      <th>8</th>\n",
       "      <td>2025-04-02 04:56:20</td>\n",
       "      <td>100</td>\n",
       "      <td>822</td>\n",
       "      <td>1</td>\n",
       "      <td>2025-04-02 05:10:03</td>\n",
       "      <td>R_7YEYfnqKlBiEcLK</td>\n",
       "      <td>anonymous</td>\n",
       "      <td>FR</td>\n",
       "      <td>1</td>\n",
       "      <td>9.996</td>\n",
       "      <td>...</td>\n",
       "      <td>Sciences du vivant</td>\n",
       "      <td>France et Mexique</td>\n",
       "      <td>5</td>\n",
       "      <td>3</td>\n",
       "      <td>1,2,3,4,5,6,7,8,10</td>\n",
       "      <td>1</td>\n",
       "      <td>3</td>\n",
       "      <td>NaN</td>\n",
       "      <td>NaN</td>\n",
       "      <td>audio</td>\n",
       "    </tr>\n",
       "    <tr>\n",
       "      <th>9</th>\n",
       "      <td>2025-04-02 06:28:01</td>\n",
       "      <td>100</td>\n",
       "      <td>2466</td>\n",
       "      <td>1</td>\n",
       "      <td>2025-04-02 07:09:09</td>\n",
       "      <td>R_5NFkJM20zBo2Fhf</td>\n",
       "      <td>anonymous</td>\n",
       "      <td>FR</td>\n",
       "      <td>1</td>\n",
       "      <td>10.201</td>\n",
       "      <td>...</td>\n",
       "      <td>Secrétariat</td>\n",
       "      <td>France</td>\n",
       "      <td>1</td>\n",
       "      <td>2</td>\n",
       "      <td>2,3,5,7,8,9</td>\n",
       "      <td>1</td>\n",
       "      <td>3</td>\n",
       "      <td>NaN</td>\n",
       "      <td>NaN</td>\n",
       "      <td>text</td>\n",
       "    </tr>\n",
       "  </tbody>\n",
       "</table>\n",
       "<p>5 rows × 162 columns</p>\n",
       "</div>"
      ],
      "text/plain": [
       "             StartDate Progress Duration (in seconds)  Finished  \\\n",
       "5  2025-03-14 01:09:01       76                    24         0   \n",
       "6  2025-04-02 04:07:37      100                   893         1   \n",
       "7  2025-04-02 04:50:45      100                   945         1   \n",
       "8  2025-04-02 04:56:20      100                   822         1   \n",
       "9  2025-04-02 06:28:01      100                  2466         1   \n",
       "\n",
       "          RecordedDate         ResponseId DistributionChannel UserLanguage  \\\n",
       "5  2025-03-14 01:12:01  R_2qBCQkuA3CFDdud           anonymous           FR   \n",
       "6  2025-04-02 04:22:31  R_8Do6YUFYQenUARY           anonymous           FR   \n",
       "7  2025-04-02 05:06:30  R_3to1h0SPRWKMjoP           anonymous           FR   \n",
       "8  2025-04-02 05:10:03  R_7YEYfnqKlBiEcLK           anonymous           FR   \n",
       "9  2025-04-02 07:09:09  R_5NFkJM20zBo2Fhf           anonymous           FR   \n",
       "\n",
       "  Consentement Timer Video 1_First Click  ...          Education.1  \\\n",
       "5            1                       NaN  ...                  NaN   \n",
       "6            1                     1.785  ...         Data science   \n",
       "7            1                      3.02  ...          bac pro HPS   \n",
       "8            1                     9.996  ...  Sciences du vivant    \n",
       "9            1                    10.201  ...         Secrétariat    \n",
       "\n",
       "              Origins  Q17  Q18                   Q19  Q20  Q21   id Source  \\\n",
       "5                 NaN  NaN  NaN                   NaN  NaN  NaN  NaN    NaN   \n",
       "6              France    5    5  1,2,3,4,5,6,7,8,9,10    3    4  NaN    NaN   \n",
       "7             france     3    2  1,2,3,4,5,6,7,8,9,10    2    3  NaN    NaN   \n",
       "8  France et Mexique     5    3    1,2,3,4,5,6,7,8,10    1    3  NaN    NaN   \n",
       "9              France    1    2           2,3,5,7,8,9    1    3  NaN    NaN   \n",
       "\n",
       "  feedback_type  \n",
       "5         audio  \n",
       "6         audio  \n",
       "7         audio  \n",
       "8         audio  \n",
       "9          text  \n",
       "\n",
       "[5 rows x 162 columns]"
      ]
     },
     "execution_count": 17,
     "metadata": {},
     "output_type": "execute_result"
    }
   ],
   "source": [
    "# garder seulement les questionnaires finis (à changer si trop peu de données)\n",
    "df['Finished'] = df['Finished'].astype(int)\n",
    "df = df.loc[(df[\"Progress\"].astype(int) > 75) | (df[\"Finished\"].astype(int) != 0)] # df.loc[df[\"Finished\"]!=0]\n",
    "\n",
    "\n",
    "# enlver les previews de test de notre part\n",
    "df = df.loc[df[\"DistributionChannel\"] == \"anonymous\"]\n",
    "\n",
    "# supprimer les colones non pertinentes\n",
    "df = df.drop(columns=[\"EndDate\",\"Status\",\"IPAddress\",\"RecipientLastName\",\"RecipientFirstName\",\"RecipientEmail\",\"ExternalReference\",\"LocationLatitude\",\"LocationLongitude\"], axis=1)\n",
    "\n",
    "# trouver si groupe texte ou audio, et mettre dans la colonne \"subgroup\"\n",
    "df[\"feedback_type\"]= df[\"conf. post 3 (t,NH)_1\"].isna().apply(lambda x: \"audio\" if x else \"text\")\n",
    "\n",
    "df.head()"
   ]
  },
  {
   "cell_type": "code",
   "execution_count": 18,
   "metadata": {},
   "outputs": [
    {
     "data": {
      "text/plain": [
       "77"
      ]
     },
     "execution_count": 18,
     "metadata": {},
     "output_type": "execute_result"
    }
   ],
   "source": [
    "len(df)\n"
   ]
  },
  {
   "cell_type": "markdown",
   "metadata": {},
   "source": [
    "### Renommer les colonnes en minuscules et standardiser l'écriture"
   ]
  },
  {
   "cell_type": "code",
   "execution_count": 19,
   "metadata": {},
   "outputs": [],
   "source": [
    "import re\n",
    "\n",
    "# Step 1: Standardize column names\n",
    "# Convert all to lowercase\n",
    "df.columns = [col.lower() for col in df.columns]\n",
    "\n",
    "# Standardize column names\n",
    "new_columns = {}\n",
    "for col in df.columns:\n",
    "    # Start with the original lowercase column\n",
    "    new_col = col\n",
    "    \n",
    "    # Replace various spellings and accents\n",
    "    new_col = new_col.replace('initale', 'initiale').replace('initialle', 'initiale')\n",
    "    new_col = new_col.replace('vérité', 'verite')\n",
    "    \n",
    "    # Replace spaces with underscores\n",
    "    new_col = new_col.replace(' ', '_').replace('.', '').replace('__', '_').replace('*','')\n",
    "    \n",
    "    # Store mapping\n",
    "    new_columns[col] = new_col\n",
    "\n",
    "# Rename the dataframe columns\n",
    "df_new = df.rename(columns=new_columns)"
   ]
  },
  {
   "cell_type": "markdown",
   "metadata": {},
   "source": [
    "## Création d'un nouveau dataframe avec une ligne par question."
   ]
  },
  {
   "cell_type": "code",
   "execution_count": 49,
   "metadata": {},
   "outputs": [
    {
     "data": {
      "text/html": [
       "<div>\n",
       "<style scoped>\n",
       "    .dataframe tbody tr th:only-of-type {\n",
       "        vertical-align: middle;\n",
       "    }\n",
       "\n",
       "    .dataframe tbody tr th {\n",
       "        vertical-align: top;\n",
       "    }\n",
       "\n",
       "    .dataframe thead th {\n",
       "        text-align: right;\n",
       "    }\n",
       "</style>\n",
       "<table border=\"1\" class=\"dataframe\">\n",
       "  <thead>\n",
       "    <tr style=\"text-align: right;\">\n",
       "      <th></th>\n",
       "      <th>participant_id</th>\n",
       "      <th>video_number</th>\n",
       "      <th>feedback_type</th>\n",
       "      <th>hum_AI</th>\n",
       "      <th>time_on_video</th>\n",
       "      <th>initial_guess</th>\n",
       "      <th>initial_confidence</th>\n",
       "      <th>later_guess</th>\n",
       "      <th>later_confidence</th>\n",
       "      <th>feedback_influence</th>\n",
       "      <th>comments</th>\n",
       "      <th>feedback_change</th>\n",
       "      <th>ground_truth</th>\n",
       "      <th>AI_guess</th>\n",
       "    </tr>\n",
       "  </thead>\n",
       "  <tbody>\n",
       "    <tr>\n",
       "      <th>10</th>\n",
       "      <td>R_8Do6YUFYQenUARY</td>\n",
       "      <td>1</td>\n",
       "      <td>audio</td>\n",
       "      <td>NH</td>\n",
       "      <td>33.9</td>\n",
       "      <td>1</td>\n",
       "      <td>87</td>\n",
       "      <td>1</td>\n",
       "      <td>54</td>\n",
       "      <td>1</td>\n",
       "      <td>NaN</td>\n",
       "      <td>False</td>\n",
       "      <td>2</td>\n",
       "      <td>2</td>\n",
       "    </tr>\n",
       "    <tr>\n",
       "      <th>11</th>\n",
       "      <td>R_8Do6YUFYQenUARY</td>\n",
       "      <td>2</td>\n",
       "      <td>audio</td>\n",
       "      <td>H</td>\n",
       "      <td>56.8</td>\n",
       "      <td>2</td>\n",
       "      <td>68</td>\n",
       "      <td>1</td>\n",
       "      <td>69</td>\n",
       "      <td>1</td>\n",
       "      <td>NaN</td>\n",
       "      <td>True</td>\n",
       "      <td>2</td>\n",
       "      <td>2</td>\n",
       "    </tr>\n",
       "    <tr>\n",
       "      <th>12</th>\n",
       "      <td>R_8Do6YUFYQenUARY</td>\n",
       "      <td>3</td>\n",
       "      <td>audio</td>\n",
       "      <td>NH</td>\n",
       "      <td>32.2</td>\n",
       "      <td>1</td>\n",
       "      <td>64</td>\n",
       "      <td>1</td>\n",
       "      <td>62</td>\n",
       "      <td>1</td>\n",
       "      <td>NaN</td>\n",
       "      <td>False</td>\n",
       "      <td>2</td>\n",
       "      <td>2</td>\n",
       "    </tr>\n",
       "    <tr>\n",
       "      <th>13</th>\n",
       "      <td>R_8Do6YUFYQenUARY</td>\n",
       "      <td>4</td>\n",
       "      <td>audio</td>\n",
       "      <td>H</td>\n",
       "      <td>18.9</td>\n",
       "      <td>2</td>\n",
       "      <td>85</td>\n",
       "      <td>2</td>\n",
       "      <td>68</td>\n",
       "      <td>1</td>\n",
       "      <td>NaN</td>\n",
       "      <td>False</td>\n",
       "      <td>2</td>\n",
       "      <td>1</td>\n",
       "    </tr>\n",
       "    <tr>\n",
       "      <th>14</th>\n",
       "      <td>R_8Do6YUFYQenUARY</td>\n",
       "      <td>5</td>\n",
       "      <td>audio</td>\n",
       "      <td>NH</td>\n",
       "      <td>20.7</td>\n",
       "      <td>1</td>\n",
       "      <td>77</td>\n",
       "      <td>1</td>\n",
       "      <td>91</td>\n",
       "      <td>1</td>\n",
       "      <td>NaN</td>\n",
       "      <td>False</td>\n",
       "      <td>1</td>\n",
       "      <td>1</td>\n",
       "    </tr>\n",
       "  </tbody>\n",
       "</table>\n",
       "</div>"
      ],
      "text/plain": [
       "       participant_id  video_number feedback_type hum_AI  time_on_video  \\\n",
       "10  R_8Do6YUFYQenUARY             1         audio     NH           33.9   \n",
       "11  R_8Do6YUFYQenUARY             2         audio      H           56.8   \n",
       "12  R_8Do6YUFYQenUARY             3         audio     NH           32.2   \n",
       "13  R_8Do6YUFYQenUARY             4         audio      H           18.9   \n",
       "14  R_8Do6YUFYQenUARY             5         audio     NH           20.7   \n",
       "\n",
       "    initial_guess  initial_confidence  later_guess  later_confidence  \\\n",
       "10              1                  87            1                54   \n",
       "11              2                  68            1                69   \n",
       "12              1                  64            1                62   \n",
       "13              2                  85            2                68   \n",
       "14              1                  77            1                91   \n",
       "\n",
       "    feedback_influence comments  feedback_change  ground_truth  AI_guess  \n",
       "10                   1      NaN            False             2         2  \n",
       "11                   1      NaN             True             2         2  \n",
       "12                   1      NaN            False             2         2  \n",
       "13                   1      NaN            False             2         1  \n",
       "14                   1      NaN            False             1         1  "
      ]
     },
     "execution_count": 49,
     "metadata": {},
     "output_type": "execute_result"
    }
   ],
   "source": [
    "\n",
    "# Initialize an empty list to store the restructured data\n",
    "reshaped_data = []\n",
    "\n",
    "#1oui2non\n",
    "\n",
    "gt_guess_dict = {\n",
    "    1: 2,\n",
    "    2: 2,\n",
    "    3: 2,\n",
    "    4: 2,\n",
    "    5: 1,\n",
    "    6: 2,\n",
    "    7: 1,\n",
    "    8: 2,\n",
    "    9: 1,\n",
    "    10: 1}\n",
    "\n",
    "\n",
    "feedb_guess_dict = {\n",
    "    1: 2,\n",
    "    2: 2,\n",
    "    3: 2,\n",
    "    4: 1,\n",
    "    5: 1,\n",
    "    6: 1,\n",
    "    7: 1,\n",
    "    8: 1,\n",
    "    9: 1,\n",
    "    10: 2}\n",
    "\n",
    "\n",
    "# Process each participant\n",
    "for _, row in df_new.iterrows():\n",
    "    participant_id = row['responseid']\n",
    "    feedback_type = row['feedback_type'] if 'feedback_type' in row else None\n",
    "    \n",
    "    # Process each of the 10 videos\n",
    "    for video_num in range(1, 11):\n",
    "        # Extract time spent on the video\n",
    "        timer_base = f'timer_video_{video_num}'\n",
    "        time_submit = np.round(float(row.get(f'{timer_base}_last_click', np.nan))-float(row.get(f'{timer_base}_first_click', np.nan)),1)\n",
    "        time_on_video = time_submit  # Or calculate a difference if needed\n",
    "        \n",
    "        # Extract the initial guess and confidence\n",
    "        # initial_guess_base = f'verite_initiale_{video_num}'\n",
    "        \n",
    "        # initial_guess = None\n",
    "        # for suffix in ['', '_l', '_t']:\n",
    "        #     if f'{initial_guess_base}{suffix}' in row:\n",
    "        #         initial_guess = row[f'{initial_guess_base}{suffix}']\n",
    "        #         if initial_guess is not None:\n",
    "        #             break\n",
    "                \n",
    "        initial_guess_base = f'verite_initiale_{video_num}'\n",
    "        matching_columns = [col for col in row.index if col.startswith(initial_guess_base)]\n",
    "        initial_guess = row[matching_columns[0]]\n",
    "                \n",
    "        # Get initial confidence\n",
    "        initial_conf_base = f'conf_initiale_{video_num}'\n",
    "        matching_columns = [col for col in row.index if col.startswith(initial_conf_base)]\n",
    "        initial_confidence = row[matching_columns[0]]\n",
    "        \n",
    "        \n",
    "        # Determine if feedback was given as human or AI\n",
    "        # Based on video number: odd -> NH, even -> H\n",
    "        hum_AI = \"H\" if video_num % 2 == 0 else \"NH\"\n",
    "        \n",
    "        # Extract the responses based on feedback type\n",
    "        # Simplified to search for base patterns\n",
    "        \n",
    "        # Base patterns for text and audio feedback columns\n",
    "        text_base =  f'verite_post_{video_num}_(t'\n",
    "        text_conf_base = f'conf_post_{video_num}_(t'\n",
    "        text_influence_base = f'influence_{video_num}_(t'\n",
    "        text_comment_base = f'qo_{video_num}_(t'\n",
    "        \n",
    "        audio_base = f'verite_post_{video_num}_(a'\n",
    "        audio_conf_base = f'conf_post_{video_num}_(a'\n",
    "        audio_influence_base = f'influence_{video_num}_(a'\n",
    "        audio_comment_base = f'qo_{video_num}_(a'\n",
    "        \n",
    "        # Choose which set of base patterns to use based on feedback_type\n",
    "        if feedback_type == 'text':\n",
    "            later_guess_base = text_base\n",
    "            later_confidence_base = text_conf_base\n",
    "            influence_base = text_influence_base\n",
    "            comment_base = text_comment_base\n",
    "        else:  # Assuming 'audio'\n",
    "            later_guess_base = audio_base\n",
    "            later_confidence_base = audio_conf_base\n",
    "            influence_base = audio_influence_base\n",
    "            comment_base = audio_comment_base\n",
    "        \n",
    "        # Extract values by matching the base pattern with any column containing it\n",
    "        def get_value_by_base_pattern(bases, row):\n",
    "            matching_cols = [col for col in row.index if col.startswith(bases)]\n",
    "            if matching_cols[0]:\n",
    "                return row[matching_cols[0]]\n",
    "            return None\n",
    "        \n",
    "        later_guess = get_value_by_base_pattern(later_guess_base, row)\n",
    "        later_confidence = get_value_by_base_pattern(later_confidence_base, row)\n",
    "        feedback_influence = get_value_by_base_pattern(influence_base, row)\n",
    "        comments = get_value_by_base_pattern(comment_base, row)\n",
    "        \n",
    "        # Create a dictionary for this video\n",
    "        video_data = {\n",
    "            'participant_id': participant_id,\n",
    "            'video_number': video_num,\n",
    "            'feedback_type': feedback_type,\n",
    "            'hum_AI': hum_AI,  # Add the new column\n",
    "            'time_on_video': time_on_video,\n",
    "            'initial_guess': initial_guess,\n",
    "            'initial_confidence': initial_confidence,\n",
    "            'later_guess': later_guess,\n",
    "            'later_confidence': later_confidence,\n",
    "            'feedback_influence': feedback_influence,\n",
    "            'comments': comments,\n",
    "        }\n",
    "        \n",
    "        # Add to our list\n",
    "        reshaped_data.append(video_data)\n",
    "        \n",
    "# Create the new DataFrame\n",
    "new_df = pd.DataFrame(reshaped_data)\n",
    "\n",
    "# Save to CSV\n",
    "new_df.to_csv('reshaped_lie_detection_data.csv', index=False)\n",
    "\n",
    "new_df[\"feedback_change\"] = new_df[\"initial_guess\"] != new_df[\"later_guess\"]\n",
    "new_df[\"ground_truth\"] = new_df[\"video_number\"].map(gt_guess_dict)\n",
    "new_df[\"AI_guess\"] = new_df[\"video_number\"].map(feedb_guess_dict)\n",
    "\n",
    "# Remove rows with NaNs in the specified columns and reassign to new_df\n",
    "new_df = new_df.dropna(subset=[\"initial_guess\", \"initial_confidence\", \"later_guess\", \"later_confidence\", \"feedback_influence\"])\n",
    "\n",
    "# Convert the specified columns to integers\n",
    "new_df[[\"initial_guess\", \"initial_confidence\", \"later_guess\", \"later_confidence\", \"feedback_influence\"]] = new_df[[\"initial_guess\", \"initial_confidence\", \"later_guess\", \"later_confidence\", \"feedback_influence\"]].astype(int)\n",
    "\n",
    "new_df.head()"
   ]
  },
  {
   "cell_type": "code",
   "execution_count": null,
   "metadata": {},
   "outputs": [
    {
     "data": {
      "text/plain": [
       "(77, 74.3)"
      ]
     },
     "execution_count": 52,
     "metadata": {},
     "output_type": "execute_result"
    }
   ],
   "source": [
    "len(df)"
   ]
  },
  {
   "cell_type": "code",
   "execution_count": 22,
   "metadata": {},
   "outputs": [
    {
     "data": {
      "text/plain": [
       "<Axes: xlabel='feedback_influence', ylabel='Count'>"
      ]
     },
     "execution_count": 22,
     "metadata": {},
     "output_type": "execute_result"
    },
    {
     "data": {
      "image/png": "[encoded data removed]",
      "text/plain": [
       "<Figure size 640x480 with 1 Axes>"
      ]
     },
     "metadata": {},
     "output_type": "display_data"
    }
   ],
   "source": [
    "sns.histplot(data=new_df, x=\"feedback_influence\")"
   ]
  },
  {
   "cell_type": "code",
   "execution_count": 23,
   "metadata": {},
   "outputs": [
    {
     "data": {
      "image/png": "[encoded data removed]",
      "text/plain": [
       "<Figure size 640x480 with 1 Axes>"
      ]
     },
     "metadata": {},
     "output_type": "display_data"
    }
   ],
   "source": [
    "# plot the amount of people that changed their opions after feedback with only 2 bins and xticks no for 0 and yes for 1\n",
    "sns.histplot(data=new_df, x=\"feedback_change\",bins=2)\n",
    "plt.xticks([0, 1], [\"No\", \"Yes\"])\n",
    "plt.xlabel(\"Feedback Change\")\n",
    "plt.ylabel(\"Count\")\n",
    "plt.title(\"Feedback Change Distribution\")\n",
    "plt.show()"
   ]
  },
  {
   "cell_type": "code",
   "execution_count": 24,
   "metadata": {},
   "outputs": [
    {
     "data": {
      "image/png": "[encoded data removed]",
      "text/plain": [
       "<Figure size 600x400 with 1 Axes>"
      ]
     },
     "metadata": {},
     "output_type": "display_data"
    }
   ],
   "source": [
    "import matplotlib.pyplot as plt\n",
    "\n",
    "# Count values\n",
    "no_fb_change_same_fb = np.sum((new_df[\"feedback_change\"] == 0) & (new_df[\"initial_guess\"] != new_df[\"AI_guess\"]))\n",
    "fb_change_same_fb = np.sum((new_df[\"feedback_change\"] == 1) & (new_df[\"initial_guess\"] != new_df[\"AI_guess\"]))\n",
    "\n",
    "# Bar plot\n",
    "labels = [\"No Feedback Change\", \"Feedback Change\"]\n",
    "counts = [no_fb_change_same_fb, fb_change_same_fb]\n",
    "\n",
    "plt.figure(figsize=(6, 4))\n",
    "plt.bar(labels, counts)\n",
    "plt.ylabel(\"Count\")\n",
    "plt.title(\"Count of Changed Guesses when feedback contradicts initial guess\")\n",
    "plt.tight_layout()\n",
    "plt.show()\n"
   ]
  },
  {
   "cell_type": "code",
   "execution_count": null,
   "metadata": {},
   "outputs": [],
   "source": []
  },
  {
   "cell_type": "markdown",
   "metadata": {},
   "source": [
    "## ChatGPT proposed analysis : (A vérifier et completer !!)"
   ]
  },
  {
   "cell_type": "code",
   "execution_count": 25,
   "metadata": {},
   "outputs": [],
   "source": [
    "\n",
    "from scipy import stats\n",
    "import statsmodels.api as sm\n",
    "from statsmodels.formula.api import ols\n",
    "from statsmodels.stats.anova import AnovaRM\n",
    "\n",
    "df2 = new_df.copy()"
   ]
  },
  {
   "cell_type": "code",
   "execution_count": 26,
   "metadata": {},
   "outputs": [],
   "source": [
    "# Whether initial and later guess are correct\n",
    "df2['initial_correct'] = df2['initial_guess'] == df2['ground_truth']\n",
    "df2['later_correct'] = df2['later_guess'] == df2['ground_truth']\n",
    "\n",
    "# Change in confidence and accuracy\n",
    "df2['confidence_change'] = df2['later_confidence'] - df2['initial_confidence']\n",
    "df2['accuracy_change'] = df2['later_correct'].astype(int) - df2['initial_correct'].astype(int)"
   ]
  },
  {
   "cell_type": "code",
   "execution_count": 27,
   "metadata": {},
   "outputs": [
    {
     "data": {
      "text/plain": [
       "'R_2qBCQkuA3CFDdud'"
      ]
     },
     "execution_count": 27,
     "metadata": {},
     "output_type": "execute_result"
    }
   ],
   "source": [
    "df2[\"participant_id\"].iloc[0]"
   ]
  },
  {
   "cell_type": "markdown",
   "metadata": {},
   "source": [
    "### 2x2 Mixed ANOVA\n",
    "\n",
    "- Within: hum_AI (AI vs Human)\n",
    "- Between: feedback_type (Text vs Audio)\n",
    "- DVs: confidence_change, accuracy_change"
   ]
  },
  {
   "cell_type": "code",
   "execution_count": 28,
   "metadata": {},
   "outputs": [],
   "source": [
    "# Aggregate per participant per condition (AI vs Human)\n",
    "agg = df2.groupby(['participant_id', 'feedback_type', 'hum_AI']).agg({\n",
    "    'confidence_change': 'mean',\n",
    "    'accuracy_change': 'mean'\n",
    "}).reset_index()\n"
   ]
  },
  {
   "cell_type": "markdown",
   "metadata": {},
   "source": [
    "##### Run Mixed ANOVA (e.g., for confidence change):"
   ]
  },
  {
   "cell_type": "code",
   "execution_count": 29,
   "metadata": {},
   "outputs": [
    {
     "name": "stdout",
     "output_type": "stream",
     "text": [
      "          Source          SS  DF1  DF2          MS         F     p-unc  \\\n",
      "0  feedback_type  194.646447    1   73  194.646447  1.816243  0.181929   \n",
      "1         hum_AI  194.256600    1   73  194.256600  2.306700  0.133137   \n",
      "2    Interaction    1.860362    1   73    1.860362  0.022091  0.882255   \n",
      "\n",
      "        np2  eps  \n",
      "0  0.024276  NaN  \n",
      "1  0.030631  1.0  \n",
      "2  0.000303  NaN  \n"
     ]
    }
   ],
   "source": [
    "import pingouin as pg\n",
    "\n",
    "aov = pg.mixed_anova(data=agg, dv='confidence_change', \n",
    "                     within='hum_AI', between='feedback_type', \n",
    "                     subject='participant_id')\n",
    "print(aov)\n"
   ]
  },
  {
   "cell_type": "markdown",
   "metadata": {},
   "source": [
    "## Paired t-tests Within Each Group (e.g., audio group AI vs Human)"
   ]
  },
  {
   "cell_type": "code",
   "execution_count": 30,
   "metadata": {},
   "outputs": [
    {
     "name": "stdout",
     "output_type": "stream",
     "text": [
      "Audio group: AI vs Human confidence change t-test: t_stat: nan , p_val : nan\n",
      "Text group: AI vs Human confidence change t-test, t_stat: 1.061359482260804 , p_val : 0.29623276971785223\n"
     ]
    }
   ],
   "source": [
    "audio_group = agg[agg['feedback_type'] == 'audio']\n",
    "text_group = agg[agg['feedback_type'] == 'text']\n",
    "\n",
    "# Paired t-tests within audio group\n",
    "audio_ai = audio_group[audio_group['hum_AI'] == 'NH'].set_index('participant_id')\n",
    "audio_human = audio_group[audio_group['hum_AI'] == 'H'].set_index('participant_id')\n",
    "\n",
    "# Match on participant_id\n",
    "common_ids = audio_ai.index.intersection(audio_human.index)\n",
    "t_stat, p_val = stats.ttest_rel(audio_ai.loc[common_ids, 'confidence_change'],\n",
    "                                 audio_human.loc[common_ids, 'confidence_change'])\n",
    "print(\"Audio group: AI vs Human confidence change t-test: t_stat:\", t_stat,\", p_val :\", p_val)\n",
    "\n",
    "# same for text group\n",
    "text_ai = text_group[text_group['hum_AI'] == 'NH'].set_index('participant_id')\n",
    "text_human = text_group[text_group['hum_AI'] == 'H'].set_index('participant_id')\n",
    "# Match on participant_id\n",
    "common_ids = text_ai.index.intersection(text_human.index)\n",
    "t_stat, p_val = stats.ttest_rel(text_ai.loc[common_ids, 'confidence_change'],\n",
    "                                 text_human.loc[common_ids, 'confidence_change'])\n",
    "print(\"Text group: AI vs Human confidence change t-test, t_stat:\", t_stat,\", p_val :\", p_val)\n"
   ]
  },
  {
   "cell_type": "code",
   "execution_count": 31,
   "metadata": {},
   "outputs": [
    {
     "name": "stdout",
     "output_type": "stream",
     "text": [
      "Audio group: AI vs Human accuracy change t-test, t_stat: 5.079370039680117 , p_val : 8.22425505396701e-06\n",
      "Text group: AI vs Human accuracy change t-test, t_stat: 2.1750801022784043 , p_val : 0.03689158038089369\n"
     ]
    }
   ],
   "source": [
    "# same for accuracy_change\n",
    "# Paired t-tests within audio group\n",
    "audio_ai = audio_group[audio_group['hum_AI'] == 'NH'].set_index('participant_id')\n",
    "audio_human = audio_group[audio_group['hum_AI'] == 'H'].set_index('participant_id')\n",
    "# Match on participant_id\n",
    "common_ids = audio_ai.index.intersection(audio_human.index)\n",
    "t_stat, p_val = stats.ttest_rel(audio_ai.loc[common_ids, 'accuracy_change'],\n",
    "                                 audio_human.loc[common_ids, 'accuracy_change'])\n",
    "print(\"Audio group: AI vs Human accuracy change t-test, t_stat:\", t_stat,\", p_val :\", p_val)\n",
    "# same for text group\n",
    "text_ai = text_group[text_group['hum_AI'] == 'NH'].set_index('participant_id')\n",
    "text_human = text_group[text_group['hum_AI'] == 'H'].set_index('participant_id')\n",
    "# Match on participant_id\n",
    "common_ids = text_ai.index.intersection(text_human.index)\n",
    "t_stat, p_val = stats.ttest_rel(text_ai.loc[common_ids, 'accuracy_change'],\n",
    "                                 text_human.loc[common_ids, 'accuracy_change'])\n",
    "print(\"Text group: AI vs Human accuracy change t-test, t_stat:\", t_stat,\", p_val :\", p_val)"
   ]
  },
  {
   "cell_type": "markdown",
   "metadata": {},
   "source": [
    "## Visualizations : Bar plots for confidence and accuracy change"
   ]
  },
  {
   "cell_type": "code",
   "execution_count": 32,
   "metadata": {},
   "outputs": [
    {
     "name": "stderr",
     "output_type": "stream",
     "text": [
      "/var/folders/p_/nc1tw1g92q71vzkdf1mdpk680000gn/T/ipykernel_18577/1112360397.py:1: FutureWarning: \n",
      "\n",
      "The `ci` parameter is deprecated. Use `errorbar=('ci', 68)` for the same effect.\n",
      "\n",
      "  sns.barplot(data=agg, x='hum_AI', y='confidence_change', hue='feedback_type', ci=68)\n"
     ]
    },
    {
     "data": {
      "image/png": "[encoded data removed]",
      "text/plain": [
       "<Figure size 640x480 with 1 Axes>"
      ]
     },
     "metadata": {},
     "output_type": "display_data"
    }
   ],
   "source": [
    "\n",
    "sns.barplot(data=agg, x='hum_AI', y='confidence_change', hue='feedback_type', ci=68)\n",
    "plt.title(\"Confidence Change by Feedback Source and Modality\")\n",
    "plt.ylabel(\"Mean Confidence Change\")\n",
    "plt.show()\n"
   ]
  },
  {
   "cell_type": "code",
   "execution_count": 33,
   "metadata": {},
   "outputs": [
    {
     "name": "stderr",
     "output_type": "stream",
     "text": [
      "/var/folders/p_/nc1tw1g92q71vzkdf1mdpk680000gn/T/ipykernel_18577/141734533.py:1: FutureWarning: \n",
      "\n",
      "The `ci` parameter is deprecated. Use `errorbar=('ci', 68)` for the same effect.\n",
      "\n",
      "  sns.barplot(data=agg, x='hum_AI', y='accuracy_change', hue='feedback_type', ci=68)\n"
     ]
    },
    {
     "data": {
      "image/png": "[encoded data removed]",
      "text/plain": [
       "<Figure size 640x480 with 1 Axes>"
      ]
     },
     "metadata": {},
     "output_type": "display_data"
    }
   ],
   "source": [
    "sns.barplot(data=agg, x='hum_AI', y='accuracy_change', hue='feedback_type', ci=68)\n",
    "plt.title(\"Accuracy Change by Feedback Source and Modality\")\n",
    "plt.ylabel(\"Mean Accuracy Change\")\n",
    "plt.show()\n"
   ]
  },
  {
   "cell_type": "markdown",
   "metadata": {},
   "source": [
    "## Exploratory Analyses"
   ]
  },
  {
   "cell_type": "markdown",
   "metadata": {},
   "source": [
    "Correlation: confidence change vs feedback_influence"
   ]
  },
  {
   "cell_type": "code",
   "execution_count": 34,
   "metadata": {},
   "outputs": [
    {
     "name": "stdout",
     "output_type": "stream",
     "text": [
      "Correlation between confidence change and perceived feedback influence: -0.11065120479141106\n"
     ]
    }
   ],
   "source": [
    "corr = df2['confidence_change'].corr(df2['feedback_influence'])\n",
    "print(\"Correlation between confidence change and perceived feedback influence:\", corr)\n"
   ]
  },
  {
   "cell_type": "markdown",
   "metadata": {},
   "source": [
    "Time-on-video vs change in confidence"
   ]
  },
  {
   "cell_type": "code",
   "execution_count": 35,
   "metadata": {},
   "outputs": [
    {
     "data": {
      "image/png": "[encoded data removed]",
      "text/plain": [
       "<Figure size 640x480 with 1 Axes>"
      ]
     },
     "metadata": {},
     "output_type": "display_data"
    }
   ],
   "source": [
    "sns.scatterplot(data=df2, x='time_on_video', y='confidence_change', hue='feedback_type')\n",
    "plt.title(\"Time Spent on Video vs. Change in Confidence\")\n",
    "plt.show()\n"
   ]
  },
  {
   "cell_type": "markdown",
   "metadata": {},
   "source": [
    "## Thematic Analysis of Open-ended Responses"
   ]
  },
  {
   "cell_type": "code",
   "execution_count": 36,
   "metadata": {},
   "outputs": [
    {
     "data": {
      "image/png": "[encoded data removed]",
      "text/plain": [
       "<Figure size 640x480 with 1 Axes>"
      ]
     },
     "metadata": {},
     "output_type": "display_data"
    }
   ],
   "source": [
    "from sklearn.feature_extraction.text import CountVectorizer\n",
    "\n",
    "vectorizer = CountVectorizer(stop_words='english', max_features=30)\n",
    "X = vectorizer.fit_transform(df2['comments'].dropna())\n",
    "words = vectorizer.get_feature_names_out()\n",
    "counts = X.toarray().sum(axis=0)\n",
    "\n",
    "top_words = pd.DataFrame({'word': words, 'count': counts}).sort_values(by='count', ascending=False)\n",
    "sns.barplot(data=top_words.head(10), x='count', y='word')\n",
    "plt.title(\"Top 10 Words in Feedback Comments\")\n",
    "plt.show()\n"
   ]
  },
  {
   "cell_type": "markdown",
   "metadata": {},
   "source": [
    "## Participant-Level Summary Stats"
   ]
  },
  {
   "cell_type": "code",
   "execution_count": 37,
   "metadata": {},
   "outputs": [
    {
     "data": {
      "image/png": "[encoded data removed]",
      "text/plain": [
       "<Figure size 1200x400 with 3 Axes>"
      ]
     },
     "metadata": {},
     "output_type": "display_data"
    }
   ],
   "source": [
    "participant_summary = df2.groupby('participant_id').agg({\n",
    "    'confidence_change': 'mean',\n",
    "    'accuracy_change': 'mean',\n",
    "    'feedback_influence': 'mean'\n",
    "}).reset_index()\n",
    "\n",
    "# plot the distribution of confidence, accuracy and feedback influence change\n",
    "plt.figure(figsize=(12, 4))\n",
    "plt.subplot(1, 3, 1)\n",
    "sns.histplot(data=participant_summary, x='confidence_change', bins=10)\n",
    "plt.title(\"Distribution of Confidence Change\")\n",
    "plt.subplot(1, 3, 2)\n",
    "sns.histplot(data=participant_summary, x='accuracy_change', bins=10)\n",
    "plt.title(\"Distribution of Accuracy Change\")\n",
    "plt.subplot(1, 3, 3)\n",
    "sns.histplot(data=participant_summary, x='feedback_influence', bins=10)\n",
    "plt.title(\"Distribution of Feedback Influence\")\n",
    "plt.tight_layout()\n",
    "plt.show()\n",
    "\n",
    "\n",
    "\n"
   ]
  },
  {
   "cell_type": "code",
   "execution_count": 38,
   "metadata": {},
   "outputs": [
    {
     "data": {
      "image/png": "[encoded data removed]",
      "text/plain": [
       "<Figure size 640x480 with 1 Axes>"
      ]
     },
     "metadata": {},
     "output_type": "display_data"
    }
   ],
   "source": [
    "# participants accuracy vs ai guess accuracy\n",
    "AI_acc = (np.array(list(gt_guess_dict.values())) == np.array(list(feedb_guess_dict.values()))).sum()/10\n",
    "participant_accuracy = (df2['initial_guess'] == df2['ground_truth']).sum()/len(df2)\n",
    "participant_accuracy_aft = (df2['later_guess'] == df2['ground_truth']).sum()/len(df2)\n",
    "\n",
    "\n",
    "\n",
    "# plot histogram of the accuracy of the participants and AI on the y axis\n",
    "plt.bar(['Participant','Participants post feedback', 'AI'],[participant_accuracy,participant_accuracy_aft, AI_acc])\n",
    "plt.ylabel(\"Accuracy\")\n",
    "plt.title(\"Accuracy of Participants vs AI\")\n",
    "plt.show()\n",
    "\n"
   ]
  },
  {
   "cell_type": "code",
   "execution_count": 39,
   "metadata": {},
   "outputs": [
    {
     "name": "stderr",
     "output_type": "stream",
     "text": [
      "/opt/anaconda3/envs/SHS/lib/python3.13/site-packages/matplotlib/axes/_axes.py:7124: RuntimeWarning: Converting input from bool to <class 'numpy.uint8'> for compatibility.\n",
      "  m, bins = np.histogram(x[i], bins, weights=w[i], **hist_kwargs)\n"
     ]
    },
    {
     "ename": "TypeError",
     "evalue": "numpy boolean subtract, the `-` operator, is not supported, use the bitwise_xor, the `^` operator, or the logical_xor function instead.",
     "output_type": "error",
     "traceback": [
      "\u001b[31m---------------------------------------------------------------------------\u001b[39m",
      "\u001b[31mKeyError\u001b[39m                                  Traceback (most recent call last)",
      "\u001b[36mFile \u001b[39m\u001b[32m/opt/anaconda3/envs/SHS/lib/python3.13/site-packages/numpy/lib/_histograms_impl.py:350\u001b[39m, in \u001b[36m_unsigned_subtract\u001b[39m\u001b[34m(a, b)\u001b[39m\n\u001b[32m    349\u001b[39m \u001b[38;5;28;01mtry\u001b[39;00m:\n\u001b[32m--> \u001b[39m\u001b[32m350\u001b[39m     unsigned_dt = \u001b[43msigned_to_unsigned\u001b[49m\u001b[43m[\u001b[49m\u001b[43mdt\u001b[49m\u001b[43m.\u001b[49m\u001b[43mtype\u001b[49m\u001b[43m]\u001b[49m\n\u001b[32m    351\u001b[39m \u001b[38;5;28;01mexcept\u001b[39;00m \u001b[38;5;167;01mKeyError\u001b[39;00m:\n",
      "\u001b[31mKeyError\u001b[39m: <class 'numpy.bool'>",
      "\nDuring handling of the above exception, another exception occurred:\n",
      "\u001b[31mTypeError\u001b[39m                                 Traceback (most recent call last)",
      "\u001b[36mCell\u001b[39m\u001b[36m \u001b[39m\u001b[32mIn[39]\u001b[39m\u001b[32m, line 3\u001b[39m\n\u001b[32m      1\u001b[39m \u001b[38;5;66;03m# plot the distribution of the accuracy of the participants\u001b[39;00m\n\u001b[32m      2\u001b[39m plt.figure(figsize=(\u001b[32m8\u001b[39m, \u001b[32m4\u001b[39m))\n\u001b[32m----> \u001b[39m\u001b[32m3\u001b[39m \u001b[43mplt\u001b[49m\u001b[43m.\u001b[49m\u001b[43mhist\u001b[49m\u001b[43m(\u001b[49m\u001b[43mdf2\u001b[49m\u001b[43m[\u001b[49m\u001b[33;43m'\u001b[39;49m\u001b[33;43minitial_guess\u001b[39;49m\u001b[33;43m'\u001b[39;49m\u001b[43m]\u001b[49m\u001b[43m \u001b[49m\u001b[43m==\u001b[49m\u001b[43m \u001b[49m\u001b[43mdf2\u001b[49m\u001b[43m[\u001b[49m\u001b[33;43m'\u001b[39;49m\u001b[33;43mground_truth\u001b[39;49m\u001b[33;43m'\u001b[39;49m\u001b[43m]\u001b[49m\u001b[43m,\u001b[49m\u001b[43m \u001b[49m\u001b[43mbins\u001b[49m\u001b[43m=\u001b[49m\u001b[32;43m10\u001b[39;49m\u001b[43m,\u001b[49m\u001b[43m \u001b[49m\u001b[43malpha\u001b[49m\u001b[43m=\u001b[49m\u001b[32;43m0.5\u001b[39;49m\u001b[43m)\u001b[49m\n\u001b[32m      4\u001b[39m plt.title(\u001b[33m\"\u001b[39m\u001b[33mDistribution of Participants Accuracy\u001b[39m\u001b[33m\"\u001b[39m)\n\u001b[32m      5\u001b[39m plt.xlabel(\u001b[33m\"\u001b[39m\u001b[33mAccuracy\u001b[39m\u001b[33m\"\u001b[39m)\n",
      "\u001b[36mFile \u001b[39m\u001b[32m/opt/anaconda3/envs/SHS/lib/python3.13/site-packages/matplotlib/_api/deprecation.py:453\u001b[39m, in \u001b[36mmake_keyword_only.<locals>.wrapper\u001b[39m\u001b[34m(*args, **kwargs)\u001b[39m\n\u001b[32m    447\u001b[39m \u001b[38;5;28;01mif\u001b[39;00m \u001b[38;5;28mlen\u001b[39m(args) > name_idx:\n\u001b[32m    448\u001b[39m     warn_deprecated(\n\u001b[32m    449\u001b[39m         since, message=\u001b[33m\"\u001b[39m\u001b[33mPassing the \u001b[39m\u001b[38;5;132;01m%(name)s\u001b[39;00m\u001b[33m \u001b[39m\u001b[38;5;132;01m%(obj_type)s\u001b[39;00m\u001b[33m \u001b[39m\u001b[33m\"\u001b[39m\n\u001b[32m    450\u001b[39m         \u001b[33m\"\u001b[39m\u001b[33mpositionally is deprecated since Matplotlib \u001b[39m\u001b[38;5;132;01m%(since)s\u001b[39;00m\u001b[33m; the \u001b[39m\u001b[33m\"\u001b[39m\n\u001b[32m    451\u001b[39m         \u001b[33m\"\u001b[39m\u001b[33mparameter will become keyword-only in \u001b[39m\u001b[38;5;132;01m%(removal)s\u001b[39;00m\u001b[33m.\u001b[39m\u001b[33m\"\u001b[39m,\n\u001b[32m    452\u001b[39m         name=name, obj_type=\u001b[33mf\u001b[39m\u001b[33m\"\u001b[39m\u001b[33mparameter of \u001b[39m\u001b[38;5;132;01m{\u001b[39;00mfunc.\u001b[34m__name__\u001b[39m\u001b[38;5;132;01m}\u001b[39;00m\u001b[33m()\u001b[39m\u001b[33m\"\u001b[39m)\n\u001b[32m--> \u001b[39m\u001b[32m453\u001b[39m \u001b[38;5;28;01mreturn\u001b[39;00m \u001b[43mfunc\u001b[49m\u001b[43m(\u001b[49m\u001b[43m*\u001b[49m\u001b[43margs\u001b[49m\u001b[43m,\u001b[49m\u001b[43m \u001b[49m\u001b[43m*\u001b[49m\u001b[43m*\u001b[49m\u001b[43mkwargs\u001b[49m\u001b[43m)\u001b[49m\n",
      "\u001b[36mFile \u001b[39m\u001b[32m/opt/anaconda3/envs/SHS/lib/python3.13/site-packages/matplotlib/pyplot.py:3467\u001b[39m, in \u001b[36mhist\u001b[39m\u001b[34m(x, bins, range, density, weights, cumulative, bottom, histtype, align, orientation, rwidth, log, color, label, stacked, data, **kwargs)\u001b[39m\n\u001b[32m   3442\u001b[39m \u001b[38;5;129m@_copy_docstring_and_deprecators\u001b[39m(Axes.hist)\n\u001b[32m   3443\u001b[39m \u001b[38;5;28;01mdef\u001b[39;00m\u001b[38;5;250m \u001b[39m\u001b[34mhist\u001b[39m(\n\u001b[32m   3444\u001b[39m     x: ArrayLike | Sequence[ArrayLike],\n\u001b[32m   (...)\u001b[39m\u001b[32m   3465\u001b[39m     BarContainer | Polygon | \u001b[38;5;28mlist\u001b[39m[BarContainer | Polygon],\n\u001b[32m   3466\u001b[39m ]:\n\u001b[32m-> \u001b[39m\u001b[32m3467\u001b[39m     \u001b[38;5;28;01mreturn\u001b[39;00m \u001b[43mgca\u001b[49m\u001b[43m(\u001b[49m\u001b[43m)\u001b[49m\u001b[43m.\u001b[49m\u001b[43mhist\u001b[49m\u001b[43m(\u001b[49m\n\u001b[32m   3468\u001b[39m \u001b[43m        \u001b[49m\u001b[43mx\u001b[49m\u001b[43m,\u001b[49m\n\u001b[32m   3469\u001b[39m \u001b[43m        \u001b[49m\u001b[43mbins\u001b[49m\u001b[43m=\u001b[49m\u001b[43mbins\u001b[49m\u001b[43m,\u001b[49m\n\u001b[32m   3470\u001b[39m \u001b[43m        \u001b[49m\u001b[38;5;28;43mrange\u001b[39;49m\u001b[43m=\u001b[49m\u001b[38;5;28;43mrange\u001b[39;49m\u001b[43m,\u001b[49m\n\u001b[32m   3471\u001b[39m \u001b[43m        \u001b[49m\u001b[43mdensity\u001b[49m\u001b[43m=\u001b[49m\u001b[43mdensity\u001b[49m\u001b[43m,\u001b[49m\n\u001b[32m   3472\u001b[39m \u001b[43m        \u001b[49m\u001b[43mweights\u001b[49m\u001b[43m=\u001b[49m\u001b[43mweights\u001b[49m\u001b[43m,\u001b[49m\n\u001b[32m   3473\u001b[39m \u001b[43m        \u001b[49m\u001b[43mcumulative\u001b[49m\u001b[43m=\u001b[49m\u001b[43mcumulative\u001b[49m\u001b[43m,\u001b[49m\n\u001b[32m   3474\u001b[39m \u001b[43m        \u001b[49m\u001b[43mbottom\u001b[49m\u001b[43m=\u001b[49m\u001b[43mbottom\u001b[49m\u001b[43m,\u001b[49m\n\u001b[32m   3475\u001b[39m \u001b[43m        \u001b[49m\u001b[43mhisttype\u001b[49m\u001b[43m=\u001b[49m\u001b[43mhisttype\u001b[49m\u001b[43m,\u001b[49m\n\u001b[32m   3476\u001b[39m \u001b[43m        \u001b[49m\u001b[43malign\u001b[49m\u001b[43m=\u001b[49m\u001b[43malign\u001b[49m\u001b[43m,\u001b[49m\n\u001b[32m   3477\u001b[39m \u001b[43m        \u001b[49m\u001b[43morientation\u001b[49m\u001b[43m=\u001b[49m\u001b[43morientation\u001b[49m\u001b[43m,\u001b[49m\n\u001b[32m   3478\u001b[39m \u001b[43m        \u001b[49m\u001b[43mrwidth\u001b[49m\u001b[43m=\u001b[49m\u001b[43mrwidth\u001b[49m\u001b[43m,\u001b[49m\n\u001b[32m   3479\u001b[39m \u001b[43m        \u001b[49m\u001b[43mlog\u001b[49m\u001b[43m=\u001b[49m\u001b[43mlog\u001b[49m\u001b[43m,\u001b[49m\n\u001b[32m   3480\u001b[39m \u001b[43m        \u001b[49m\u001b[43mcolor\u001b[49m\u001b[43m=\u001b[49m\u001b[43mcolor\u001b[49m\u001b[43m,\u001b[49m\n\u001b[32m   3481\u001b[39m \u001b[43m        \u001b[49m\u001b[43mlabel\u001b[49m\u001b[43m=\u001b[49m\u001b[43mlabel\u001b[49m\u001b[43m,\u001b[49m\n\u001b[32m   3482\u001b[39m \u001b[43m        \u001b[49m\u001b[43mstacked\u001b[49m\u001b[43m=\u001b[49m\u001b[43mstacked\u001b[49m\u001b[43m,\u001b[49m\n\u001b[32m   3483\u001b[39m \u001b[43m        \u001b[49m\u001b[43m*\u001b[49m\u001b[43m*\u001b[49m\u001b[43m(\u001b[49m\u001b[43m{\u001b[49m\u001b[33;43m\"\u001b[39;49m\u001b[33;43mdata\u001b[39;49m\u001b[33;43m\"\u001b[39;49m\u001b[43m:\u001b[49m\u001b[43m \u001b[49m\u001b[43mdata\u001b[49m\u001b[43m}\u001b[49m\u001b[43m \u001b[49m\u001b[38;5;28;43;01mif\u001b[39;49;00m\u001b[43m \u001b[49m\u001b[43mdata\u001b[49m\u001b[43m \u001b[49m\u001b[38;5;129;43;01mis\u001b[39;49;00m\u001b[43m \u001b[49m\u001b[38;5;129;43;01mnot\u001b[39;49;00m\u001b[43m \u001b[49m\u001b[38;5;28;43;01mNone\u001b[39;49;00m\u001b[43m \u001b[49m\u001b[38;5;28;43;01melse\u001b[39;49;00m\u001b[43m \u001b[49m\u001b[43m{\u001b[49m\u001b[43m}\u001b[49m\u001b[43m)\u001b[49m\u001b[43m,\u001b[49m\n\u001b[32m   3484\u001b[39m \u001b[43m        \u001b[49m\u001b[43m*\u001b[49m\u001b[43m*\u001b[49m\u001b[43mkwargs\u001b[49m\u001b[43m,\u001b[49m\n\u001b[32m   3485\u001b[39m \u001b[43m    \u001b[49m\u001b[43m)\u001b[49m\n",
      "\u001b[36mFile \u001b[39m\u001b[32m/opt/anaconda3/envs/SHS/lib/python3.13/site-packages/matplotlib/_api/deprecation.py:453\u001b[39m, in \u001b[36mmake_keyword_only.<locals>.wrapper\u001b[39m\u001b[34m(*args, **kwargs)\u001b[39m\n\u001b[32m    447\u001b[39m \u001b[38;5;28;01mif\u001b[39;00m \u001b[38;5;28mlen\u001b[39m(args) > name_idx:\n\u001b[32m    448\u001b[39m     warn_deprecated(\n\u001b[32m    449\u001b[39m         since, message=\u001b[33m\"\u001b[39m\u001b[33mPassing the \u001b[39m\u001b[38;5;132;01m%(name)s\u001b[39;00m\u001b[33m \u001b[39m\u001b[38;5;132;01m%(obj_type)s\u001b[39;00m\u001b[33m \u001b[39m\u001b[33m\"\u001b[39m\n\u001b[32m    450\u001b[39m         \u001b[33m\"\u001b[39m\u001b[33mpositionally is deprecated since Matplotlib \u001b[39m\u001b[38;5;132;01m%(since)s\u001b[39;00m\u001b[33m; the \u001b[39m\u001b[33m\"\u001b[39m\n\u001b[32m    451\u001b[39m         \u001b[33m\"\u001b[39m\u001b[33mparameter will become keyword-only in \u001b[39m\u001b[38;5;132;01m%(removal)s\u001b[39;00m\u001b[33m.\u001b[39m\u001b[33m\"\u001b[39m,\n\u001b[32m    452\u001b[39m         name=name, obj_type=\u001b[33mf\u001b[39m\u001b[33m\"\u001b[39m\u001b[33mparameter of \u001b[39m\u001b[38;5;132;01m{\u001b[39;00mfunc.\u001b[34m__name__\u001b[39m\u001b[38;5;132;01m}\u001b[39;00m\u001b[33m()\u001b[39m\u001b[33m\"\u001b[39m)\n\u001b[32m--> \u001b[39m\u001b[32m453\u001b[39m \u001b[38;5;28;01mreturn\u001b[39;00m \u001b[43mfunc\u001b[49m\u001b[43m(\u001b[49m\u001b[43m*\u001b[49m\u001b[43margs\u001b[49m\u001b[43m,\u001b[49m\u001b[43m \u001b[49m\u001b[43m*\u001b[49m\u001b[43m*\u001b[49m\u001b[43mkwargs\u001b[49m\u001b[43m)\u001b[49m\n",
      "\u001b[36mFile \u001b[39m\u001b[32m/opt/anaconda3/envs/SHS/lib/python3.13/site-packages/matplotlib/__init__.py:1521\u001b[39m, in \u001b[36m_preprocess_data.<locals>.inner\u001b[39m\u001b[34m(ax, data, *args, **kwargs)\u001b[39m\n\u001b[32m   1518\u001b[39m \u001b[38;5;129m@functools\u001b[39m.wraps(func)\n\u001b[32m   1519\u001b[39m \u001b[38;5;28;01mdef\u001b[39;00m\u001b[38;5;250m \u001b[39m\u001b[34minner\u001b[39m(ax, *args, data=\u001b[38;5;28;01mNone\u001b[39;00m, **kwargs):\n\u001b[32m   1520\u001b[39m     \u001b[38;5;28;01mif\u001b[39;00m data \u001b[38;5;129;01mis\u001b[39;00m \u001b[38;5;28;01mNone\u001b[39;00m:\n\u001b[32m-> \u001b[39m\u001b[32m1521\u001b[39m         \u001b[38;5;28;01mreturn\u001b[39;00m \u001b[43mfunc\u001b[49m\u001b[43m(\u001b[49m\n\u001b[32m   1522\u001b[39m \u001b[43m            \u001b[49m\u001b[43max\u001b[49m\u001b[43m,\u001b[49m\n\u001b[32m   1523\u001b[39m \u001b[43m            \u001b[49m\u001b[43m*\u001b[49m\u001b[38;5;28;43mmap\u001b[39;49m\u001b[43m(\u001b[49m\u001b[43mcbook\u001b[49m\u001b[43m.\u001b[49m\u001b[43msanitize_sequence\u001b[49m\u001b[43m,\u001b[49m\u001b[43m \u001b[49m\u001b[43margs\u001b[49m\u001b[43m)\u001b[49m\u001b[43m,\u001b[49m\n\u001b[32m   1524\u001b[39m \u001b[43m            \u001b[49m\u001b[43m*\u001b[49m\u001b[43m*\u001b[49m\u001b[43m{\u001b[49m\u001b[43mk\u001b[49m\u001b[43m:\u001b[49m\u001b[43m \u001b[49m\u001b[43mcbook\u001b[49m\u001b[43m.\u001b[49m\u001b[43msanitize_sequence\u001b[49m\u001b[43m(\u001b[49m\u001b[43mv\u001b[49m\u001b[43m)\u001b[49m\u001b[43m \u001b[49m\u001b[38;5;28;43;01mfor\u001b[39;49;00m\u001b[43m \u001b[49m\u001b[43mk\u001b[49m\u001b[43m,\u001b[49m\u001b[43m \u001b[49m\u001b[43mv\u001b[49m\u001b[43m \u001b[49m\u001b[38;5;129;43;01min\u001b[39;49;00m\u001b[43m \u001b[49m\u001b[43mkwargs\u001b[49m\u001b[43m.\u001b[49m\u001b[43mitems\u001b[49m\u001b[43m(\u001b[49m\u001b[43m)\u001b[49m\u001b[43m}\u001b[49m\u001b[43m)\u001b[49m\n\u001b[32m   1526\u001b[39m     bound = new_sig.bind(ax, *args, **kwargs)\n\u001b[32m   1527\u001b[39m     auto_label = (bound.arguments.get(label_namer)\n\u001b[32m   1528\u001b[39m                   \u001b[38;5;129;01mor\u001b[39;00m bound.kwargs.get(label_namer))\n",
      "\u001b[36mFile \u001b[39m\u001b[32m/opt/anaconda3/envs/SHS/lib/python3.13/site-packages/matplotlib/axes/_axes.py:7124\u001b[39m, in \u001b[36mAxes.hist\u001b[39m\u001b[34m(self, x, bins, range, density, weights, cumulative, bottom, histtype, align, orientation, rwidth, log, color, label, stacked, **kwargs)\u001b[39m\n\u001b[32m   7120\u001b[39m \u001b[38;5;66;03m# Loop through datasets\u001b[39;00m\n\u001b[32m   7121\u001b[39m \u001b[38;5;28;01mfor\u001b[39;00m i \u001b[38;5;129;01min\u001b[39;00m \u001b[38;5;28mrange\u001b[39m(nx):\n\u001b[32m   7122\u001b[39m     \u001b[38;5;66;03m# this will automatically overwrite bins,\u001b[39;00m\n\u001b[32m   7123\u001b[39m     \u001b[38;5;66;03m# so that each histogram uses the same bins\u001b[39;00m\n\u001b[32m-> \u001b[39m\u001b[32m7124\u001b[39m     m, bins = \u001b[43mnp\u001b[49m\u001b[43m.\u001b[49m\u001b[43mhistogram\u001b[49m\u001b[43m(\u001b[49m\u001b[43mx\u001b[49m\u001b[43m[\u001b[49m\u001b[43mi\u001b[49m\u001b[43m]\u001b[49m\u001b[43m,\u001b[49m\u001b[43m \u001b[49m\u001b[43mbins\u001b[49m\u001b[43m,\u001b[49m\u001b[43m \u001b[49m\u001b[43mweights\u001b[49m\u001b[43m=\u001b[49m\u001b[43mw\u001b[49m\u001b[43m[\u001b[49m\u001b[43mi\u001b[49m\u001b[43m]\u001b[49m\u001b[43m,\u001b[49m\u001b[43m \u001b[49m\u001b[43m*\u001b[49m\u001b[43m*\u001b[49m\u001b[43mhist_kwargs\u001b[49m\u001b[43m)\u001b[49m\n\u001b[32m   7125\u001b[39m     tops.append(m)\n\u001b[32m   7126\u001b[39m tops = np.array(tops, \u001b[38;5;28mfloat\u001b[39m)  \u001b[38;5;66;03m# causes problems later if it's an int\u001b[39;00m\n",
      "\u001b[36mFile \u001b[39m\u001b[32m/opt/anaconda3/envs/SHS/lib/python3.13/site-packages/numpy/lib/_histograms_impl.py:827\u001b[39m, in \u001b[36mhistogram\u001b[39m\u001b[34m(a, bins, range, density, weights)\u001b[39m\n\u001b[32m    825\u001b[39m \u001b[38;5;66;03m# Pre-compute histogram scaling factor\u001b[39;00m\n\u001b[32m    826\u001b[39m norm_numerator = n_equal_bins\n\u001b[32m--> \u001b[39m\u001b[32m827\u001b[39m norm_denom = \u001b[43m_unsigned_subtract\u001b[49m\u001b[43m(\u001b[49m\u001b[43mlast_edge\u001b[49m\u001b[43m,\u001b[49m\u001b[43m \u001b[49m\u001b[43mfirst_edge\u001b[49m\u001b[43m)\u001b[49m\n\u001b[32m    829\u001b[39m \u001b[38;5;66;03m# We iterate over blocks here for two reasons: the first is that for\u001b[39;00m\n\u001b[32m    830\u001b[39m \u001b[38;5;66;03m# large arrays, it is actually faster (for example for a 10^8 array it\u001b[39;00m\n\u001b[32m    831\u001b[39m \u001b[38;5;66;03m# is 2x as fast) and it results in a memory footprint 3x lower in the\u001b[39;00m\n\u001b[32m    832\u001b[39m \u001b[38;5;66;03m# limit of large arrays.\u001b[39;00m\n\u001b[32m    833\u001b[39m \u001b[38;5;28;01mfor\u001b[39;00m i \u001b[38;5;129;01min\u001b[39;00m _range(\u001b[32m0\u001b[39m, \u001b[38;5;28mlen\u001b[39m(a), BLOCK):\n",
      "\u001b[36mFile \u001b[39m\u001b[32m/opt/anaconda3/envs/SHS/lib/python3.13/site-packages/numpy/lib/_histograms_impl.py:352\u001b[39m, in \u001b[36m_unsigned_subtract\u001b[39m\u001b[34m(a, b)\u001b[39m\n\u001b[32m    350\u001b[39m     unsigned_dt = signed_to_unsigned[dt.type]\n\u001b[32m    351\u001b[39m \u001b[38;5;28;01mexcept\u001b[39;00m \u001b[38;5;167;01mKeyError\u001b[39;00m:\n\u001b[32m--> \u001b[39m\u001b[32m352\u001b[39m     \u001b[38;5;28;01mreturn\u001b[39;00m \u001b[43mnp\u001b[49m\u001b[43m.\u001b[49m\u001b[43msubtract\u001b[49m\u001b[43m(\u001b[49m\u001b[43ma\u001b[49m\u001b[43m,\u001b[49m\u001b[43m \u001b[49m\u001b[43mb\u001b[49m\u001b[43m,\u001b[49m\u001b[43m \u001b[49m\u001b[43mdtype\u001b[49m\u001b[43m=\u001b[49m\u001b[43mdt\u001b[49m\u001b[43m)\u001b[49m\n\u001b[32m    353\u001b[39m \u001b[38;5;28;01melse\u001b[39;00m:\n\u001b[32m    354\u001b[39m     \u001b[38;5;66;03m# we know the inputs are integers, and we are deliberately casting\u001b[39;00m\n\u001b[32m    355\u001b[39m     \u001b[38;5;66;03m# signed to unsigned.  The input may be negative python integers so\u001b[39;00m\n\u001b[32m    356\u001b[39m     \u001b[38;5;66;03m# ensure we pass in arrays with the initial dtype (related to NEP 50).\u001b[39;00m\n\u001b[32m    357\u001b[39m     \u001b[38;5;28;01mreturn\u001b[39;00m np.subtract(np.asarray(a, dtype=dt), np.asarray(b, dtype=dt),\n\u001b[32m    358\u001b[39m                        casting=\u001b[33m'\u001b[39m\u001b[33munsafe\u001b[39m\u001b[33m'\u001b[39m, dtype=unsigned_dt)\n",
      "\u001b[31mTypeError\u001b[39m: numpy boolean subtract, the `-` operator, is not supported, use the bitwise_xor, the `^` operator, or the logical_xor function instead."
     ]
    },
    {
     "data": {
      "image/png": "[encoded data removed]",
      "text/plain": [
       "<Figure size 800x400 with 1 Axes>"
      ]
     },
     "metadata": {},
     "output_type": "display_data"
    }
   ],
   "source": [
    "# plot the distribution of the accuracy of the participants\n",
    "plt.figure(figsize=(8, 4))\n",
    "plt.hist(df2['initial_guess'] == df2['ground_truth'], bins=10, alpha=0.5)\n",
    "plt.title(\"Distribution of Participants Accuracy\")\n",
    "plt.xlabel(\"Accuracy\")\n",
    "plt.ylabel(\"Count\")\n",
    "plt.legend()\n",
    "plt.show()\n",
    "\n"
   ]
  },
  {
   "cell_type": "code",
   "execution_count": null,
   "metadata": {},
   "outputs": [
    {
     "data": {
      "text/plain": [
       "(Index(['participant_id', 'video_number', 'feedback_type', 'hum_AI',\n",
       "        'time_on_video', 'initial_guess', 'initial_confidence', 'later_guess',\n",
       "        'later_confidence', 'feedback_influence', 'comments', 'feedback_change',\n",
       "        'ground_truth', 'AI_guess', 'initial_correct', 'later_correct',\n",
       "        'confidence_change', 'accuracy_change', 'AI_guess_correct',\n",
       "        'participant_accuracy'],\n",
       "       dtype='object'),\n",
       " np.float64(0.5375))"
      ]
     },
     "execution_count": 145,
     "metadata": {},
     "output_type": "execute_result"
    }
   ],
   "source": [
    "df2.columns, participant_accuracy"
   ]
  },
  {
   "cell_type": "code",
   "execution_count": null,
   "metadata": {},
   "outputs": [],
   "source": []
  },
  {
   "cell_type": "code",
   "execution_count": null,
   "metadata": {},
   "outputs": [],
   "source": []
  },
  {
   "cell_type": "code",
   "execution_count": null,
   "metadata": {},
   "outputs": [],
   "source": []
  },
  {
   "cell_type": "code",
   "execution_count": null,
   "metadata": {},
   "outputs": [],
   "source": []
  },
  {
   "cell_type": "code",
   "execution_count": null,
   "metadata": {},
   "outputs": [],
   "source": []
  },
  {
   "cell_type": "code",
   "execution_count": null,
   "metadata": {},
   "outputs": [],
   "source": []
  },
  {
   "cell_type": "markdown",
   "metadata": {},
   "source": [
    "# Trucs de Lio qui sont là depuis le début, pas sûr que c'est utile ..."
   ]
  },
  {
   "cell_type": "code",
   "execution_count": null,
   "metadata": {},
   "outputs": [
    {
     "name": "stdout",
     "output_type": "stream",
     "text": [
      "<class 'pandas.core.frame.DataFrame'>\n",
      "Index: 40 entries, 6 to 64\n",
      "Columns: 162 entries, startdate to feedback_type\n",
      "dtypes: int64(1), object(161)\n",
      "memory usage: 50.9+ KB\n"
     ]
    },
    {
     "data": {
      "text/html": [
       "<div>\n",
       "<style scoped>\n",
       "    .dataframe tbody tr th:only-of-type {\n",
       "        vertical-align: middle;\n",
       "    }\n",
       "\n",
       "    .dataframe tbody tr th {\n",
       "        vertical-align: top;\n",
       "    }\n",
       "\n",
       "    .dataframe thead th {\n",
       "        text-align: right;\n",
       "    }\n",
       "</style>\n",
       "<table border=\"1\" class=\"dataframe\">\n",
       "  <thead>\n",
       "    <tr style=\"text-align: right;\">\n",
       "      <th></th>\n",
       "      <th>finished</th>\n",
       "    </tr>\n",
       "  </thead>\n",
       "  <tbody>\n",
       "    <tr>\n",
       "      <th>count</th>\n",
       "      <td>40.0</td>\n",
       "    </tr>\n",
       "    <tr>\n",
       "      <th>mean</th>\n",
       "      <td>1.0</td>\n",
       "    </tr>\n",
       "    <tr>\n",
       "      <th>std</th>\n",
       "      <td>0.0</td>\n",
       "    </tr>\n",
       "    <tr>\n",
       "      <th>min</th>\n",
       "      <td>1.0</td>\n",
       "    </tr>\n",
       "    <tr>\n",
       "      <th>25%</th>\n",
       "      <td>1.0</td>\n",
       "    </tr>\n",
       "    <tr>\n",
       "      <th>50%</th>\n",
       "      <td>1.0</td>\n",
       "    </tr>\n",
       "    <tr>\n",
       "      <th>75%</th>\n",
       "      <td>1.0</td>\n",
       "    </tr>\n",
       "    <tr>\n",
       "      <th>max</th>\n",
       "      <td>1.0</td>\n",
       "    </tr>\n",
       "  </tbody>\n",
       "</table>\n",
       "</div>"
      ],
      "text/plain": [
       "       finished\n",
       "count      40.0\n",
       "mean        1.0\n",
       "std         0.0\n",
       "min         1.0\n",
       "25%         1.0\n",
       "50%         1.0\n",
       "75%         1.0\n",
       "max         1.0"
      ]
     },
     "execution_count": 68,
     "metadata": {},
     "output_type": "execute_result"
    }
   ],
   "source": [
    "# Exemple (à adapter):\n",
    "# df = df.dropna(subset=[\"participant_id\", \"accuracy_pre\", \"accuracy_post\", \"confidence_pre\", \"confidence_post\"])\n",
    "\n",
    "# Renommer si besoin\n",
    "# df.rename(columns={\n",
    "#     \"old_colname_1\": \"accuracy_pre\",\n",
    "#     \"old_colname_2\": \"accuracy_post\",\n",
    "#     ...\n",
    "# }, inplace=True)\n",
    "\n",
    "df.info()\n",
    "df.describe()\n"
   ]
  },
  {
   "cell_type": "markdown",
   "metadata": {},
   "source": [
    "## 2. Création des variables d'intérêt\n",
    "\n",
    "Ici, on crée par exemple la différence de précision et de confiance (post - pré) pour chaque participant.\n"
   ]
  },
  {
   "cell_type": "code",
   "execution_count": null,
   "metadata": {},
   "outputs": [],
   "source": [
    "# Supposez que df contient déjà accuracy_pre, accuracy_post, confidence_pre, confidence_post\n",
    "df[\"accuracy_diff\"] = df[\"accuracy_post\"] - df[\"accuracy_pre\"]\n",
    "df[\"confidence_diff\"] = df[\"confidence_post\"] - df[\"confidence_pre\"]\n",
    "\n",
    "df.head()\n"
   ]
  },
  {
   "cell_type": "markdown",
   "metadata": {},
   "source": [
    "## 3. Statistiques descriptives\n"
   ]
  },
  {
   "cell_type": "code",
   "execution_count": null,
   "metadata": {},
   "outputs": [
    {
     "ename": "NameError",
     "evalue": "name 'df' is not defined",
     "output_type": "error",
     "traceback": [
      "\u001b[1;31m---------------------------------------------------------------------------\u001b[0m",
      "\u001b[1;31mNameError\u001b[0m                                 Traceback (most recent call last)",
      "Cell \u001b[1;32mIn[4], line 2\u001b[0m\n\u001b[0;32m      1\u001b[0m \u001b[38;5;66;03m# Statistiques descriptives globales\u001b[39;00m\n\u001b[1;32m----> 2\u001b[0m \u001b[38;5;28mprint\u001b[39m(\u001b[43mdf\u001b[49m[[\u001b[38;5;124m\"\u001b[39m\u001b[38;5;124maccuracy_pre\u001b[39m\u001b[38;5;124m\"\u001b[39m, \u001b[38;5;124m\"\u001b[39m\u001b[38;5;124maccuracy_post\u001b[39m\u001b[38;5;124m\"\u001b[39m, \u001b[38;5;124m\"\u001b[39m\u001b[38;5;124mconfidence_pre\u001b[39m\u001b[38;5;124m\"\u001b[39m, \u001b[38;5;124m\"\u001b[39m\u001b[38;5;124mconfidence_post\u001b[39m\u001b[38;5;124m\"\u001b[39m]]\u001b[38;5;241m.\u001b[39mdescribe())\n\u001b[0;32m      4\u001b[0m \u001b[38;5;66;03m# Par groupe de Feedback Modality (Audio vs. Texte) et Feedback Source (Humain vs. IA)\u001b[39;00m\n\u001b[0;32m      5\u001b[0m group_stats \u001b[38;5;241m=\u001b[39m df\u001b[38;5;241m.\u001b[39mgroupby([\u001b[38;5;124m\"\u001b[39m\u001b[38;5;124mfeedback_modality\u001b[39m\u001b[38;5;124m\"\u001b[39m, \u001b[38;5;124m\"\u001b[39m\u001b[38;5;124mfeedback_source\u001b[39m\u001b[38;5;124m\"\u001b[39m])[[\u001b[38;5;124m\"\u001b[39m\u001b[38;5;124maccuracy_pre\u001b[39m\u001b[38;5;124m\"\u001b[39m,\u001b[38;5;124m\"\u001b[39m\u001b[38;5;124maccuracy_post\u001b[39m\u001b[38;5;124m\"\u001b[39m,\u001b[38;5;124m\"\u001b[39m\u001b[38;5;124mconfidence_pre\u001b[39m\u001b[38;5;124m\"\u001b[39m,\u001b[38;5;124m\"\u001b[39m\u001b[38;5;124mconfidence_post\u001b[39m\u001b[38;5;124m\"\u001b[39m]]\u001b[38;5;241m.\u001b[39mdescribe()\n",
      "\u001b[1;31mNameError\u001b[0m: name 'df' is not defined"
     ]
    }
   ],
   "source": [
    "# Statistiques descriptives globales\n",
    "print(df[[\"accuracy_pre\", \"accuracy_post\", \"confidence_pre\", \"confidence_post\"]].describe())\n",
    "\n",
    "# Par groupe de Feedback Modality (Audio vs. Texte) et Feedback Source (Humain vs. IA)\n",
    "group_stats = df.groupby([\"feedback_modality\", \"feedback_source\"])[[\"accuracy_pre\",\"accuracy_post\",\"confidence_pre\",\"confidence_post\"]].describe()\n",
    "group_stats\n"
   ]
  },
  {
   "cell_type": "markdown",
   "metadata": {},
   "source": [
    "### Visualisation (optionnel)\n",
    "\n",
    "On peut faire quelques graphiques (histogrammes, boxplots) pour visualiser la distribution des variables et tester la normalité.\n"
   ]
  },
  {
   "cell_type": "code",
   "execution_count": null,
   "metadata": {},
   "outputs": [
    {
     "ename": "NameError",
     "evalue": "name 'df' is not defined",
     "output_type": "error",
     "traceback": [
      "\u001b[1;31m---------------------------------------------------------------------------\u001b[0m",
      "\u001b[1;31mNameError\u001b[0m                                 Traceback (most recent call last)",
      "Cell \u001b[1;32mIn[5], line 3\u001b[0m\n\u001b[0;32m      1\u001b[0m \u001b[38;5;66;03m# Histograms\u001b[39;00m\n\u001b[0;32m      2\u001b[0m fig, axes \u001b[38;5;241m=\u001b[39m plt\u001b[38;5;241m.\u001b[39msubplots(\u001b[38;5;241m1\u001b[39m, \u001b[38;5;241m2\u001b[39m, figsize\u001b[38;5;241m=\u001b[39m(\u001b[38;5;241m10\u001b[39m,\u001b[38;5;241m4\u001b[39m))\n\u001b[1;32m----> 3\u001b[0m axes[\u001b[38;5;241m0\u001b[39m]\u001b[38;5;241m.\u001b[39mhist(\u001b[43mdf\u001b[49m[\u001b[38;5;124m\"\u001b[39m\u001b[38;5;124maccuracy_diff\u001b[39m\u001b[38;5;124m\"\u001b[39m]\u001b[38;5;241m.\u001b[39mdropna(), bins\u001b[38;5;241m=\u001b[39m\u001b[38;5;241m10\u001b[39m)\n\u001b[0;32m      4\u001b[0m axes[\u001b[38;5;241m0\u001b[39m]\u001b[38;5;241m.\u001b[39mset_title(\u001b[38;5;124m\"\u001b[39m\u001b[38;5;124mDistribution accuracy_diff\u001b[39m\u001b[38;5;124m\"\u001b[39m)\n\u001b[0;32m      6\u001b[0m axes[\u001b[38;5;241m1\u001b[39m]\u001b[38;5;241m.\u001b[39mhist(df[\u001b[38;5;124m\"\u001b[39m\u001b[38;5;124mconfidence_diff\u001b[39m\u001b[38;5;124m\"\u001b[39m]\u001b[38;5;241m.\u001b[39mdropna(), bins\u001b[38;5;241m=\u001b[39m\u001b[38;5;241m10\u001b[39m)\n",
      "\u001b[1;31mNameError\u001b[0m: name 'df' is not defined"
     ]
    },
    {
     "data": {
      "image/png": "[encoded data removed]",
      "text/plain": [
       "<Figure size 1000x400 with 2 Axes>"
      ]
     },
     "metadata": {},
     "output_type": "display_data"
    }
   ],
   "source": [
    "# Histograms\n",
    "fig, axes = plt.subplots(1, 2, figsize=(10,4))\n",
    "axes[0].hist(df[\"accuracy_diff\"].dropna(), bins=10)\n",
    "axes[0].set_title(\"Distribution accuracy_diff\")\n",
    "\n",
    "axes[1].hist(df[\"confidence_diff\"].dropna(), bins=10)\n",
    "axes[1].set_title(\"Distribution confidence_diff\")\n",
    "\n",
    "plt.show()\n"
   ]
  },
  {
   "cell_type": "markdown",
   "metadata": {},
   "source": [
    "## 4. ANOVA mixte 2×2\n",
    "\n",
    "Nous avons :\n",
    "- Facteur intra-sujets : Feedback Source (Humain vs. IA)\n",
    "- Facteur inter-sujets : Feedback Modality (Audio vs. Texte)\n",
    "- Variable dépendante : par exemple *accuracy_diff* (et on fera la même chose pour *confidence_diff*).\n",
    "\n",
    "### Option A : Avec Pingouin (Mixed ANOVA)\n"
   ]
  },
  {
   "cell_type": "code",
   "execution_count": null,
   "metadata": {},
   "outputs": [],
   "source": [
    "# Exemple si vous utilisez pingouin.\n",
    "# 1. Il faut avoir un format \"long\" :\n",
    "#    Chaque participant apparaît dans 2 lignes (Humain vs. IA) pour la mesure within-subject\n",
    "#    feedback_modality reste constant pour le participant.\n",
    "\n",
    "# Démélangez ou \"melt\" si nécessaire. Supposez que vous avez une variable 'feedback_source' \n",
    "# déjà incrémentée sur chaque ligne. \n",
    "# Sinon, vous devez réorganiser le DataFrame (pivot_longer, etc.).\n",
    "\n",
    "# Pour la démonstration seulement (pseudo-code):\n",
    "\"\"\"\n",
    "df_long = pd.melt(\n",
    "    df, \n",
    "    id_vars=[\"participant_id\", \"feedback_modality\"], \n",
    "    value_vars=[\"accuracy_diff_humain\",\"accuracy_diff_IA\"], \n",
    "    var_name=\"feedback_source\", \n",
    "    value_name=\"accuracy_diff\"\n",
    ")\n",
    "# feedback_source pourra être \"humain\" ou \"IA\" selon la colonne d'origine\n",
    "# Ensuite:\n",
    "anova_results = pg.mixed_anova(dv=\"accuracy_diff\",\n",
    "                               within=\"feedback_source\",\n",
    "                               between=\"feedback_modality\",\n",
    "                               subject=\"participant_id\",\n",
    "                               data=df_long)\n",
    "print(anova_results)\n",
    "\"\"\"\n"
   ]
  },
  {
   "cell_type": "markdown",
   "metadata": {},
   "source": [
    "### Option B : Avec Statsmodels (MixedLM)\n",
    "\n",
    "Il faut un modèle linéaire mixte, avec participant_id comme effet aléatoire (group).  \n",
    "Vous pouvez également modéliser l’interaction.\n",
    "\n",
    "*(La mise en forme dépend de la manière dont vos données sont structurées.)*\n"
   ]
  },
  {
   "cell_type": "code",
   "execution_count": null,
   "metadata": {},
   "outputs": [
    {
     "data": {
      "text/plain": [
       "'\\nmodel = smf.mixedlm(\"accuracy_diff ~ feedback_source * feedback_modality\", \\n                    df_long, \\n                    groups=df_long[\"participant_id\"])\\nfit = model.fit()\\nprint(fit.summary())\\n'"
      ]
     },
     "execution_count": 6,
     "metadata": {},
     "output_type": "execute_result"
    }
   ],
   "source": [
    "# Exemple très simplifié (vous devrez sans doute adapter le code et le format):\n",
    "# Notons que dans Statsmodels, il faut coder feedback_source en 0/1 ou en variable catégorielle.\n",
    "\n",
    "# Supposez que feedback_source (Humain vs. IA) et feedback_modality (Audio vs. Texte) \n",
    "# sont des colonnes du DF 'df_long' (chaque ligne = 1 participant × 1 condition).\n",
    "# On va créer un modèle mixte:\n",
    "\"\"\"\n",
    "model = smf.mixedlm(\"accuracy_diff ~ feedback_source * feedback_modality\", \n",
    "                    df_long, \n",
    "                    groups=df_long[\"participant_id\"])\n",
    "fit = model.fit()\n",
    "print(fit.summary())\n",
    "\"\"\"\n"
   ]
  },
  {
   "cell_type": "markdown",
   "metadata": {},
   "source": [
    "## 5. Comparaisons t-tests appariés (avant/après)\n"
   ]
  },
  {
   "cell_type": "code",
   "execution_count": null,
   "metadata": {},
   "outputs": [
    {
     "ename": "NameError",
     "evalue": "name 'df' is not defined",
     "output_type": "error",
     "traceback": [
      "\u001b[1;31m---------------------------------------------------------------------------\u001b[0m",
      "\u001b[1;31mNameError\u001b[0m                                 Traceback (most recent call last)",
      "Cell \u001b[1;32mIn[7], line 2\u001b[0m\n\u001b[0;32m      1\u001b[0m \u001b[38;5;66;03m# Exemple : Comparer la confiance avant/après pour le groupe \"audio\"\u001b[39;00m\n\u001b[1;32m----> 2\u001b[0m audio_df \u001b[38;5;241m=\u001b[39m \u001b[43mdf\u001b[49m[df[\u001b[38;5;124m\"\u001b[39m\u001b[38;5;124mfeedback_modality\u001b[39m\u001b[38;5;124m\"\u001b[39m] \u001b[38;5;241m==\u001b[39m \u001b[38;5;124m\"\u001b[39m\u001b[38;5;124maudio\u001b[39m\u001b[38;5;124m\"\u001b[39m]\u001b[38;5;241m.\u001b[39mdropna(subset\u001b[38;5;241m=\u001b[39m[\u001b[38;5;124m\"\u001b[39m\u001b[38;5;124mconfidence_pre\u001b[39m\u001b[38;5;124m\"\u001b[39m,\u001b[38;5;124m\"\u001b[39m\u001b[38;5;124mconfidence_post\u001b[39m\u001b[38;5;124m\"\u001b[39m])\n\u001b[0;32m      3\u001b[0m t_stat, p_val \u001b[38;5;241m=\u001b[39m stats\u001b[38;5;241m.\u001b[39mttest_rel(audio_df[\u001b[38;5;124m\"\u001b[39m\u001b[38;5;124mconfidence_pre\u001b[39m\u001b[38;5;124m\"\u001b[39m], audio_df[\u001b[38;5;124m\"\u001b[39m\u001b[38;5;124mconfidence_post\u001b[39m\u001b[38;5;124m\"\u001b[39m])\n\u001b[0;32m      4\u001b[0m \u001b[38;5;28mprint\u001b[39m(\u001b[38;5;124mf\u001b[39m\u001b[38;5;124m\"\u001b[39m\u001b[38;5;124mGroupe Audio - t=\u001b[39m\u001b[38;5;132;01m{\u001b[39;00mt_stat\u001b[38;5;132;01m:\u001b[39;00m\u001b[38;5;124m.2f\u001b[39m\u001b[38;5;132;01m}\u001b[39;00m\u001b[38;5;124m, p=\u001b[39m\u001b[38;5;132;01m{\u001b[39;00mp_val\u001b[38;5;132;01m:\u001b[39;00m\u001b[38;5;124m.4f\u001b[39m\u001b[38;5;132;01m}\u001b[39;00m\u001b[38;5;124m\"\u001b[39m)\n",
      "\u001b[1;31mNameError\u001b[0m: name 'df' is not defined"
     ]
    }
   ],
   "source": [
    "# Exemple : Comparer la confiance avant/après pour le groupe \"audio\"\n",
    "audio_df = df[df[\"feedback_modality\"] == \"audio\"].dropna(subset=[\"confidence_pre\",\"confidence_post\"])\n",
    "t_stat, p_val = stats.ttest_rel(audio_df[\"confidence_pre\"], audio_df[\"confidence_post\"])\n",
    "print(f\"Groupe Audio - t={t_stat:.2f}, p={p_val:.4f}\")\n",
    "\n",
    "# Faire la même chose pour d'autres sous-groupes ou pour la variable accuracy_pre vs accuracy_post\n"
   ]
  },
  {
   "cell_type": "markdown",
   "metadata": {},
   "source": [
    "## 6. Analyse qualitative des réponses ouvertes\n",
    "\n",
    "Vous pouvez faire un premier aperçu en affichant les réponses, puis procéder à un codage manuel ou semi-automatisé.\n"
   ]
  },
  {
   "cell_type": "code",
   "execution_count": null,
   "metadata": {},
   "outputs": [],
   "source": [
    "# Exemple : si la question ouverte est dans une colonne \"open_response\"\n",
    "# On peut consulter les premières réponses\n",
    "if \"open_response\" in df.columns:\n",
    "    for idx, resp in enumerate(df[\"open_response\"].dropna().head(10)):\n",
    "        print(f\"Participant {idx}: {resp}\\n\")\n"
   ]
  },
  {
   "cell_type": "markdown",
   "metadata": {},
   "source": [
    "*(Ensuite, l’analyse approfondie peut se faire hors-ligne ou via un script dédié, \n",
    "avec par ex. des techniques de text-mining ou un codage thématique manuel.)*\n",
    "\n",
    "---\n",
    "\n",
    "## 7. Conclusion / Interprétation\n",
    "\n",
    "- Interprétez les résultats des analyses (ANOVA, t-tests, etc.).\n",
    "- Discutez des effets principaux, interactions et éventuels effets post hoc.\n",
    "- Intégrez les thèmes émergents de l’analyse qualitative.\n",
    "\n",
    "---\n"
   ]
  }
 ],
 "metadata": {
  "kernelspec": {
   "display_name": "SHS",
   "language": "python",
   "name": "python3"
  },
  "language_info": {
   "codemirror_mode": {
    "name": "ipython",
    "version": 3
   },
   "file_extension": ".py",
   "mimetype": "text/x-python",
   "name": "python",
   "nbconvert_exporter": "python",
   "pygments_lexer": "ipython3",
   "version": "3.13.2"
  }
 },
 "nbformat": 4,
 "nbformat_minor": 2
}
