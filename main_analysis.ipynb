{
 "cells": [
  {
   "cell_type": "markdown",
   "metadata": {},
   "source": [
    "# Analyse Statistique"
   ]
  },
  {
   "cell_type": "markdown",
   "metadata": {},
   "source": [
    "### 1. Imports"
   ]
  },
  {
   "cell_type": "code",
   "execution_count": 51,
   "metadata": {},
   "outputs": [],
   "source": [
    "# --------------------------------------------------------\n",
    "# 0. Importations initiales\n",
    "# --------------------------------------------------------\n",
    "import pandas as pd\n",
    "import numpy as np\n",
    "import scipy.stats as stats\n",
    "import statsmodels.formula.api as smf\n",
    "#import pingouin as pg  # <-- vous pouvez décommenter si vous voulez utiliser Pingouin\n",
    "import matplotlib.pyplot as plt\n",
    "import seaborn as sns\n",
    "from scipy.stats import pearsonr\n",
    "import statsmodels.formula.api as smf\n",
    "\n",
    "# Optionnel : configurations esthétiques\n",
    "# plt.style.use('ggplot')   # par exemple, ou autre\n"
   ]
  },
  {
   "cell_type": "markdown",
   "metadata": {},
   "source": [
    "## 1. Chargement et préparation des données"
   ]
  },
  {
   "cell_type": "code",
   "execution_count": 2,
   "metadata": {},
   "outputs": [
    {
     "data": {
      "text/html": [
       "<div>\n",
       "<style scoped>\n",
       "    .dataframe tbody tr th:only-of-type {\n",
       "        vertical-align: middle;\n",
       "    }\n",
       "\n",
       "    .dataframe tbody tr th {\n",
       "        vertical-align: top;\n",
       "    }\n",
       "\n",
       "    .dataframe thead th {\n",
       "        text-align: right;\n",
       "    }\n",
       "</style>\n",
       "<table border=\"1\" class=\"dataframe\">\n",
       "  <thead>\n",
       "    <tr style=\"text-align: right;\">\n",
       "      <th></th>\n",
       "      <th>StartDate</th>\n",
       "      <th>EndDate</th>\n",
       "      <th>Status</th>\n",
       "      <th>IPAddress</th>\n",
       "      <th>Progress</th>\n",
       "      <th>Duration (in seconds)</th>\n",
       "      <th>Finished</th>\n",
       "      <th>RecordedDate</th>\n",
       "      <th>ResponseId</th>\n",
       "      <th>RecipientLastName</th>\n",
       "      <th>...</th>\n",
       "      <th>Education</th>\n",
       "      <th>Education.1</th>\n",
       "      <th>Origins</th>\n",
       "      <th>Q17</th>\n",
       "      <th>Q18</th>\n",
       "      <th>Q19</th>\n",
       "      <th>Q20</th>\n",
       "      <th>Q21</th>\n",
       "      <th>id</th>\n",
       "      <th>Source</th>\n",
       "    </tr>\n",
       "  </thead>\n",
       "  <tbody>\n",
       "    <tr>\n",
       "      <th>2</th>\n",
       "      <td>2025-03-04 13:08:42</td>\n",
       "      <td>2025-03-04 13:15:49</td>\n",
       "      <td>1</td>\n",
       "      <td>NaN</td>\n",
       "      <td>100</td>\n",
       "      <td>427</td>\n",
       "      <td>1</td>\n",
       "      <td>2025-03-04 13:15:50</td>\n",
       "      <td>R_8KoMYiS7pLDRnTb</td>\n",
       "      <td>NaN</td>\n",
       "      <td>...</td>\n",
       "      <td>NaN</td>\n",
       "      <td>NaN</td>\n",
       "      <td>NaN</td>\n",
       "      <td>NaN</td>\n",
       "      <td>NaN</td>\n",
       "      <td>NaN</td>\n",
       "      <td>NaN</td>\n",
       "      <td>NaN</td>\n",
       "      <td>NaN</td>\n",
       "      <td>NaN</td>\n",
       "    </tr>\n",
       "    <tr>\n",
       "      <th>3</th>\n",
       "      <td>2025-03-12 02:34:38</td>\n",
       "      <td>2025-03-12 02:35:28</td>\n",
       "      <td>1</td>\n",
       "      <td>NaN</td>\n",
       "      <td>100</td>\n",
       "      <td>50</td>\n",
       "      <td>1</td>\n",
       "      <td>2025-03-12 02:35:28</td>\n",
       "      <td>R_8htFlTMqyNsXx6x</td>\n",
       "      <td>NaN</td>\n",
       "      <td>...</td>\n",
       "      <td>NaN</td>\n",
       "      <td>NaN</td>\n",
       "      <td>NaN</td>\n",
       "      <td>NaN</td>\n",
       "      <td>NaN</td>\n",
       "      <td>NaN</td>\n",
       "      <td>NaN</td>\n",
       "      <td>NaN</td>\n",
       "      <td>NaN</td>\n",
       "      <td>NaN</td>\n",
       "    </tr>\n",
       "    <tr>\n",
       "      <th>4</th>\n",
       "      <td>2025-03-13 10:59:26</td>\n",
       "      <td>2025-03-13 11:03:14</td>\n",
       "      <td>1</td>\n",
       "      <td>NaN</td>\n",
       "      <td>100</td>\n",
       "      <td>228</td>\n",
       "      <td>1</td>\n",
       "      <td>2025-03-13 11:03:15</td>\n",
       "      <td>R_89aiCGR6g3QzEOd</td>\n",
       "      <td>NaN</td>\n",
       "      <td>...</td>\n",
       "      <td>2</td>\n",
       "      <td>gegvr</td>\n",
       "      <td>bgrsbs</td>\n",
       "      <td>2</td>\n",
       "      <td>1</td>\n",
       "      <td>2</td>\n",
       "      <td>3</td>\n",
       "      <td>1</td>\n",
       "      <td>NaN</td>\n",
       "      <td>NaN</td>\n",
       "    </tr>\n",
       "    <tr>\n",
       "      <th>5</th>\n",
       "      <td>2025-03-14 01:09:01</td>\n",
       "      <td>2025-03-14 01:09:26</td>\n",
       "      <td>0</td>\n",
       "      <td>185.12.130.88</td>\n",
       "      <td>76</td>\n",
       "      <td>24</td>\n",
       "      <td>0</td>\n",
       "      <td>2025-03-14 01:12:01</td>\n",
       "      <td>R_2qBCQkuA3CFDdud</td>\n",
       "      <td>NaN</td>\n",
       "      <td>...</td>\n",
       "      <td>NaN</td>\n",
       "      <td>NaN</td>\n",
       "      <td>NaN</td>\n",
       "      <td>NaN</td>\n",
       "      <td>NaN</td>\n",
       "      <td>NaN</td>\n",
       "      <td>NaN</td>\n",
       "      <td>NaN</td>\n",
       "      <td>NaN</td>\n",
       "      <td>NaN</td>\n",
       "    </tr>\n",
       "    <tr>\n",
       "      <th>6</th>\n",
       "      <td>2025-04-02 04:07:37</td>\n",
       "      <td>2025-04-02 04:22:30</td>\n",
       "      <td>0</td>\n",
       "      <td>128.179.204.170</td>\n",
       "      <td>100</td>\n",
       "      <td>893</td>\n",
       "      <td>1</td>\n",
       "      <td>2025-04-02 04:22:31</td>\n",
       "      <td>R_8Do6YUFYQenUARY</td>\n",
       "      <td>NaN</td>\n",
       "      <td>...</td>\n",
       "      <td>5</td>\n",
       "      <td>Data science</td>\n",
       "      <td>France</td>\n",
       "      <td>5</td>\n",
       "      <td>5</td>\n",
       "      <td>1,2,3,4,5,6,7,8,9,10</td>\n",
       "      <td>3</td>\n",
       "      <td>4</td>\n",
       "      <td>NaN</td>\n",
       "      <td>NaN</td>\n",
       "    </tr>\n",
       "  </tbody>\n",
       "</table>\n",
       "<p>5 rows × 170 columns</p>\n",
       "</div>"
      ],
      "text/plain": [
       "             StartDate              EndDate Status        IPAddress Progress  \\\n",
       "2  2025-03-04 13:08:42  2025-03-04 13:15:49      1              NaN      100   \n",
       "3  2025-03-12 02:34:38  2025-03-12 02:35:28      1              NaN      100   \n",
       "4  2025-03-13 10:59:26  2025-03-13 11:03:14      1              NaN      100   \n",
       "5  2025-03-14 01:09:01  2025-03-14 01:09:26      0    185.12.130.88       76   \n",
       "6  2025-04-02 04:07:37  2025-04-02 04:22:30      0  128.179.204.170      100   \n",
       "\n",
       "  Duration (in seconds) Finished         RecordedDate         ResponseId  \\\n",
       "2                   427        1  2025-03-04 13:15:50  R_8KoMYiS7pLDRnTb   \n",
       "3                    50        1  2025-03-12 02:35:28  R_8htFlTMqyNsXx6x   \n",
       "4                   228        1  2025-03-13 11:03:15  R_89aiCGR6g3QzEOd   \n",
       "5                    24        0  2025-03-14 01:12:01  R_2qBCQkuA3CFDdud   \n",
       "6                   893        1  2025-04-02 04:22:31  R_8Do6YUFYQenUARY   \n",
       "\n",
       "  RecipientLastName  ... Education   Education.1 Origins  Q17  Q18  \\\n",
       "2               NaN  ...       NaN           NaN     NaN  NaN  NaN   \n",
       "3               NaN  ...       NaN           NaN     NaN  NaN  NaN   \n",
       "4               NaN  ...         2         gegvr  bgrsbs    2    1   \n",
       "5               NaN  ...       NaN           NaN     NaN  NaN  NaN   \n",
       "6               NaN  ...         5  Data science  France    5    5   \n",
       "\n",
       "                    Q19  Q20  Q21   id Source  \n",
       "2                   NaN  NaN  NaN  NaN    NaN  \n",
       "3                   NaN  NaN  NaN  NaN    NaN  \n",
       "4                     2    3    1  NaN    NaN  \n",
       "5                   NaN  NaN  NaN  NaN    NaN  \n",
       "6  1,2,3,4,5,6,7,8,9,10    3    4  NaN    NaN  \n",
       "\n",
       "[5 rows x 170 columns]"
      ]
     },
     "execution_count": 2,
     "metadata": {},
     "output_type": "execute_result"
    }
   ],
   "source": [
    "# Nom du dernier CSV\n",
    "data_file = \"SHS-Lie+detection+AI_May+21%2C+2025_08.14.csv\" #'SHS-Lie+detection+AI_May+12%2C+2025_09.03.csv' #\"SHS-Lie+detection+AI_April+30%2C+2025_08.14.csv\" # \"SHS-Lie+detection+AI_April+9%2C+2025_11.22.csv\"\n",
    "\n",
    "\n",
    "df = pd.read_csv(data_file, header=0, skiprows=0)\n",
    "\n",
    "# dictionnaire de correspondance pour les questions en français\n",
    "questions = dict(zip(df.columns, df.iloc[0]))\n",
    "\n",
    "# supprimer les 2 premières lignes (elles sont inutiles)\n",
    "df = df[2:]\n",
    "\n",
    "df.head()"
   ]
  },
  {
   "cell_type": "code",
   "execution_count": 3,
   "metadata": {},
   "outputs": [
    {
     "data": {
      "text/plain": [
       "138"
      ]
     },
     "execution_count": 3,
     "metadata": {},
     "output_type": "execute_result"
    }
   ],
   "source": [
    "# df[\"Progress\"]\n",
    "(df[\"DistributionChannel\"] == \"anonymous\").astype(int).sum()"
   ]
  },
  {
   "cell_type": "code",
   "execution_count": 4,
   "metadata": {},
   "outputs": [
    {
     "data": {
      "text/plain": [
       "84"
      ]
     },
     "execution_count": 4,
     "metadata": {},
     "output_type": "execute_result"
    }
   ],
   "source": [
    "len(df.loc[(df[\"Progress\"].astype(int) > 75) | (df[\"Finished\"].astype(int) != 0)])  "
   ]
  },
  {
   "cell_type": "markdown",
   "metadata": {},
   "source": [
    "### Nettoyage / Filtrage\n",
    "\n",
    "- Vérifier la cohérence des données.\n",
    "- Supprimer ou identifier les valeurs manquantes ou aberrantes.\n",
    "- Renommer les colonnes si nécessaire.\n"
   ]
  },
  {
   "cell_type": "code",
   "execution_count": 5,
   "metadata": {},
   "outputs": [
    {
     "data": {
      "text/html": [
       "<div>\n",
       "<style scoped>\n",
       "    .dataframe tbody tr th:only-of-type {\n",
       "        vertical-align: middle;\n",
       "    }\n",
       "\n",
       "    .dataframe tbody tr th {\n",
       "        vertical-align: top;\n",
       "    }\n",
       "\n",
       "    .dataframe thead th {\n",
       "        text-align: right;\n",
       "    }\n",
       "</style>\n",
       "<table border=\"1\" class=\"dataframe\">\n",
       "  <thead>\n",
       "    <tr style=\"text-align: right;\">\n",
       "      <th></th>\n",
       "      <th>StartDate</th>\n",
       "      <th>Progress</th>\n",
       "      <th>Duration (in seconds)</th>\n",
       "      <th>Finished</th>\n",
       "      <th>RecordedDate</th>\n",
       "      <th>ResponseId</th>\n",
       "      <th>DistributionChannel</th>\n",
       "      <th>UserLanguage</th>\n",
       "      <th>Consentement</th>\n",
       "      <th>Timer Video 1_First Click</th>\n",
       "      <th>...</th>\n",
       "      <th>Q17</th>\n",
       "      <th>Q18</th>\n",
       "      <th>Q19</th>\n",
       "      <th>Q20</th>\n",
       "      <th>Q21</th>\n",
       "      <th>id</th>\n",
       "      <th>Source</th>\n",
       "      <th>feedback_type</th>\n",
       "      <th>technical_score</th>\n",
       "      <th>familiaritiy_score</th>\n",
       "    </tr>\n",
       "  </thead>\n",
       "  <tbody>\n",
       "    <tr>\n",
       "      <th>6</th>\n",
       "      <td>2025-04-02 04:07:37</td>\n",
       "      <td>100</td>\n",
       "      <td>893</td>\n",
       "      <td>1</td>\n",
       "      <td>2025-04-02 04:22:31</td>\n",
       "      <td>R_8Do6YUFYQenUARY</td>\n",
       "      <td>anonymous</td>\n",
       "      <td>FR</td>\n",
       "      <td>1</td>\n",
       "      <td>1.785</td>\n",
       "      <td>...</td>\n",
       "      <td>5</td>\n",
       "      <td>5</td>\n",
       "      <td>1,2,3,4,5,6,7,8,9,10</td>\n",
       "      <td>3</td>\n",
       "      <td>4</td>\n",
       "      <td>NaN</td>\n",
       "      <td>NaN</td>\n",
       "      <td>audio</td>\n",
       "      <td>0.916667</td>\n",
       "      <td>0.9</td>\n",
       "    </tr>\n",
       "    <tr>\n",
       "      <th>7</th>\n",
       "      <td>2025-04-02 04:50:45</td>\n",
       "      <td>100</td>\n",
       "      <td>945</td>\n",
       "      <td>1</td>\n",
       "      <td>2025-04-02 05:06:30</td>\n",
       "      <td>R_3to1h0SPRWKMjoP</td>\n",
       "      <td>anonymous</td>\n",
       "      <td>FR</td>\n",
       "      <td>1</td>\n",
       "      <td>3.02</td>\n",
       "      <td>...</td>\n",
       "      <td>3</td>\n",
       "      <td>2</td>\n",
       "      <td>1,2,3,4,5,6,7,8,9,10</td>\n",
       "      <td>2</td>\n",
       "      <td>3</td>\n",
       "      <td>NaN</td>\n",
       "      <td>NaN</td>\n",
       "      <td>audio</td>\n",
       "      <td>0.633333</td>\n",
       "      <td>0.6</td>\n",
       "    </tr>\n",
       "    <tr>\n",
       "      <th>8</th>\n",
       "      <td>2025-04-02 04:56:20</td>\n",
       "      <td>100</td>\n",
       "      <td>822</td>\n",
       "      <td>1</td>\n",
       "      <td>2025-04-02 05:10:03</td>\n",
       "      <td>R_7YEYfnqKlBiEcLK</td>\n",
       "      <td>anonymous</td>\n",
       "      <td>FR</td>\n",
       "      <td>1</td>\n",
       "      <td>9.996</td>\n",
       "      <td>...</td>\n",
       "      <td>5</td>\n",
       "      <td>3</td>\n",
       "      <td>1,2,3,4,5,6,7,8,10</td>\n",
       "      <td>1</td>\n",
       "      <td>3</td>\n",
       "      <td>NaN</td>\n",
       "      <td>NaN</td>\n",
       "      <td>audio</td>\n",
       "      <td>0.583333</td>\n",
       "      <td>0.8</td>\n",
       "    </tr>\n",
       "    <tr>\n",
       "      <th>9</th>\n",
       "      <td>2025-04-02 06:28:01</td>\n",
       "      <td>100</td>\n",
       "      <td>2466</td>\n",
       "      <td>1</td>\n",
       "      <td>2025-04-02 07:09:09</td>\n",
       "      <td>R_5NFkJM20zBo2Fhf</td>\n",
       "      <td>anonymous</td>\n",
       "      <td>FR</td>\n",
       "      <td>1</td>\n",
       "      <td>10.201</td>\n",
       "      <td>...</td>\n",
       "      <td>1</td>\n",
       "      <td>2</td>\n",
       "      <td>2,3,5,7,8,9</td>\n",
       "      <td>1</td>\n",
       "      <td>3</td>\n",
       "      <td>NaN</td>\n",
       "      <td>NaN</td>\n",
       "      <td>text</td>\n",
       "      <td>0.416667</td>\n",
       "      <td>0.4</td>\n",
       "    </tr>\n",
       "    <tr>\n",
       "      <th>10</th>\n",
       "      <td>2025-04-02 08:57:57</td>\n",
       "      <td>100</td>\n",
       "      <td>1496</td>\n",
       "      <td>1</td>\n",
       "      <td>2025-04-02 09:22:54</td>\n",
       "      <td>R_80NvFqnRsqG3Ofm</td>\n",
       "      <td>anonymous</td>\n",
       "      <td>FR</td>\n",
       "      <td>1</td>\n",
       "      <td>7.873</td>\n",
       "      <td>...</td>\n",
       "      <td>2</td>\n",
       "      <td>2</td>\n",
       "      <td>1,2,3,4</td>\n",
       "      <td>1</td>\n",
       "      <td>3</td>\n",
       "      <td>NaN</td>\n",
       "      <td>NaN</td>\n",
       "      <td>audio</td>\n",
       "      <td>0.350000</td>\n",
       "      <td>0.5</td>\n",
       "    </tr>\n",
       "  </tbody>\n",
       "</table>\n",
       "<p>5 rows × 164 columns</p>\n",
       "</div>"
      ],
      "text/plain": [
       "              StartDate Progress Duration (in seconds)  Finished  \\\n",
       "6   2025-04-02 04:07:37      100                   893         1   \n",
       "7   2025-04-02 04:50:45      100                   945         1   \n",
       "8   2025-04-02 04:56:20      100                   822         1   \n",
       "9   2025-04-02 06:28:01      100                  2466         1   \n",
       "10  2025-04-02 08:57:57      100                  1496         1   \n",
       "\n",
       "           RecordedDate         ResponseId DistributionChannel UserLanguage  \\\n",
       "6   2025-04-02 04:22:31  R_8Do6YUFYQenUARY           anonymous           FR   \n",
       "7   2025-04-02 05:06:30  R_3to1h0SPRWKMjoP           anonymous           FR   \n",
       "8   2025-04-02 05:10:03  R_7YEYfnqKlBiEcLK           anonymous           FR   \n",
       "9   2025-04-02 07:09:09  R_5NFkJM20zBo2Fhf           anonymous           FR   \n",
       "10  2025-04-02 09:22:54  R_80NvFqnRsqG3Ofm           anonymous           FR   \n",
       "\n",
       "   Consentement Timer Video 1_First Click  ... Q17 Q18                   Q19  \\\n",
       "6             1                     1.785  ...   5   5  1,2,3,4,5,6,7,8,9,10   \n",
       "7             1                      3.02  ...   3   2  1,2,3,4,5,6,7,8,9,10   \n",
       "8             1                     9.996  ...   5   3    1,2,3,4,5,6,7,8,10   \n",
       "9             1                    10.201  ...   1   2           2,3,5,7,8,9   \n",
       "10            1                     7.873  ...   2   2               1,2,3,4   \n",
       "\n",
       "   Q20 Q21   id Source feedback_type technical_score familiaritiy_score  \n",
       "6    3   4  NaN    NaN         audio        0.916667                0.9  \n",
       "7    2   3  NaN    NaN         audio        0.633333                0.6  \n",
       "8    1   3  NaN    NaN         audio        0.583333                0.8  \n",
       "9    1   3  NaN    NaN          text        0.416667                0.4  \n",
       "10   1   3  NaN    NaN         audio        0.350000                0.5  \n",
       "\n",
       "[5 rows x 164 columns]"
      ]
     },
     "execution_count": 5,
     "metadata": {},
     "output_type": "execute_result"
    }
   ],
   "source": [
    "# garder seulement les questionnaires finis (à changer si trop peu de données)\n",
    "df['Finished'] = df['Finished'].astype(int)\n",
    "df = df.loc[df[\"Finished\"] > 0]\n",
    "# df = df.loc[(df[\"Progress\"].astype(int) > 75) | (df[\"Finished\"].astype(int) != 0)] # df.loc[df[\"Finished\"]!=0]\n",
    "\n",
    "\n",
    "# enlver les previews de test de notre part\n",
    "df = df.loc[df[\"DistributionChannel\"] == \"anonymous\"]\n",
    "\n",
    "# supprimer les colones non pertinentes\n",
    "df = df.drop(columns=[\"EndDate\",\"Status\",\"IPAddress\",\"RecipientLastName\",\"RecipientFirstName\",\"RecipientEmail\",\"ExternalReference\",\"LocationLatitude\",\"LocationLongitude\"], axis=1)\n",
    "\n",
    "# trouver si groupe texte ou audio, et mettre dans la colonne \"subgroup\"\n",
    "df[\"feedback_type\"]= df[\"conf. post 3 (t,NH)_1\"].isna().apply(lambda x: \"audio\" if x else \"text\")\n",
    "\n",
    "def convert_to_score(x):\n",
    "    if pd.isna(x):\n",
    "        return 0\n",
    "    else:\n",
    "        return len([int(i) for i in x.split(\",\")])/10\n",
    "\n",
    "df[\"technical_score\"] = (df[\"Q18\"].astype(float)/5+ df[\"Q19\"].apply(convert_to_score) + df[\"Q20\"].astype(float)/4)/3\n",
    "df[\"familiaritiy_score\"] = (df[\"Q17\"].astype(float)+ df[\"Q21\"].astype(float))/10\n",
    "\n",
    "df.head()"
   ]
  },
  {
   "cell_type": "code",
   "execution_count": 6,
   "metadata": {},
   "outputs": [
    {
     "data": {
      "text/plain": [
       "73"
      ]
     },
     "execution_count": 6,
     "metadata": {},
     "output_type": "execute_result"
    }
   ],
   "source": [
    "len(df)\n"
   ]
  },
  {
   "cell_type": "markdown",
   "metadata": {},
   "source": [
    "### Renommer les colonnes en minuscules et standardiser l'écriture"
   ]
  },
  {
   "cell_type": "code",
   "execution_count": 7,
   "metadata": {},
   "outputs": [],
   "source": [
    "import re\n",
    "\n",
    "# Step 1: Standardize column names\n",
    "# Convert all to lowercase\n",
    "df.columns = [col.lower() for col in df.columns]\n",
    "\n",
    "# Standardize column names\n",
    "new_columns = {}\n",
    "for col in df.columns:\n",
    "    # Start with the original lowercase column\n",
    "    new_col = col\n",
    "    \n",
    "    # Replace various spellings and accents\n",
    "    new_col = new_col.replace('initale', 'initiale').replace('initialle', 'initiale')\n",
    "    new_col = new_col.replace('vérité', 'verite')\n",
    "    \n",
    "    # Replace spaces with underscores\n",
    "    new_col = new_col.replace(' ', '_').replace('.', '').replace('__', '_').replace('*','')\n",
    "    \n",
    "    # Store mapping\n",
    "    new_columns[col] = new_col\n",
    "\n",
    "# Rename the dataframe columns\n",
    "df_new = df.rename(columns=new_columns)"
   ]
  },
  {
   "cell_type": "markdown",
   "metadata": {},
   "source": [
    "## Création d'un nouveau dataframe avec une ligne par question."
   ]
  },
  {
   "cell_type": "code",
   "execution_count": 8,
   "metadata": {},
   "outputs": [
    {
     "data": {
      "text/html": [
       "<div>\n",
       "<style scoped>\n",
       "    .dataframe tbody tr th:only-of-type {\n",
       "        vertical-align: middle;\n",
       "    }\n",
       "\n",
       "    .dataframe tbody tr th {\n",
       "        vertical-align: top;\n",
       "    }\n",
       "\n",
       "    .dataframe thead th {\n",
       "        text-align: right;\n",
       "    }\n",
       "</style>\n",
       "<table border=\"1\" class=\"dataframe\">\n",
       "  <thead>\n",
       "    <tr style=\"text-align: right;\">\n",
       "      <th></th>\n",
       "      <th>participant_id</th>\n",
       "      <th>video_number</th>\n",
       "      <th>feedback_type</th>\n",
       "      <th>hum_AI</th>\n",
       "      <th>time_on_video</th>\n",
       "      <th>initial_guess</th>\n",
       "      <th>initial_confidence</th>\n",
       "      <th>later_guess</th>\n",
       "      <th>later_confidence</th>\n",
       "      <th>feedback_influence</th>\n",
       "      <th>comments</th>\n",
       "      <th>technical_score</th>\n",
       "      <th>familiarity_score</th>\n",
       "      <th>feedback_change</th>\n",
       "      <th>ground_truth</th>\n",
       "      <th>AI_guess</th>\n",
       "    </tr>\n",
       "  </thead>\n",
       "  <tbody>\n",
       "    <tr>\n",
       "      <th>0</th>\n",
       "      <td>R_8Do6YUFYQenUARY</td>\n",
       "      <td>1</td>\n",
       "      <td>audio</td>\n",
       "      <td>NH</td>\n",
       "      <td>33.9</td>\n",
       "      <td>1</td>\n",
       "      <td>87</td>\n",
       "      <td>1</td>\n",
       "      <td>54</td>\n",
       "      <td>1</td>\n",
       "      <td>NaN</td>\n",
       "      <td>0.916667</td>\n",
       "      <td>0.9</td>\n",
       "      <td>False</td>\n",
       "      <td>2</td>\n",
       "      <td>2</td>\n",
       "    </tr>\n",
       "    <tr>\n",
       "      <th>1</th>\n",
       "      <td>R_8Do6YUFYQenUARY</td>\n",
       "      <td>2</td>\n",
       "      <td>audio</td>\n",
       "      <td>H</td>\n",
       "      <td>56.8</td>\n",
       "      <td>2</td>\n",
       "      <td>68</td>\n",
       "      <td>1</td>\n",
       "      <td>69</td>\n",
       "      <td>1</td>\n",
       "      <td>NaN</td>\n",
       "      <td>0.916667</td>\n",
       "      <td>0.9</td>\n",
       "      <td>True</td>\n",
       "      <td>2</td>\n",
       "      <td>2</td>\n",
       "    </tr>\n",
       "    <tr>\n",
       "      <th>2</th>\n",
       "      <td>R_8Do6YUFYQenUARY</td>\n",
       "      <td>3</td>\n",
       "      <td>audio</td>\n",
       "      <td>NH</td>\n",
       "      <td>32.2</td>\n",
       "      <td>1</td>\n",
       "      <td>64</td>\n",
       "      <td>1</td>\n",
       "      <td>62</td>\n",
       "      <td>1</td>\n",
       "      <td>NaN</td>\n",
       "      <td>0.916667</td>\n",
       "      <td>0.9</td>\n",
       "      <td>False</td>\n",
       "      <td>2</td>\n",
       "      <td>2</td>\n",
       "    </tr>\n",
       "    <tr>\n",
       "      <th>3</th>\n",
       "      <td>R_8Do6YUFYQenUARY</td>\n",
       "      <td>4</td>\n",
       "      <td>audio</td>\n",
       "      <td>H</td>\n",
       "      <td>18.9</td>\n",
       "      <td>2</td>\n",
       "      <td>85</td>\n",
       "      <td>2</td>\n",
       "      <td>68</td>\n",
       "      <td>1</td>\n",
       "      <td>NaN</td>\n",
       "      <td>0.916667</td>\n",
       "      <td>0.9</td>\n",
       "      <td>False</td>\n",
       "      <td>2</td>\n",
       "      <td>1</td>\n",
       "    </tr>\n",
       "    <tr>\n",
       "      <th>4</th>\n",
       "      <td>R_8Do6YUFYQenUARY</td>\n",
       "      <td>5</td>\n",
       "      <td>audio</td>\n",
       "      <td>NH</td>\n",
       "      <td>20.7</td>\n",
       "      <td>1</td>\n",
       "      <td>77</td>\n",
       "      <td>1</td>\n",
       "      <td>91</td>\n",
       "      <td>1</td>\n",
       "      <td>NaN</td>\n",
       "      <td>0.916667</td>\n",
       "      <td>0.9</td>\n",
       "      <td>False</td>\n",
       "      <td>1</td>\n",
       "      <td>1</td>\n",
       "    </tr>\n",
       "  </tbody>\n",
       "</table>\n",
       "</div>"
      ],
      "text/plain": [
       "      participant_id  video_number feedback_type hum_AI  time_on_video  \\\n",
       "0  R_8Do6YUFYQenUARY             1         audio     NH           33.9   \n",
       "1  R_8Do6YUFYQenUARY             2         audio      H           56.8   \n",
       "2  R_8Do6YUFYQenUARY             3         audio     NH           32.2   \n",
       "3  R_8Do6YUFYQenUARY             4         audio      H           18.9   \n",
       "4  R_8Do6YUFYQenUARY             5         audio     NH           20.7   \n",
       "\n",
       "   initial_guess  initial_confidence  later_guess  later_confidence  \\\n",
       "0              1                  87            1                54   \n",
       "1              2                  68            1                69   \n",
       "2              1                  64            1                62   \n",
       "3              2                  85            2                68   \n",
       "4              1                  77            1                91   \n",
       "\n",
       "   feedback_influence comments  technical_score  familiarity_score  \\\n",
       "0                   1      NaN         0.916667                0.9   \n",
       "1                   1      NaN         0.916667                0.9   \n",
       "2                   1      NaN         0.916667                0.9   \n",
       "3                   1      NaN         0.916667                0.9   \n",
       "4                   1      NaN         0.916667                0.9   \n",
       "\n",
       "   feedback_change  ground_truth  AI_guess  \n",
       "0            False             2         2  \n",
       "1             True             2         2  \n",
       "2            False             2         2  \n",
       "3            False             2         1  \n",
       "4            False             1         1  "
      ]
     },
     "execution_count": 8,
     "metadata": {},
     "output_type": "execute_result"
    }
   ],
   "source": [
    "\n",
    "# Initialize an empty list to store the restructured data\n",
    "reshaped_data = []\n",
    "\n",
    "#1oui2non\n",
    "\n",
    "gt_guess_dict = {\n",
    "    1: 2,\n",
    "    2: 2,\n",
    "    3: 2,\n",
    "    4: 2,\n",
    "    5: 1,\n",
    "    6: 2,\n",
    "    7: 1,\n",
    "    8: 2,\n",
    "    9: 1,\n",
    "    10: 1}\n",
    "\n",
    "\n",
    "feedb_guess_dict = {\n",
    "    1: 2,\n",
    "    2: 2,\n",
    "    3: 2,\n",
    "    4: 1,\n",
    "    5: 1,\n",
    "    6: 1,\n",
    "    7: 1,\n",
    "    8: 1,\n",
    "    9: 1,\n",
    "    10: 2}\n",
    "\n",
    "\n",
    "# Process each participant\n",
    "for _, row in df_new.iterrows():\n",
    "    participant_id = row['responseid']\n",
    "    feedback_type = row['feedback_type'] if 'feedback_type' in row else None\n",
    "    technical_score = row['technical_score'] if 'technical_score' in row else None\n",
    "    familiarity_score = row['familiaritiy_score'] if 'familiaritiy_score' in row else None\n",
    "    \n",
    "    # Process each of the 10 videos\n",
    "    for video_num in range(1, 11):\n",
    "        # Extract time spent on the video\n",
    "        timer_base = f'timer_video_{video_num}'\n",
    "        time_submit = np.round(float(row.get(f'{timer_base}_last_click', np.nan))-float(row.get(f'{timer_base}_first_click', np.nan)),1)\n",
    "        time_on_video = time_submit  # Or calculate a difference if needed\n",
    "        \n",
    "        # Extract the initial guess and confidence\n",
    "        # initial_guess_base = f'verite_initiale_{video_num}'\n",
    "        \n",
    "        # initial_guess = None\n",
    "        # for suffix in ['', '_l', '_t']:\n",
    "        #     if f'{initial_guess_base}{suffix}' in row:\n",
    "        #         initial_guess = row[f'{initial_guess_base}{suffix}']\n",
    "        #         if initial_guess is not None:\n",
    "        #             break\n",
    "                \n",
    "        initial_guess_base = f'verite_initiale_{video_num}'\n",
    "        matching_columns = [col for col in row.index if col.startswith(initial_guess_base)]\n",
    "        initial_guess = row[matching_columns[0]]\n",
    "                \n",
    "        # Get initial confidence\n",
    "        initial_conf_base = f'conf_initiale_{video_num}'\n",
    "        matching_columns = [col for col in row.index if col.startswith(initial_conf_base)]\n",
    "        initial_confidence = row[matching_columns[0]]\n",
    "        \n",
    "        \n",
    "        # Determine if feedback was given as human or AI\n",
    "        # Based on video number: odd -> NH, even -> H\n",
    "        hum_AI = \"H\" if video_num % 2 == 0 else \"NH\"\n",
    "        \n",
    "        # Extract the responses based on feedback type\n",
    "        # Simplified to search for base patterns\n",
    "        \n",
    "        # Base patterns for text and audio feedback columns\n",
    "        text_base =  f'verite_post_{video_num}_(t'\n",
    "        text_conf_base = f'conf_post_{video_num}_(t'\n",
    "        text_influence_base = f'influence_{video_num}_(t'\n",
    "        text_comment_base = f'qo_{video_num}_(t'\n",
    "        \n",
    "        audio_base = f'verite_post_{video_num}_(a'\n",
    "        audio_conf_base = f'conf_post_{video_num}_(a'\n",
    "        audio_influence_base = f'influence_{video_num}_(a'\n",
    "        audio_comment_base = f'qo_{video_num}_(a'\n",
    "        \n",
    "        # Choose which set of base patterns to use based on feedback_type\n",
    "        if feedback_type == 'text':\n",
    "            later_guess_base = text_base\n",
    "            later_confidence_base = text_conf_base\n",
    "            influence_base = text_influence_base\n",
    "            comment_base = text_comment_base\n",
    "        else:  # Assuming 'audio'\n",
    "            later_guess_base = audio_base\n",
    "            later_confidence_base = audio_conf_base\n",
    "            influence_base = audio_influence_base\n",
    "            comment_base = audio_comment_base\n",
    "        \n",
    "        # Extract values by matching the base pattern with any column containing it\n",
    "        def get_value_by_base_pattern(bases, row):\n",
    "            matching_cols = [col for col in row.index if col.startswith(bases)]\n",
    "            if matching_cols[0]:\n",
    "                return row[matching_cols[0]]\n",
    "            return None\n",
    "        \n",
    "        later_guess = get_value_by_base_pattern(later_guess_base, row)\n",
    "        later_confidence = get_value_by_base_pattern(later_confidence_base, row)\n",
    "        feedback_influence = get_value_by_base_pattern(influence_base, row)\n",
    "        comments = get_value_by_base_pattern(comment_base, row)\n",
    "        \n",
    "        # Create a dictionary for this video\n",
    "        video_data = {\n",
    "            'participant_id': participant_id,\n",
    "            'video_number': video_num,\n",
    "            'feedback_type': feedback_type,\n",
    "            'hum_AI': hum_AI,  # Add the new column\n",
    "            'time_on_video': time_on_video,\n",
    "            'initial_guess': initial_guess,\n",
    "            'initial_confidence': initial_confidence,\n",
    "            'later_guess': later_guess,\n",
    "            'later_confidence': later_confidence,\n",
    "            'feedback_influence': feedback_influence,\n",
    "            'comments': comments,\n",
    "            'technical_score': technical_score,\n",
    "            'familiarity_score': familiarity_score\n",
    "        }\n",
    "        \n",
    "        # Add to our list\n",
    "        reshaped_data.append(video_data)\n",
    "        \n",
    "# Create the new DataFrame\n",
    "new_df = pd.DataFrame(reshaped_data)\n",
    "\n",
    "# Save to CSV\n",
    "new_df.to_csv('reshaped_lie_detection_data.csv', index=False)\n",
    "\n",
    "new_df[\"feedback_change\"] = new_df[\"initial_guess\"] != new_df[\"later_guess\"]\n",
    "new_df[\"ground_truth\"] = new_df[\"video_number\"].map(gt_guess_dict)\n",
    "new_df[\"AI_guess\"] = new_df[\"video_number\"].map(feedb_guess_dict)\n",
    "\n",
    "# Remove rows with NaNs in the specified columns and reassign to new_df\n",
    "new_df = new_df.dropna(subset=[\"initial_guess\", \"initial_confidence\", \"later_guess\", \"later_confidence\", \"feedback_influence\"])\n",
    "\n",
    "# Convert the specified columns to integers\n",
    "new_df[[\"initial_guess\", \"initial_confidence\", \"later_guess\", \"later_confidence\", \"feedback_influence\"]] = new_df[[\"initial_guess\", \"initial_confidence\", \"later_guess\", \"later_confidence\", \"feedback_influence\"]].astype(int)\n",
    "\n",
    "new_df.head()"
   ]
  },
  {
   "cell_type": "code",
   "execution_count": 9,
   "metadata": {},
   "outputs": [
    {
     "data": {
      "text/plain": [
       "73"
      ]
     },
     "execution_count": 9,
     "metadata": {},
     "output_type": "execute_result"
    }
   ],
   "source": [
    "len(df)"
   ]
  },
  {
   "cell_type": "markdown",
   "metadata": {},
   "source": [
    "### Effect of feedback source (AI vs Human) on truth judgment change :\n",
    "\n",
    "Compare if intial_judgment == post_judgment by creating flip variable (=1 if change, 0 if no change, so just column feedbck_change in int format)\\\n",
    "Compute mean of change for each video, look for each participant and feedback how many videos there was a change of opinion\\\n",
    "participant_id\tfeedback_source\tfeedback_type\tflip_rate\\\n",
    "P01\t            AI\t                audio\t              0.6\\\n",
    "P01\t            Human\t            audio\t              0.2\\\n",
    "Do ANOVA between AI Feedback and Human feedback x Audio and text feedback to see who is the most influencial"
   ]
  },
  {
   "cell_type": "code",
   "execution_count": 10,
   "metadata": {},
   "outputs": [
    {
     "data": {
      "text/html": [
       "<div>\n",
       "<style scoped>\n",
       "    .dataframe tbody tr th:only-of-type {\n",
       "        vertical-align: middle;\n",
       "    }\n",
       "\n",
       "    .dataframe tbody tr th {\n",
       "        vertical-align: top;\n",
       "    }\n",
       "\n",
       "    .dataframe thead th {\n",
       "        text-align: right;\n",
       "    }\n",
       "</style>\n",
       "<table border=\"1\" class=\"dataframe\">\n",
       "  <thead>\n",
       "    <tr style=\"text-align: right;\">\n",
       "      <th></th>\n",
       "      <th>participant_id</th>\n",
       "      <th>video_number</th>\n",
       "      <th>feedback_type</th>\n",
       "      <th>hum_AI</th>\n",
       "      <th>time_on_video</th>\n",
       "      <th>initial_guess</th>\n",
       "      <th>initial_confidence</th>\n",
       "      <th>later_guess</th>\n",
       "      <th>later_confidence</th>\n",
       "      <th>feedback_influence</th>\n",
       "      <th>comments</th>\n",
       "      <th>technical_score</th>\n",
       "      <th>familiarity_score</th>\n",
       "      <th>feedback_change</th>\n",
       "      <th>ground_truth</th>\n",
       "      <th>AI_guess</th>\n",
       "    </tr>\n",
       "  </thead>\n",
       "  <tbody>\n",
       "    <tr>\n",
       "      <th>0</th>\n",
       "      <td>R_8Do6YUFYQenUARY</td>\n",
       "      <td>1</td>\n",
       "      <td>audio</td>\n",
       "      <td>NH</td>\n",
       "      <td>33.9</td>\n",
       "      <td>1</td>\n",
       "      <td>87</td>\n",
       "      <td>1</td>\n",
       "      <td>54</td>\n",
       "      <td>1</td>\n",
       "      <td>NaN</td>\n",
       "      <td>0.916667</td>\n",
       "      <td>0.9</td>\n",
       "      <td>False</td>\n",
       "      <td>2</td>\n",
       "      <td>2</td>\n",
       "    </tr>\n",
       "    <tr>\n",
       "      <th>1</th>\n",
       "      <td>R_8Do6YUFYQenUARY</td>\n",
       "      <td>2</td>\n",
       "      <td>audio</td>\n",
       "      <td>H</td>\n",
       "      <td>56.8</td>\n",
       "      <td>2</td>\n",
       "      <td>68</td>\n",
       "      <td>1</td>\n",
       "      <td>69</td>\n",
       "      <td>1</td>\n",
       "      <td>NaN</td>\n",
       "      <td>0.916667</td>\n",
       "      <td>0.9</td>\n",
       "      <td>True</td>\n",
       "      <td>2</td>\n",
       "      <td>2</td>\n",
       "    </tr>\n",
       "    <tr>\n",
       "      <th>2</th>\n",
       "      <td>R_8Do6YUFYQenUARY</td>\n",
       "      <td>3</td>\n",
       "      <td>audio</td>\n",
       "      <td>NH</td>\n",
       "      <td>32.2</td>\n",
       "      <td>1</td>\n",
       "      <td>64</td>\n",
       "      <td>1</td>\n",
       "      <td>62</td>\n",
       "      <td>1</td>\n",
       "      <td>NaN</td>\n",
       "      <td>0.916667</td>\n",
       "      <td>0.9</td>\n",
       "      <td>False</td>\n",
       "      <td>2</td>\n",
       "      <td>2</td>\n",
       "    </tr>\n",
       "    <tr>\n",
       "      <th>3</th>\n",
       "      <td>R_8Do6YUFYQenUARY</td>\n",
       "      <td>4</td>\n",
       "      <td>audio</td>\n",
       "      <td>H</td>\n",
       "      <td>18.9</td>\n",
       "      <td>2</td>\n",
       "      <td>85</td>\n",
       "      <td>2</td>\n",
       "      <td>68</td>\n",
       "      <td>1</td>\n",
       "      <td>NaN</td>\n",
       "      <td>0.916667</td>\n",
       "      <td>0.9</td>\n",
       "      <td>False</td>\n",
       "      <td>2</td>\n",
       "      <td>1</td>\n",
       "    </tr>\n",
       "    <tr>\n",
       "      <th>4</th>\n",
       "      <td>R_8Do6YUFYQenUARY</td>\n",
       "      <td>5</td>\n",
       "      <td>audio</td>\n",
       "      <td>NH</td>\n",
       "      <td>20.7</td>\n",
       "      <td>1</td>\n",
       "      <td>77</td>\n",
       "      <td>1</td>\n",
       "      <td>91</td>\n",
       "      <td>1</td>\n",
       "      <td>NaN</td>\n",
       "      <td>0.916667</td>\n",
       "      <td>0.9</td>\n",
       "      <td>False</td>\n",
       "      <td>1</td>\n",
       "      <td>1</td>\n",
       "    </tr>\n",
       "    <tr>\n",
       "      <th>5</th>\n",
       "      <td>R_8Do6YUFYQenUARY</td>\n",
       "      <td>6</td>\n",
       "      <td>audio</td>\n",
       "      <td>H</td>\n",
       "      <td>75.3</td>\n",
       "      <td>2</td>\n",
       "      <td>58</td>\n",
       "      <td>2</td>\n",
       "      <td>40</td>\n",
       "      <td>1</td>\n",
       "      <td>NaN</td>\n",
       "      <td>0.916667</td>\n",
       "      <td>0.9</td>\n",
       "      <td>False</td>\n",
       "      <td>2</td>\n",
       "      <td>1</td>\n",
       "    </tr>\n",
       "    <tr>\n",
       "      <th>6</th>\n",
       "      <td>R_8Do6YUFYQenUARY</td>\n",
       "      <td>7</td>\n",
       "      <td>audio</td>\n",
       "      <td>NH</td>\n",
       "      <td>23.1</td>\n",
       "      <td>1</td>\n",
       "      <td>74</td>\n",
       "      <td>1</td>\n",
       "      <td>87</td>\n",
       "      <td>1</td>\n",
       "      <td>NaN</td>\n",
       "      <td>0.916667</td>\n",
       "      <td>0.9</td>\n",
       "      <td>False</td>\n",
       "      <td>1</td>\n",
       "      <td>1</td>\n",
       "    </tr>\n",
       "    <tr>\n",
       "      <th>7</th>\n",
       "      <td>R_8Do6YUFYQenUARY</td>\n",
       "      <td>8</td>\n",
       "      <td>audio</td>\n",
       "      <td>H</td>\n",
       "      <td>24.2</td>\n",
       "      <td>1</td>\n",
       "      <td>88</td>\n",
       "      <td>1</td>\n",
       "      <td>93</td>\n",
       "      <td>1</td>\n",
       "      <td>NaN</td>\n",
       "      <td>0.916667</td>\n",
       "      <td>0.9</td>\n",
       "      <td>False</td>\n",
       "      <td>2</td>\n",
       "      <td>1</td>\n",
       "    </tr>\n",
       "    <tr>\n",
       "      <th>8</th>\n",
       "      <td>R_8Do6YUFYQenUARY</td>\n",
       "      <td>9</td>\n",
       "      <td>audio</td>\n",
       "      <td>NH</td>\n",
       "      <td>20.4</td>\n",
       "      <td>2</td>\n",
       "      <td>46</td>\n",
       "      <td>2</td>\n",
       "      <td>25</td>\n",
       "      <td>1</td>\n",
       "      <td>NaN</td>\n",
       "      <td>0.916667</td>\n",
       "      <td>0.9</td>\n",
       "      <td>False</td>\n",
       "      <td>1</td>\n",
       "      <td>1</td>\n",
       "    </tr>\n",
       "    <tr>\n",
       "      <th>9</th>\n",
       "      <td>R_8Do6YUFYQenUARY</td>\n",
       "      <td>10</td>\n",
       "      <td>audio</td>\n",
       "      <td>H</td>\n",
       "      <td>30.8</td>\n",
       "      <td>2</td>\n",
       "      <td>41</td>\n",
       "      <td>2</td>\n",
       "      <td>66</td>\n",
       "      <td>1</td>\n",
       "      <td>NaN</td>\n",
       "      <td>0.916667</td>\n",
       "      <td>0.9</td>\n",
       "      <td>False</td>\n",
       "      <td>1</td>\n",
       "      <td>2</td>\n",
       "    </tr>\n",
       "  </tbody>\n",
       "</table>\n",
       "</div>"
      ],
      "text/plain": [
       "      participant_id  video_number feedback_type hum_AI  time_on_video  \\\n",
       "0  R_8Do6YUFYQenUARY             1         audio     NH           33.9   \n",
       "1  R_8Do6YUFYQenUARY             2         audio      H           56.8   \n",
       "2  R_8Do6YUFYQenUARY             3         audio     NH           32.2   \n",
       "3  R_8Do6YUFYQenUARY             4         audio      H           18.9   \n",
       "4  R_8Do6YUFYQenUARY             5         audio     NH           20.7   \n",
       "5  R_8Do6YUFYQenUARY             6         audio      H           75.3   \n",
       "6  R_8Do6YUFYQenUARY             7         audio     NH           23.1   \n",
       "7  R_8Do6YUFYQenUARY             8         audio      H           24.2   \n",
       "8  R_8Do6YUFYQenUARY             9         audio     NH           20.4   \n",
       "9  R_8Do6YUFYQenUARY            10         audio      H           30.8   \n",
       "\n",
       "   initial_guess  initial_confidence  later_guess  later_confidence  \\\n",
       "0              1                  87            1                54   \n",
       "1              2                  68            1                69   \n",
       "2              1                  64            1                62   \n",
       "3              2                  85            2                68   \n",
       "4              1                  77            1                91   \n",
       "5              2                  58            2                40   \n",
       "6              1                  74            1                87   \n",
       "7              1                  88            1                93   \n",
       "8              2                  46            2                25   \n",
       "9              2                  41            2                66   \n",
       "\n",
       "   feedback_influence comments  technical_score  familiarity_score  \\\n",
       "0                   1      NaN         0.916667                0.9   \n",
       "1                   1      NaN         0.916667                0.9   \n",
       "2                   1      NaN         0.916667                0.9   \n",
       "3                   1      NaN         0.916667                0.9   \n",
       "4                   1      NaN         0.916667                0.9   \n",
       "5                   1      NaN         0.916667                0.9   \n",
       "6                   1      NaN         0.916667                0.9   \n",
       "7                   1      NaN         0.916667                0.9   \n",
       "8                   1      NaN         0.916667                0.9   \n",
       "9                   1      NaN         0.916667                0.9   \n",
       "\n",
       "   feedback_change  ground_truth  AI_guess  \n",
       "0            False             2         2  \n",
       "1             True             2         2  \n",
       "2            False             2         2  \n",
       "3            False             2         1  \n",
       "4            False             1         1  \n",
       "5            False             2         1  \n",
       "6            False             1         1  \n",
       "7            False             2         1  \n",
       "8            False             1         1  \n",
       "9            False             1         2  "
      ]
     },
     "execution_count": 10,
     "metadata": {},
     "output_type": "execute_result"
    }
   ],
   "source": [
    "new_df['initial_confidence'] = pd.to_numeric(new_df['initial_confidence'], errors='coerce')\n",
    "new_df['later_confidence'] = pd.to_numeric(new_df['later_confidence'], errors='coerce')\n",
    "new_df.head(10)"
   ]
  },
  {
   "cell_type": "code",
   "execution_count": 11,
   "metadata": {},
   "outputs": [
    {
     "name": "stdout",
     "output_type": "stream",
     "text": [
      "            Source        SS  DF1  DF2        MS         F     p-unc  \\\n",
      "0    feedback_type  0.153107    1   71  0.153107  3.443889  0.067637   \n",
      "1  feedback_source  0.033151    1   71  0.033151  0.854335  0.358460   \n",
      "2      Interaction  0.031842    1   71  0.031842  0.820599  0.368069   \n",
      "\n",
      "        np2  eps  \n",
      "0  0.046262  NaN  \n",
      "1  0.011890  1.0  \n",
      "2  0.011426  NaN  \n"
     ]
    }
   ],
   "source": [
    "import pingouin as pg\n",
    "\n",
    "# Step 1: Create feedback_source and flip columns\n",
    "new_df['feedback_source'] = new_df['hum_AI'].map({'H': 'Human', 'NH': 'AI'})\n",
    "new_df['flip'] = new_df['feedback_change'].astype(int)\n",
    "\n",
    "# Step 2: Compute mean flip rate for each participant × source × type\n",
    "flip_rates = (\n",
    "    new_df\n",
    "    .groupby(['participant_id', 'feedback_source', 'feedback_type'])['flip']\n",
    "    .mean()\n",
    "    .reset_index()\n",
    "    .rename(columns={'flip': 'flip_rate'})\n",
    ")\n",
    "\n",
    "# Step 3: Pivot to wide format\n",
    "pivot_df = flip_rates.pivot(index=['participant_id', 'feedback_type'], \n",
    "                             columns='feedback_source', \n",
    "                             values='flip_rate').dropna().reset_index()\n",
    "pivot_df.columns.name = None  # Remove index name from columns\n",
    "pivot_df = pivot_df.rename(columns={'AI': 'flip_rate_ai', 'Human': 'flip_rate_human'})\n",
    "\n",
    "# Step 4: Reshape to long format\n",
    "anova_df = pd.melt(\n",
    "    pivot_df,\n",
    "    id_vars=['participant_id', 'feedback_type'],\n",
    "    value_vars=['flip_rate_ai', 'flip_rate_human'],\n",
    "    var_name='feedback_source',\n",
    "    value_name='flip_rate'\n",
    ")\n",
    "\n",
    "# Step 5: Clean feedback_source column\n",
    "anova_df['feedback_source'] = anova_df['feedback_source'].map({\n",
    "    'flip_rate_ai': 'AI',\n",
    "    'flip_rate_human': 'Human'\n",
    "})\n",
    "\n",
    "# Step 6: Run mixed ANOVA\n",
    "anova_results = pg.mixed_anova(\n",
    "    data=anova_df,\n",
    "    dv='flip_rate',\n",
    "    within='feedback_source',\n",
    "    between='feedback_type',\n",
    "    subject='participant_id'\n",
    ")\n",
    "\n",
    "print(anova_results)"
   ]
  },
  {
   "cell_type": "code",
   "execution_count": 12,
   "metadata": {},
   "outputs": [
    {
     "name": "stderr",
     "output_type": "stream",
     "text": [
      "C:\\Users\\utilisateur\\AppData\\Local\\Temp\\ipykernel_12320\\3703932343.py:3: FutureWarning: \n",
      "\n",
      "The `errwidth` parameter is deprecated. And will be removed in v0.15.0. Pass `err_kws={'linewidth': 1.5}` instead.\n",
      "\n",
      "  sns.pointplot(\n"
     ]
    },
    {
     "data": {
      "image/png": "[encoded data removed]",
      "text/plain": [
       "<Figure size 576x360 with 1 Axes>"
      ]
     },
     "metadata": {
      "needs_background": "light"
     },
     "output_type": "display_data"
    }
   ],
   "source": [
    "# Use the same long-format DataFrame (anova_df)\n",
    "plt.figure(figsize=(8, 5))\n",
    "sns.pointplot(\n",
    "    data=anova_df,\n",
    "    x='feedback_source',\n",
    "    y='flip_rate',\n",
    "    hue='feedback_type',\n",
    "    dodge=True,\n",
    "    markers=['o', 's'],\n",
    "    capsize=.1,\n",
    "    errwidth=1.5,\n",
    "    palette='Set2'\n",
    ")\n",
    "\n",
    "plt.title('Interaction Plot: Feedback Source × Feedback Type')\n",
    "plt.ylabel('Mean Flip Rate')\n",
    "plt.xlabel('Feedback Source')\n",
    "plt.ylim(0, 1)\n",
    "plt.legend(title='Feedback Type')\n",
    "plt.tight_layout()\n",
    "plt.show()"
   ]
  },
  {
   "cell_type": "code",
   "execution_count": 13,
   "metadata": {},
   "outputs": [
    {
     "name": "stderr",
     "output_type": "stream",
     "text": [
      "C:\\Users\\utilisateur\\AppData\\Local\\Temp\\ipykernel_12320\\2936908940.py:2: FutureWarning: \n",
      "\n",
      "Passing `palette` without assigning `hue` is deprecated and will be removed in v0.14.0. Assign the `x` variable to `hue` and set `legend=False` for the same effect.\n",
      "\n",
      "  sns.boxplot(\n"
     ]
    },
    {
     "data": {
      "image/png": "[encoded data removed]",
      "text/plain": [
       "<Figure size 432x360 with 1 Axes>"
      ]
     },
     "metadata": {
      "needs_background": "light"
     },
     "output_type": "display_data"
    }
   ],
   "source": [
    "plt.figure(figsize=(6, 5))\n",
    "sns.boxplot(\n",
    "    data=anova_df,\n",
    "    x='feedback_source',\n",
    "    y='flip_rate',\n",
    "    palette='Set3'\n",
    ")\n",
    "sns.stripplot(\n",
    "    data=anova_df,\n",
    "    x='feedback_source',\n",
    "    y='flip_rate',\n",
    "    color='black',\n",
    "    alpha=0.5,\n",
    "    jitter=True\n",
    ")\n",
    "\n",
    "plt.title('Effect of Feedback Source on Flip Rate')\n",
    "plt.ylabel('Flip Rate')\n",
    "plt.xlabel('Feedback Source')\n",
    "plt.ylim(0, 1)\n",
    "plt.tight_layout()\n",
    "plt.show()\n"
   ]
  },
  {
   "cell_type": "code",
   "execution_count": 14,
   "metadata": {},
   "outputs": [
    {
     "name": "stderr",
     "output_type": "stream",
     "text": [
      "C:\\Users\\utilisateur\\AppData\\Local\\Temp\\ipykernel_12320\\2106899325.py:2: FutureWarning: \n",
      "\n",
      "Passing `palette` without assigning `hue` is deprecated and will be removed in v0.14.0. Assign the `x` variable to `hue` and set `legend=False` for the same effect.\n",
      "\n",
      "  sns.boxplot(\n"
     ]
    },
    {
     "data": {
      "image/png": "[encoded data removed]",
      "text/plain": [
       "<Figure size 432x360 with 1 Axes>"
      ]
     },
     "metadata": {
      "needs_background": "light"
     },
     "output_type": "display_data"
    }
   ],
   "source": [
    "plt.figure(figsize=(6, 5))\n",
    "sns.boxplot(\n",
    "    data=anova_df,\n",
    "    x='feedback_type',\n",
    "    y='flip_rate',\n",
    "    palette='Set3'\n",
    ")\n",
    "sns.stripplot(\n",
    "    data=anova_df,\n",
    "    x='feedback_type',\n",
    "    y='flip_rate',\n",
    "    color='black',\n",
    "    alpha=0.5,\n",
    "    jitter=True\n",
    ")\n",
    "\n",
    "plt.title('Effect of Feedback type on Flip Rate')\n",
    "plt.ylabel('Flip Rate')\n",
    "plt.xlabel('Feedback type')\n",
    "plt.ylim(0, 1)\n",
    "plt.tight_layout()\n",
    "plt.show()"
   ]
  },
  {
   "cell_type": "markdown",
   "metadata": {},
   "source": [
    "### Effect of feedback source on confidence change :\n",
    "Compute confidence change (post - initial)\\\n",
    "participant_id\tfeedback_source\tfeedback_type\tmean_conf_change\\\n",
    "P01\tAI\taudio\t+15\\\n",
    "P01\tHuman\taudio\t+5\\\n",
    "ANOVA AI Feedback and Human feedback x Audio and text feedback"
   ]
  },
  {
   "cell_type": "code",
   "execution_count": 15,
   "metadata": {},
   "outputs": [
    {
     "name": "stdout",
     "output_type": "stream",
     "text": [
      "            Source          SS  DF1  DF2          MS         F     p-unc  \\\n",
      "0    feedback_type  138.345829    1   71  138.345829  1.291295  0.259630   \n",
      "1  feedback_source  175.781096    1   71  175.781096  2.125774  0.149249   \n",
      "2      Interaction   27.940056    1   71   27.940056  0.337888  0.562892   \n",
      "\n",
      "        np2  eps  \n",
      "0  0.017862  NaN  \n",
      "1  0.029070  1.0  \n",
      "2  0.004736  NaN  \n"
     ]
    }
   ],
   "source": [
    "# Step 1: Create feedback_source and compute confidence_change\n",
    "new_df['feedback_source'] = new_df['hum_AI'].map({'H': 'Human', 'NH': 'AI'})\n",
    "new_df['confidence_change'] = new_df['later_confidence'] - new_df['initial_confidence']\n",
    "\n",
    "# Step 2: Compute mean confidence change per participant × source × type\n",
    "conf_df = (\n",
    "    new_df\n",
    "    .groupby(['participant_id', 'feedback_source', 'feedback_type'])['confidence_change']\n",
    "    .mean()\n",
    "    .reset_index()\n",
    "    .rename(columns={'confidence_change': 'mean_conf_change'})\n",
    ")\n",
    "\n",
    "# Step 3: Prepare for mixed ANOVA\n",
    "# Data should already be in long format: one row per participant × condition\n",
    "anova_conf = pg.mixed_anova(\n",
    "    data=conf_df,\n",
    "    dv='mean_conf_change',\n",
    "    within='feedback_source',\n",
    "    between='feedback_type',\n",
    "    subject='participant_id'\n",
    ")\n",
    "\n",
    "# Step 4: Print results\n",
    "print(anova_conf)"
   ]
  },
  {
   "cell_type": "code",
   "execution_count": 16,
   "metadata": {},
   "outputs": [
    {
     "data": {
      "text/html": [
       "<div>\n",
       "<style scoped>\n",
       "    .dataframe tbody tr th:only-of-type {\n",
       "        vertical-align: middle;\n",
       "    }\n",
       "\n",
       "    .dataframe tbody tr th {\n",
       "        vertical-align: top;\n",
       "    }\n",
       "\n",
       "    .dataframe thead th {\n",
       "        text-align: right;\n",
       "    }\n",
       "</style>\n",
       "<table border=\"1\" class=\"dataframe\">\n",
       "  <thead>\n",
       "    <tr style=\"text-align: right;\">\n",
       "      <th></th>\n",
       "      <th>participant_id</th>\n",
       "      <th>feedback_source</th>\n",
       "      <th>feedback_type</th>\n",
       "      <th>mean_conf_change</th>\n",
       "    </tr>\n",
       "  </thead>\n",
       "  <tbody>\n",
       "    <tr>\n",
       "      <th>0</th>\n",
       "      <td>R_1Ra6z3SyuebyqsE</td>\n",
       "      <td>AI</td>\n",
       "      <td>audio</td>\n",
       "      <td>-0.6</td>\n",
       "    </tr>\n",
       "    <tr>\n",
       "      <th>1</th>\n",
       "      <td>R_1Ra6z3SyuebyqsE</td>\n",
       "      <td>Human</td>\n",
       "      <td>audio</td>\n",
       "      <td>5.4</td>\n",
       "    </tr>\n",
       "    <tr>\n",
       "      <th>2</th>\n",
       "      <td>R_1eW39XhMxtmNOvv</td>\n",
       "      <td>AI</td>\n",
       "      <td>audio</td>\n",
       "      <td>-4.4</td>\n",
       "    </tr>\n",
       "    <tr>\n",
       "      <th>3</th>\n",
       "      <td>R_1eW39XhMxtmNOvv</td>\n",
       "      <td>Human</td>\n",
       "      <td>audio</td>\n",
       "      <td>-3.2</td>\n",
       "    </tr>\n",
       "    <tr>\n",
       "      <th>4</th>\n",
       "      <td>R_1egeBUaB0oERkjz</td>\n",
       "      <td>AI</td>\n",
       "      <td>audio</td>\n",
       "      <td>-1.2</td>\n",
       "    </tr>\n",
       "    <tr>\n",
       "      <th>...</th>\n",
       "      <td>...</td>\n",
       "      <td>...</td>\n",
       "      <td>...</td>\n",
       "      <td>...</td>\n",
       "    </tr>\n",
       "    <tr>\n",
       "      <th>141</th>\n",
       "      <td>R_8sWH8Oa8SRj0LXO</td>\n",
       "      <td>Human</td>\n",
       "      <td>text</td>\n",
       "      <td>5.8</td>\n",
       "    </tr>\n",
       "    <tr>\n",
       "      <th>142</th>\n",
       "      <td>R_8t9cMzAmLWPujmN</td>\n",
       "      <td>AI</td>\n",
       "      <td>text</td>\n",
       "      <td>6.0</td>\n",
       "    </tr>\n",
       "    <tr>\n",
       "      <th>143</th>\n",
       "      <td>R_8t9cMzAmLWPujmN</td>\n",
       "      <td>Human</td>\n",
       "      <td>text</td>\n",
       "      <td>-2.4</td>\n",
       "    </tr>\n",
       "    <tr>\n",
       "      <th>144</th>\n",
       "      <td>R_8wd1VXB6T4MEmSB</td>\n",
       "      <td>AI</td>\n",
       "      <td>audio</td>\n",
       "      <td>-26.8</td>\n",
       "    </tr>\n",
       "    <tr>\n",
       "      <th>145</th>\n",
       "      <td>R_8wd1VXB6T4MEmSB</td>\n",
       "      <td>Human</td>\n",
       "      <td>audio</td>\n",
       "      <td>-35.8</td>\n",
       "    </tr>\n",
       "  </tbody>\n",
       "</table>\n",
       "<p>146 rows × 4 columns</p>\n",
       "</div>"
      ],
      "text/plain": [
       "        participant_id feedback_source feedback_type  mean_conf_change\n",
       "0    R_1Ra6z3SyuebyqsE              AI         audio              -0.6\n",
       "1    R_1Ra6z3SyuebyqsE           Human         audio               5.4\n",
       "2    R_1eW39XhMxtmNOvv              AI         audio              -4.4\n",
       "3    R_1eW39XhMxtmNOvv           Human         audio              -3.2\n",
       "4    R_1egeBUaB0oERkjz              AI         audio              -1.2\n",
       "..                 ...             ...           ...               ...\n",
       "141  R_8sWH8Oa8SRj0LXO           Human          text               5.8\n",
       "142  R_8t9cMzAmLWPujmN              AI          text               6.0\n",
       "143  R_8t9cMzAmLWPujmN           Human          text              -2.4\n",
       "144  R_8wd1VXB6T4MEmSB              AI         audio             -26.8\n",
       "145  R_8wd1VXB6T4MEmSB           Human         audio             -35.8\n",
       "\n",
       "[146 rows x 4 columns]"
      ]
     },
     "execution_count": 16,
     "metadata": {},
     "output_type": "execute_result"
    }
   ],
   "source": [
    "conf_df"
   ]
  },
  {
   "cell_type": "code",
   "execution_count": 17,
   "metadata": {},
   "outputs": [
    {
     "name": "stderr",
     "output_type": "stream",
     "text": [
      "C:\\Users\\utilisateur\\AppData\\Local\\Temp\\ipykernel_12320\\1972053640.py:2: FutureWarning: \n",
      "\n",
      "The `errwidth` parameter is deprecated. And will be removed in v0.15.0. Pass `err_kws={'linewidth': 1.5}` instead.\n",
      "\n",
      "  sns.pointplot(\n"
     ]
    },
    {
     "data": {
      "image/png": "[encoded data removed]",
      "text/plain": [
       "<Figure size 576x360 with 1 Axes>"
      ]
     },
     "metadata": {
      "needs_background": "light"
     },
     "output_type": "display_data"
    }
   ],
   "source": [
    "plt.figure(figsize=(8, 5))\n",
    "sns.pointplot(\n",
    "    data=conf_df,\n",
    "    x='feedback_source',\n",
    "    y='mean_conf_change',\n",
    "    hue='feedback_type',\n",
    "    dodge=True,\n",
    "    markers=['o', 's'],\n",
    "    capsize=.1,\n",
    "    errwidth=1.5,\n",
    "    palette='Set2'\n",
    ")\n",
    "\n",
    "plt.title('Interaction Plot: Feedback Source × Feedback Type on Confidence Change')\n",
    "plt.ylabel('Mean Confidence Change')\n",
    "plt.xlabel('Feedback Source')\n",
    "plt.axhline(0, color='gray', linestyle='--', linewidth=0.8)\n",
    "plt.tight_layout()\n",
    "plt.show()"
   ]
  },
  {
   "cell_type": "code",
   "execution_count": 18,
   "metadata": {},
   "outputs": [
    {
     "name": "stderr",
     "output_type": "stream",
     "text": [
      "C:\\Users\\utilisateur\\AppData\\Local\\Temp\\ipykernel_12320\\1052900631.py:9: FutureWarning: \n",
      "\n",
      "Setting a gradient palette using color= is deprecated and will be removed in v0.14.0. Set `palette='dark:black'` for the same effect.\n",
      "\n",
      "  sns.stripplot(\n"
     ]
    },
    {
     "data": {
      "image/png": "[encoded data removed]",
      "text/plain": [
       "<Figure size 432x360 with 1 Axes>"
      ]
     },
     "metadata": {
      "needs_background": "light"
     },
     "output_type": "display_data"
    }
   ],
   "source": [
    "plt.figure(figsize=(6, 5))\n",
    "sns.boxplot(\n",
    "    data=conf_df,\n",
    "    x='feedback_source',\n",
    "    y='mean_conf_change',\n",
    "    hue='feedback_type',\n",
    "    palette='Set3'\n",
    ")\n",
    "sns.stripplot(\n",
    "    data=conf_df,\n",
    "    x='feedback_source',\n",
    "    y='mean_conf_change',\n",
    "    hue='feedback_type',\n",
    "    dodge=True,\n",
    "    color='black',\n",
    "    alpha=0.5,\n",
    "    jitter=True\n",
    ")\n",
    "\n",
    "plt.title('Confidence Change by Feedback Source and Type')\n",
    "plt.ylabel('Mean Confidence Change')\n",
    "plt.xlabel('Feedback Source')\n",
    "plt.axhline(0, color='gray', linestyle='--', linewidth=0.8)\n",
    "plt.legend(title='Feedback Type', bbox_to_anchor=(1.05, 1), loc='upper left')\n",
    "plt.tight_layout()\n",
    "plt.show()"
   ]
  },
  {
   "cell_type": "markdown",
   "metadata": {},
   "source": [
    "### AI familiarity moderates effect of AI feedback : \n",
    "Take only AI feedbacks\\\n",
    "Mean Confidence or flip\\\n",
    "Pearson Correlation (to show how strongly two continuous variable are related with the direction too) between AI familiarity and flip (or linear regression)\n",
    "\n",
    "participant_id\tai_familiarity\tai_flip_rate\tai_conf_change\\\n",
    "P01\t5\t0.60\t+10\\\n",
    "P02\t2\t0.20\t-3\n"
   ]
  },
  {
   "cell_type": "code",
   "execution_count": 19,
   "metadata": {},
   "outputs": [
    {
     "data": {
      "text/plain": [
       "<Axes: xlabel='mean_conf_change', ylabel='technical_score'>"
      ]
     },
     "execution_count": 19,
     "metadata": {},
     "output_type": "execute_result"
    },
    {
     "data": {
      "image/png": "[encoded data removed]",
      "text/plain": [
       "<Figure size 432x288 with 1 Axes>"
      ]
     },
     "metadata": {
      "needs_background": "light"
     },
     "output_type": "display_data"
    }
   ],
   "source": [
    "conf_df2 = (\n",
    "    new_df\n",
    "    .groupby(['participant_id', 'technical_score', 'familiarity_score'])['confidence_change']\n",
    "    .mean()\n",
    "    .reset_index()\n",
    "    .rename(columns={'confidence_change': 'mean_conf_change'})\n",
    ")\n",
    "\n",
    "sns.scatterplot(\n",
    "    x = \"mean_conf_change\",\n",
    "    y = \"technical_score\",\n",
    "    hue = \"familiarity_score\",\n",
    "    data = conf_df2,\n",
    ")"
   ]
  },
  {
   "cell_type": "code",
   "execution_count": 20,
   "metadata": {},
   "outputs": [
    {
     "data": {
      "text/plain": [
       "<Axes: xlabel='familiarity_score', ylabel='technical_score'>"
      ]
     },
     "execution_count": 20,
     "metadata": {},
     "output_type": "execute_result"
    },
    {
     "data": {
      "image/png": "[encoded data removed]",
      "text/plain": [
       "<Figure size 432x288 with 1 Axes>"
      ]
     },
     "metadata": {
      "needs_background": "light"
     },
     "output_type": "display_data"
    }
   ],
   "source": [
    "\n",
    "sns.scatterplot(\n",
    "    x = \"familiarity_score\",\n",
    "    y = \"technical_score\",\n",
    "    hue = \"familiarity_score\",\n",
    "    data = conf_df2,\n",
    ")"
   ]
  },
  {
   "cell_type": "code",
   "execution_count": 21,
   "metadata": {},
   "outputs": [
    {
     "data": {
      "text/html": [
       "<div>\n",
       "<style scoped>\n",
       "    .dataframe tbody tr th:only-of-type {\n",
       "        vertical-align: middle;\n",
       "    }\n",
       "\n",
       "    .dataframe tbody tr th {\n",
       "        vertical-align: top;\n",
       "    }\n",
       "\n",
       "    .dataframe thead th {\n",
       "        text-align: right;\n",
       "    }\n",
       "</style>\n",
       "<table border=\"1\" class=\"dataframe\">\n",
       "  <thead>\n",
       "    <tr style=\"text-align: right;\">\n",
       "      <th></th>\n",
       "      <th>participant_id</th>\n",
       "      <th>video_number</th>\n",
       "      <th>feedback_type</th>\n",
       "      <th>hum_AI</th>\n",
       "      <th>time_on_video</th>\n",
       "      <th>initial_guess</th>\n",
       "      <th>initial_confidence</th>\n",
       "      <th>later_guess</th>\n",
       "      <th>later_confidence</th>\n",
       "      <th>feedback_influence</th>\n",
       "      <th>comments</th>\n",
       "      <th>technical_score</th>\n",
       "      <th>familiarity_score</th>\n",
       "      <th>feedback_change</th>\n",
       "      <th>ground_truth</th>\n",
       "      <th>AI_guess</th>\n",
       "      <th>feedback_source</th>\n",
       "      <th>flip</th>\n",
       "      <th>confidence_change</th>\n",
       "    </tr>\n",
       "  </thead>\n",
       "  <tbody>\n",
       "    <tr>\n",
       "      <th>29</th>\n",
       "      <td>R_7YEYfnqKlBiEcLK</td>\n",
       "      <td>10</td>\n",
       "      <td>audio</td>\n",
       "      <td>H</td>\n",
       "      <td>30.6</td>\n",
       "      <td>1</td>\n",
       "      <td>67</td>\n",
       "      <td>2</td>\n",
       "      <td>66</td>\n",
       "      <td>2</td>\n",
       "      <td>NaN</td>\n",
       "      <td>0.583333</td>\n",
       "      <td>0.8</td>\n",
       "      <td>True</td>\n",
       "      <td>1</td>\n",
       "      <td>2</td>\n",
       "      <td>Human</td>\n",
       "      <td>1</td>\n",
       "      <td>-1</td>\n",
       "    </tr>\n",
       "    <tr>\n",
       "      <th>30</th>\n",
       "      <td>R_5NFkJM20zBo2Fhf</td>\n",
       "      <td>1</td>\n",
       "      <td>text</td>\n",
       "      <td>NH</td>\n",
       "      <td>236.5</td>\n",
       "      <td>1</td>\n",
       "      <td>74</td>\n",
       "      <td>2</td>\n",
       "      <td>70</td>\n",
       "      <td>1</td>\n",
       "      <td>Ce qu’il y avait noté dans le feed-back</td>\n",
       "      <td>0.416667</td>\n",
       "      <td>0.4</td>\n",
       "      <td>True</td>\n",
       "      <td>2</td>\n",
       "      <td>2</td>\n",
       "      <td>AI</td>\n",
       "      <td>1</td>\n",
       "      <td>-4</td>\n",
       "    </tr>\n",
       "    <tr>\n",
       "      <th>37</th>\n",
       "      <td>R_5NFkJM20zBo2Fhf</td>\n",
       "      <td>8</td>\n",
       "      <td>text</td>\n",
       "      <td>H</td>\n",
       "      <td>151.1</td>\n",
       "      <td>2</td>\n",
       "      <td>56</td>\n",
       "      <td>1</td>\n",
       "      <td>0</td>\n",
       "      <td>1</td>\n",
       "      <td>Je détecte une description cohérente du tableau</td>\n",
       "      <td>0.416667</td>\n",
       "      <td>0.4</td>\n",
       "      <td>True</td>\n",
       "      <td>2</td>\n",
       "      <td>1</td>\n",
       "      <td>Human</td>\n",
       "      <td>1</td>\n",
       "      <td>-56</td>\n",
       "    </tr>\n",
       "    <tr>\n",
       "      <th>43</th>\n",
       "      <td>R_80NvFqnRsqG3Ofm</td>\n",
       "      <td>4</td>\n",
       "      <td>audio</td>\n",
       "      <td>H</td>\n",
       "      <td>82.2</td>\n",
       "      <td>2</td>\n",
       "      <td>45</td>\n",
       "      <td>1</td>\n",
       "      <td>50</td>\n",
       "      <td>1</td>\n",
       "      <td>Les arguments</td>\n",
       "      <td>0.350000</td>\n",
       "      <td>0.5</td>\n",
       "      <td>True</td>\n",
       "      <td>2</td>\n",
       "      <td>1</td>\n",
       "      <td>Human</td>\n",
       "      <td>1</td>\n",
       "      <td>5</td>\n",
       "    </tr>\n",
       "    <tr>\n",
       "      <th>49</th>\n",
       "      <td>R_80NvFqnRsqG3Ofm</td>\n",
       "      <td>10</td>\n",
       "      <td>audio</td>\n",
       "      <td>H</td>\n",
       "      <td>48.2</td>\n",
       "      <td>1</td>\n",
       "      <td>50</td>\n",
       "      <td>2</td>\n",
       "      <td>50</td>\n",
       "      <td>1</td>\n",
       "      <td>NaN</td>\n",
       "      <td>0.350000</td>\n",
       "      <td>0.5</td>\n",
       "      <td>True</td>\n",
       "      <td>1</td>\n",
       "      <td>2</td>\n",
       "      <td>Human</td>\n",
       "      <td>1</td>\n",
       "      <td>0</td>\n",
       "    </tr>\n",
       "  </tbody>\n",
       "</table>\n",
       "</div>"
      ],
      "text/plain": [
       "       participant_id  video_number feedback_type hum_AI  time_on_video  \\\n",
       "29  R_7YEYfnqKlBiEcLK            10         audio      H           30.6   \n",
       "30  R_5NFkJM20zBo2Fhf             1          text     NH          236.5   \n",
       "37  R_5NFkJM20zBo2Fhf             8          text      H          151.1   \n",
       "43  R_80NvFqnRsqG3Ofm             4         audio      H           82.2   \n",
       "49  R_80NvFqnRsqG3Ofm            10         audio      H           48.2   \n",
       "\n",
       "    initial_guess  initial_confidence  later_guess  later_confidence  \\\n",
       "29              1                  67            2                66   \n",
       "30              1                  74            2                70   \n",
       "37              2                  56            1                 0   \n",
       "43              2                  45            1                50   \n",
       "49              1                  50            2                50   \n",
       "\n",
       "    feedback_influence                                          comments  \\\n",
       "29                   2                                               NaN   \n",
       "30                   1          Ce qu’il y avait noté dans le feed-back    \n",
       "37                   1  Je détecte une description cohérente du tableau    \n",
       "43                   1                                    Les arguments    \n",
       "49                   1                                               NaN   \n",
       "\n",
       "    technical_score  familiarity_score  feedback_change  ground_truth  \\\n",
       "29         0.583333                0.8             True             1   \n",
       "30         0.416667                0.4             True             2   \n",
       "37         0.416667                0.4             True             2   \n",
       "43         0.350000                0.5             True             2   \n",
       "49         0.350000                0.5             True             1   \n",
       "\n",
       "    AI_guess feedback_source  flip  confidence_change  \n",
       "29         2           Human     1                 -1  \n",
       "30         2              AI     1                 -4  \n",
       "37         1           Human     1                -56  \n",
       "43         1           Human     1                  5  \n",
       "49         2           Human     1                  0  "
      ]
     },
     "execution_count": 21,
     "metadata": {},
     "output_type": "execute_result"
    }
   ],
   "source": [
    "# find the rows where the initial guess is not equal to the ai suggestion\n",
    "df_AI_diff_feedback = new_df.loc[new_df[\"initial_guess\"] != new_df[\"AI_guess\"]]\n",
    "df_AI_diff_feedback.loc[df_AI_diff_feedback[\"flip\"]!=0].head()"
   ]
  },
  {
   "cell_type": "markdown",
   "metadata": {},
   "source": [
    "Cas ou l'IA donne un avis différent du inital guess, les gens avec les meilleurs scores techniques semblent changer un peu moins d'avis."
   ]
  },
  {
   "cell_type": "code",
   "execution_count": 22,
   "metadata": {},
   "outputs": [
    {
     "data": {
      "text/plain": [
       "flip\n",
       "0    0.538226\n",
       "1    0.507823\n",
       "Name: technical_score, dtype: float64"
      ]
     },
     "execution_count": 22,
     "metadata": {},
     "output_type": "execute_result"
    }
   ],
   "source": [
    "df_AI_diff_feedback.groupby(\"flip\")[\"technical_score\"].mean().head()"
   ]
  },
  {
   "cell_type": "code",
   "execution_count": 23,
   "metadata": {},
   "outputs": [
    {
     "data": {
      "text/plain": [
       "<Axes: xlabel='flip', ylabel='technical_score'>"
      ]
     },
     "execution_count": 23,
     "metadata": {},
     "output_type": "execute_result"
    },
    {
     "data": {
      "image/png": "[encoded data removed]",
      "text/plain": [
       "<Figure size 432x288 with 1 Axes>"
      ]
     },
     "metadata": {
      "needs_background": "light"
     },
     "output_type": "display_data"
    }
   ],
   "source": [
    "sns.scatterplot(\n",
    "    x = \"flip\",\n",
    "    y = \"technical_score\",\n",
    "    hue = \"familiarity_score\",\n",
    "    data = df_AI_diff_feedback,\n",
    ")"
   ]
  },
  {
   "cell_type": "code",
   "execution_count": 24,
   "metadata": {},
   "outputs": [],
   "source": [
    "# find the rows where the initial guess is the same as the ai suggestion\n",
    "df_AI_same_feedback = new_df.loc[new_df[\"initial_guess\"] == new_df[\"AI_guess\"]]"
   ]
  },
  {
   "cell_type": "code",
   "execution_count": 25,
   "metadata": {},
   "outputs": [
    {
     "data": {
      "text/plain": [
       "<Axes: xlabel='mean_conf_change', ylabel='familiarity_score'>"
      ]
     },
     "execution_count": 25,
     "metadata": {},
     "output_type": "execute_result"
    },
    {
     "data": {
      "image/png": "[encoded data removed]",
      "text/plain": [
       "<Figure size 432x288 with 1 Axes>"
      ]
     },
     "metadata": {
      "needs_background": "light"
     },
     "output_type": "display_data"
    }
   ],
   "source": [
    "conf_df3 = (\n",
    "    df_AI_same_feedback\n",
    "    .groupby(['participant_id', 'technical_score', 'familiarity_score', \"feedback_type\", \"feedback_source\"])['confidence_change']\n",
    "    .mean()\n",
    "    .reset_index()\n",
    "    .rename(columns={'confidence_change': 'mean_conf_change'})\n",
    ")\n",
    "\n",
    "sns.scatterplot(\n",
    "    x = \"mean_conf_change\",\n",
    "    y = \"familiarity_score\",\n",
    "    hue=\"feedback_source\",\n",
    "\n",
    "    data = conf_df3,\n",
    ")"
   ]
  },
  {
   "cell_type": "code",
   "execution_count": 26,
   "metadata": {},
   "outputs": [
    {
     "data": {
      "text/plain": [
       "<Axes: xlabel='mean_conf_change', ylabel='technical_score'>"
      ]
     },
     "execution_count": 26,
     "metadata": {},
     "output_type": "execute_result"
    },
    {
     "data": {
      "image/png": "[encoded data removed]",
      "text/plain": [
       "<Figure size 432x288 with 1 Axes>"
      ]
     },
     "metadata": {
      "needs_background": "light"
     },
     "output_type": "display_data"
    }
   ],
   "source": [
    "sns.scatterplot(\n",
    "    x = \"mean_conf_change\",\n",
    "    y = \"technical_score\",\n",
    "    hue = \"feedback_source\",\n",
    "    data = conf_df3,\n",
    ")"
   ]
  },
  {
   "cell_type": "code",
   "execution_count": 59,
   "metadata": {},
   "outputs": [
    {
     "data": {
      "text/html": [
       "<div>\n",
       "<style scoped>\n",
       "    .dataframe tbody tr th:only-of-type {\n",
       "        vertical-align: middle;\n",
       "    }\n",
       "\n",
       "    .dataframe tbody tr th {\n",
       "        vertical-align: top;\n",
       "    }\n",
       "\n",
       "    .dataframe thead th {\n",
       "        text-align: right;\n",
       "    }\n",
       "</style>\n",
       "<table border=\"1\" class=\"dataframe\">\n",
       "  <thead>\n",
       "    <tr style=\"text-align: right;\">\n",
       "      <th></th>\n",
       "      <th>participant_id</th>\n",
       "      <th>video_number</th>\n",
       "      <th>feedback_type</th>\n",
       "      <th>hum_AI</th>\n",
       "      <th>time_on_video</th>\n",
       "      <th>initial_guess</th>\n",
       "      <th>initial_confidence</th>\n",
       "      <th>later_guess</th>\n",
       "      <th>later_confidence</th>\n",
       "      <th>feedback_influence</th>\n",
       "      <th>comments</th>\n",
       "      <th>technical_score</th>\n",
       "      <th>familiarity_score</th>\n",
       "      <th>feedback_change</th>\n",
       "      <th>ground_truth</th>\n",
       "      <th>AI_guess</th>\n",
       "      <th>feedback_source</th>\n",
       "      <th>flip</th>\n",
       "      <th>confidence_change</th>\n",
       "    </tr>\n",
       "  </thead>\n",
       "  <tbody>\n",
       "    <tr>\n",
       "      <th>0</th>\n",
       "      <td>R_8Do6YUFYQenUARY</td>\n",
       "      <td>1</td>\n",
       "      <td>audio</td>\n",
       "      <td>NH</td>\n",
       "      <td>33.9</td>\n",
       "      <td>1</td>\n",
       "      <td>87</td>\n",
       "      <td>1</td>\n",
       "      <td>54</td>\n",
       "      <td>1</td>\n",
       "      <td>NaN</td>\n",
       "      <td>0.916667</td>\n",
       "      <td>0.9</td>\n",
       "      <td>False</td>\n",
       "      <td>2</td>\n",
       "      <td>2</td>\n",
       "      <td>AI</td>\n",
       "      <td>0</td>\n",
       "      <td>-33</td>\n",
       "    </tr>\n",
       "    <tr>\n",
       "      <th>2</th>\n",
       "      <td>R_8Do6YUFYQenUARY</td>\n",
       "      <td>3</td>\n",
       "      <td>audio</td>\n",
       "      <td>NH</td>\n",
       "      <td>32.2</td>\n",
       "      <td>1</td>\n",
       "      <td>64</td>\n",
       "      <td>1</td>\n",
       "      <td>62</td>\n",
       "      <td>1</td>\n",
       "      <td>NaN</td>\n",
       "      <td>0.916667</td>\n",
       "      <td>0.9</td>\n",
       "      <td>False</td>\n",
       "      <td>2</td>\n",
       "      <td>2</td>\n",
       "      <td>AI</td>\n",
       "      <td>0</td>\n",
       "      <td>-2</td>\n",
       "    </tr>\n",
       "    <tr>\n",
       "      <th>3</th>\n",
       "      <td>R_8Do6YUFYQenUARY</td>\n",
       "      <td>4</td>\n",
       "      <td>audio</td>\n",
       "      <td>H</td>\n",
       "      <td>18.9</td>\n",
       "      <td>2</td>\n",
       "      <td>85</td>\n",
       "      <td>2</td>\n",
       "      <td>68</td>\n",
       "      <td>1</td>\n",
       "      <td>NaN</td>\n",
       "      <td>0.916667</td>\n",
       "      <td>0.9</td>\n",
       "      <td>False</td>\n",
       "      <td>2</td>\n",
       "      <td>1</td>\n",
       "      <td>Human</td>\n",
       "      <td>0</td>\n",
       "      <td>-17</td>\n",
       "    </tr>\n",
       "    <tr>\n",
       "      <th>5</th>\n",
       "      <td>R_8Do6YUFYQenUARY</td>\n",
       "      <td>6</td>\n",
       "      <td>audio</td>\n",
       "      <td>H</td>\n",
       "      <td>75.3</td>\n",
       "      <td>2</td>\n",
       "      <td>58</td>\n",
       "      <td>2</td>\n",
       "      <td>40</td>\n",
       "      <td>1</td>\n",
       "      <td>NaN</td>\n",
       "      <td>0.916667</td>\n",
       "      <td>0.9</td>\n",
       "      <td>False</td>\n",
       "      <td>2</td>\n",
       "      <td>1</td>\n",
       "      <td>Human</td>\n",
       "      <td>0</td>\n",
       "      <td>-18</td>\n",
       "    </tr>\n",
       "    <tr>\n",
       "      <th>8</th>\n",
       "      <td>R_8Do6YUFYQenUARY</td>\n",
       "      <td>9</td>\n",
       "      <td>audio</td>\n",
       "      <td>NH</td>\n",
       "      <td>20.4</td>\n",
       "      <td>2</td>\n",
       "      <td>46</td>\n",
       "      <td>2</td>\n",
       "      <td>25</td>\n",
       "      <td>1</td>\n",
       "      <td>NaN</td>\n",
       "      <td>0.916667</td>\n",
       "      <td>0.9</td>\n",
       "      <td>False</td>\n",
       "      <td>1</td>\n",
       "      <td>1</td>\n",
       "      <td>AI</td>\n",
       "      <td>0</td>\n",
       "      <td>-21</td>\n",
       "    </tr>\n",
       "    <tr>\n",
       "      <th>11</th>\n",
       "      <td>R_3to1h0SPRWKMjoP</td>\n",
       "      <td>2</td>\n",
       "      <td>audio</td>\n",
       "      <td>H</td>\n",
       "      <td>47.1</td>\n",
       "      <td>1</td>\n",
       "      <td>100</td>\n",
       "      <td>1</td>\n",
       "      <td>100</td>\n",
       "      <td>2</td>\n",
       "      <td>NaN</td>\n",
       "      <td>0.633333</td>\n",
       "      <td>0.6</td>\n",
       "      <td>False</td>\n",
       "      <td>2</td>\n",
       "      <td>2</td>\n",
       "      <td>Human</td>\n",
       "      <td>0</td>\n",
       "      <td>0</td>\n",
       "    </tr>\n",
       "    <tr>\n",
       "      <th>13</th>\n",
       "      <td>R_3to1h0SPRWKMjoP</td>\n",
       "      <td>4</td>\n",
       "      <td>audio</td>\n",
       "      <td>H</td>\n",
       "      <td>40.7</td>\n",
       "      <td>2</td>\n",
       "      <td>40</td>\n",
       "      <td>2</td>\n",
       "      <td>44</td>\n",
       "      <td>2</td>\n",
       "      <td>NaN</td>\n",
       "      <td>0.633333</td>\n",
       "      <td>0.6</td>\n",
       "      <td>False</td>\n",
       "      <td>2</td>\n",
       "      <td>1</td>\n",
       "      <td>Human</td>\n",
       "      <td>0</td>\n",
       "      <td>4</td>\n",
       "    </tr>\n",
       "    <tr>\n",
       "      <th>14</th>\n",
       "      <td>R_3to1h0SPRWKMjoP</td>\n",
       "      <td>5</td>\n",
       "      <td>audio</td>\n",
       "      <td>NH</td>\n",
       "      <td>18.1</td>\n",
       "      <td>2</td>\n",
       "      <td>100</td>\n",
       "      <td>2</td>\n",
       "      <td>100</td>\n",
       "      <td>2</td>\n",
       "      <td>NaN</td>\n",
       "      <td>0.633333</td>\n",
       "      <td>0.6</td>\n",
       "      <td>False</td>\n",
       "      <td>1</td>\n",
       "      <td>1</td>\n",
       "      <td>AI</td>\n",
       "      <td>0</td>\n",
       "      <td>0</td>\n",
       "    </tr>\n",
       "    <tr>\n",
       "      <th>17</th>\n",
       "      <td>R_3to1h0SPRWKMjoP</td>\n",
       "      <td>8</td>\n",
       "      <td>audio</td>\n",
       "      <td>H</td>\n",
       "      <td>36.2</td>\n",
       "      <td>2</td>\n",
       "      <td>72</td>\n",
       "      <td>2</td>\n",
       "      <td>65</td>\n",
       "      <td>2</td>\n",
       "      <td>NaN</td>\n",
       "      <td>0.633333</td>\n",
       "      <td>0.6</td>\n",
       "      <td>False</td>\n",
       "      <td>2</td>\n",
       "      <td>1</td>\n",
       "      <td>Human</td>\n",
       "      <td>0</td>\n",
       "      <td>-7</td>\n",
       "    </tr>\n",
       "    <tr>\n",
       "      <th>22</th>\n",
       "      <td>R_7YEYfnqKlBiEcLK</td>\n",
       "      <td>3</td>\n",
       "      <td>audio</td>\n",
       "      <td>NH</td>\n",
       "      <td>42.4</td>\n",
       "      <td>1</td>\n",
       "      <td>72</td>\n",
       "      <td>1</td>\n",
       "      <td>66</td>\n",
       "      <td>2</td>\n",
       "      <td>NaN</td>\n",
       "      <td>0.583333</td>\n",
       "      <td>0.8</td>\n",
       "      <td>False</td>\n",
       "      <td>2</td>\n",
       "      <td>2</td>\n",
       "      <td>AI</td>\n",
       "      <td>0</td>\n",
       "      <td>-6</td>\n",
       "    </tr>\n",
       "  </tbody>\n",
       "</table>\n",
       "</div>"
      ],
      "text/plain": [
       "       participant_id  video_number feedback_type hum_AI  time_on_video  \\\n",
       "0   R_8Do6YUFYQenUARY             1         audio     NH           33.9   \n",
       "2   R_8Do6YUFYQenUARY             3         audio     NH           32.2   \n",
       "3   R_8Do6YUFYQenUARY             4         audio      H           18.9   \n",
       "5   R_8Do6YUFYQenUARY             6         audio      H           75.3   \n",
       "8   R_8Do6YUFYQenUARY             9         audio     NH           20.4   \n",
       "11  R_3to1h0SPRWKMjoP             2         audio      H           47.1   \n",
       "13  R_3to1h0SPRWKMjoP             4         audio      H           40.7   \n",
       "14  R_3to1h0SPRWKMjoP             5         audio     NH           18.1   \n",
       "17  R_3to1h0SPRWKMjoP             8         audio      H           36.2   \n",
       "22  R_7YEYfnqKlBiEcLK             3         audio     NH           42.4   \n",
       "\n",
       "    initial_guess  initial_confidence  later_guess  later_confidence  \\\n",
       "0               1                  87            1                54   \n",
       "2               1                  64            1                62   \n",
       "3               2                  85            2                68   \n",
       "5               2                  58            2                40   \n",
       "8               2                  46            2                25   \n",
       "11              1                 100            1               100   \n",
       "13              2                  40            2                44   \n",
       "14              2                 100            2               100   \n",
       "17              2                  72            2                65   \n",
       "22              1                  72            1                66   \n",
       "\n",
       "    feedback_influence comments  technical_score  familiarity_score  \\\n",
       "0                    1      NaN         0.916667                0.9   \n",
       "2                    1      NaN         0.916667                0.9   \n",
       "3                    1      NaN         0.916667                0.9   \n",
       "5                    1      NaN         0.916667                0.9   \n",
       "8                    1      NaN         0.916667                0.9   \n",
       "11                   2      NaN         0.633333                0.6   \n",
       "13                   2      NaN         0.633333                0.6   \n",
       "14                   2      NaN         0.633333                0.6   \n",
       "17                   2      NaN         0.633333                0.6   \n",
       "22                   2      NaN         0.583333                0.8   \n",
       "\n",
       "    feedback_change  ground_truth  AI_guess feedback_source  flip  \\\n",
       "0             False             2         2              AI     0   \n",
       "2             False             2         2              AI     0   \n",
       "3             False             2         1           Human     0   \n",
       "5             False             2         1           Human     0   \n",
       "8             False             1         1              AI     0   \n",
       "11            False             2         2           Human     0   \n",
       "13            False             2         1           Human     0   \n",
       "14            False             1         1              AI     0   \n",
       "17            False             2         1           Human     0   \n",
       "22            False             2         2              AI     0   \n",
       "\n",
       "    confidence_change  \n",
       "0                 -33  \n",
       "2                  -2  \n",
       "3                 -17  \n",
       "5                 -18  \n",
       "8                 -21  \n",
       "11                  0  \n",
       "13                  4  \n",
       "14                  0  \n",
       "17                 -7  \n",
       "22                 -6  "
      ]
     },
     "execution_count": 59,
     "metadata": {},
     "output_type": "execute_result"
    }
   ],
   "source": [
    "df_AI_diff_feedback.head(10)"
   ]
  },
  {
   "cell_type": "code",
   "execution_count": 55,
   "metadata": {},
   "outputs": [],
   "source": [
    "# Step 1: Compute flip rate per participant × feedback source\n",
    "flip_summary = (\n",
    "    df_AI_diff_feedback\n",
    "    .groupby(['participant_id', 'feedback_source'])['flip']\n",
    "    .mean()\n",
    "    .reset_index()\n",
    "    .rename(columns={'flip': 'flip_rate'})\n",
    ")\n",
    "\n",
    "# Step 2: Merge with conf_df3\n",
    "conf_df3 = conf_df3.merge(\n",
    "    flip_summary,\n",
    "    on=['participant_id', 'feedback_source'],\n",
    "    how='left'  # keep only rows from conf_df3\n",
    ")"
   ]
  },
  {
   "cell_type": "code",
   "execution_count": 60,
   "metadata": {},
   "outputs": [
    {
     "data": {
      "text/html": [
       "<div>\n",
       "<style scoped>\n",
       "    .dataframe tbody tr th:only-of-type {\n",
       "        vertical-align: middle;\n",
       "    }\n",
       "\n",
       "    .dataframe tbody tr th {\n",
       "        vertical-align: top;\n",
       "    }\n",
       "\n",
       "    .dataframe thead th {\n",
       "        text-align: right;\n",
       "    }\n",
       "</style>\n",
       "<table border=\"1\" class=\"dataframe\">\n",
       "  <thead>\n",
       "    <tr style=\"text-align: right;\">\n",
       "      <th></th>\n",
       "      <th>participant_id</th>\n",
       "      <th>technical_score</th>\n",
       "      <th>familiarity_score</th>\n",
       "      <th>feedback_type</th>\n",
       "      <th>feedback_source</th>\n",
       "      <th>mean_conf_change</th>\n",
       "      <th>flip_rate</th>\n",
       "    </tr>\n",
       "  </thead>\n",
       "  <tbody>\n",
       "    <tr>\n",
       "      <th>0</th>\n",
       "      <td>R_1Ra6z3SyuebyqsE</td>\n",
       "      <td>0.783333</td>\n",
       "      <td>0.7</td>\n",
       "      <td>audio</td>\n",
       "      <td>AI</td>\n",
       "      <td>2.000000</td>\n",
       "      <td>0.750000</td>\n",
       "    </tr>\n",
       "    <tr>\n",
       "      <th>1</th>\n",
       "      <td>R_1Ra6z3SyuebyqsE</td>\n",
       "      <td>0.783333</td>\n",
       "      <td>0.7</td>\n",
       "      <td>audio</td>\n",
       "      <td>Human</td>\n",
       "      <td>6.500000</td>\n",
       "      <td>0.000000</td>\n",
       "    </tr>\n",
       "    <tr>\n",
       "      <th>2</th>\n",
       "      <td>R_1eW39XhMxtmNOvv</td>\n",
       "      <td>0.350000</td>\n",
       "      <td>0.5</td>\n",
       "      <td>audio</td>\n",
       "      <td>AI</td>\n",
       "      <td>-6.500000</td>\n",
       "      <td>0.333333</td>\n",
       "    </tr>\n",
       "    <tr>\n",
       "      <th>3</th>\n",
       "      <td>R_1eW39XhMxtmNOvv</td>\n",
       "      <td>0.350000</td>\n",
       "      <td>0.5</td>\n",
       "      <td>audio</td>\n",
       "      <td>Human</td>\n",
       "      <td>-3.000000</td>\n",
       "      <td>0.000000</td>\n",
       "    </tr>\n",
       "    <tr>\n",
       "      <th>4</th>\n",
       "      <td>R_1egeBUaB0oERkjz</td>\n",
       "      <td>0.483333</td>\n",
       "      <td>0.9</td>\n",
       "      <td>audio</td>\n",
       "      <td>AI</td>\n",
       "      <td>9.000000</td>\n",
       "      <td>0.500000</td>\n",
       "    </tr>\n",
       "    <tr>\n",
       "      <th>5</th>\n",
       "      <td>R_1egeBUaB0oERkjz</td>\n",
       "      <td>0.483333</td>\n",
       "      <td>0.9</td>\n",
       "      <td>audio</td>\n",
       "      <td>Human</td>\n",
       "      <td>16.600000</td>\n",
       "      <td>0.000000</td>\n",
       "    </tr>\n",
       "    <tr>\n",
       "      <th>6</th>\n",
       "      <td>R_1n91AdhujHNQUZF</td>\n",
       "      <td>0.250000</td>\n",
       "      <td>0.7</td>\n",
       "      <td>audio</td>\n",
       "      <td>AI</td>\n",
       "      <td>2.000000</td>\n",
       "      <td>0.000000</td>\n",
       "    </tr>\n",
       "    <tr>\n",
       "      <th>7</th>\n",
       "      <td>R_1n91AdhujHNQUZF</td>\n",
       "      <td>0.250000</td>\n",
       "      <td>0.7</td>\n",
       "      <td>audio</td>\n",
       "      <td>Human</td>\n",
       "      <td>13.666667</td>\n",
       "      <td>0.500000</td>\n",
       "    </tr>\n",
       "    <tr>\n",
       "      <th>8</th>\n",
       "      <td>R_21GwgasGE5hbaoY</td>\n",
       "      <td>0.716667</td>\n",
       "      <td>0.8</td>\n",
       "      <td>audio</td>\n",
       "      <td>AI</td>\n",
       "      <td>0.333333</td>\n",
       "      <td>0.000000</td>\n",
       "    </tr>\n",
       "    <tr>\n",
       "      <th>9</th>\n",
       "      <td>R_21GwgasGE5hbaoY</td>\n",
       "      <td>0.716667</td>\n",
       "      <td>0.8</td>\n",
       "      <td>audio</td>\n",
       "      <td>Human</td>\n",
       "      <td>-1.000000</td>\n",
       "      <td>0.000000</td>\n",
       "    </tr>\n",
       "  </tbody>\n",
       "</table>\n",
       "</div>"
      ],
      "text/plain": [
       "      participant_id  technical_score  familiarity_score feedback_type  \\\n",
       "0  R_1Ra6z3SyuebyqsE         0.783333                0.7         audio   \n",
       "1  R_1Ra6z3SyuebyqsE         0.783333                0.7         audio   \n",
       "2  R_1eW39XhMxtmNOvv         0.350000                0.5         audio   \n",
       "3  R_1eW39XhMxtmNOvv         0.350000                0.5         audio   \n",
       "4  R_1egeBUaB0oERkjz         0.483333                0.9         audio   \n",
       "5  R_1egeBUaB0oERkjz         0.483333                0.9         audio   \n",
       "6  R_1n91AdhujHNQUZF         0.250000                0.7         audio   \n",
       "7  R_1n91AdhujHNQUZF         0.250000                0.7         audio   \n",
       "8  R_21GwgasGE5hbaoY         0.716667                0.8         audio   \n",
       "9  R_21GwgasGE5hbaoY         0.716667                0.8         audio   \n",
       "\n",
       "  feedback_source  mean_conf_change  flip_rate  \n",
       "0              AI          2.000000   0.750000  \n",
       "1           Human          6.500000   0.000000  \n",
       "2              AI         -6.500000   0.333333  \n",
       "3           Human         -3.000000   0.000000  \n",
       "4              AI          9.000000   0.500000  \n",
       "5           Human         16.600000   0.000000  \n",
       "6              AI          2.000000   0.000000  \n",
       "7           Human         13.666667   0.500000  \n",
       "8              AI          0.333333   0.000000  \n",
       "9           Human         -1.000000   0.000000  "
      ]
     },
     "execution_count": 60,
     "metadata": {},
     "output_type": "execute_result"
    }
   ],
   "source": [
    "conf_df3['flip_rate'] = conf_df3['flip_rate'].fillna(0)\n",
    "conf_df3.head(10)"
   ]
  },
  {
   "cell_type": "markdown",
   "metadata": {},
   "source": [
    "### Test whether AI familiarity predicts how much participants' confidence changes under AI feedback."
   ]
  },
  {
   "cell_type": "code",
   "execution_count": 61,
   "metadata": {},
   "outputs": [
    {
     "name": "stdout",
     "output_type": "stream",
     "text": [
      "🔍 Pearson Correlation:\n",
      " r = -0.014, p = 0.906\n"
     ]
    },
    {
     "data": {
      "image/png": "[encoded data removed]",
      "text/plain": [
       "<Figure size 513x360 with 1 Axes>"
      ]
     },
     "metadata": {
      "needs_background": "light"
     },
     "output_type": "display_data"
    }
   ],
   "source": [
    "# Step 1: Filter only AI feedback\n",
    "ai_only = conf_df3[conf_df3['feedback_source'] == 'AI'].copy()\n",
    "\n",
    "# Step 2: Run Pearson correlation\n",
    "r, p = pearsonr(ai_only['familiarity_score'], ai_only['mean_conf_change'])\n",
    "print(f\"🔍 Pearson Correlation:\\n r = {r:.3f}, p = {p:.3f}\")\n",
    "\n",
    "# Step 3: Regression plot\n",
    "sns.lmplot(\n",
    "    data=ai_only,\n",
    "    x='familiarity_score',\n",
    "    y='mean_conf_change',\n",
    "    hue='feedback_type',\n",
    "    height=5,\n",
    "    aspect=1.2,\n",
    "    scatter_kws={'alpha': 0.7},\n",
    "    line_kws={'color': 'black'}\n",
    ")\n",
    "\n",
    "plt.axhline(0, linestyle='--', color='gray')\n",
    "plt.title(\"AI Familiarity vs Confidence Change (AI Feedback Only)\")\n",
    "plt.xlabel(\"AI Familiarity Score\")\n",
    "plt.ylabel(\"Mean Confidence Change\")\n",
    "plt.tight_layout()\n",
    "plt.show()"
   ]
  },
  {
   "cell_type": "markdown",
   "metadata": {},
   "source": [
    "AI familiarity does not appear to predict how much participants change their confidence under AI feedback.\n",
    "\n",
    "The regression line is nearly flat.\n",
    "\n",
    "Confidence intervals (gray area) are wide → high variability.\n",
    "\n",
    "Data points are scattered with no clear trend — confidence change happens across all familiarity levels.\n",
    "\n"
   ]
  },
  {
   "cell_type": "markdown",
   "metadata": {},
   "source": [
    "### Technical knowledge affects trust in AI vs human feedback : \n",
    "Take feedback source (AI or Human) and technical knowledge and mean flip/confidence\\\n",
    "Regression flip_rate ~ feedback_source * technical_knowledge\n",
    "\n",
    "If the interaction is significant, it means technical knowledge influences the effect of the feedback source on flip rate"
   ]
  },
  {
   "cell_type": "code",
   "execution_count": 62,
   "metadata": {},
   "outputs": [
    {
     "name": "stdout",
     "output_type": "stream",
     "text": [
      "                            OLS Regression Results                            \n",
      "==============================================================================\n",
      "Dep. Variable:              flip_rate   R-squared:                       0.003\n",
      "Model:                            OLS   Adj. R-squared:                 -0.019\n",
      "Method:                 Least Squares   F-statistic:                    0.1389\n",
      "Date:                Mon, 26 May 2025   Prob (F-statistic):              0.937\n",
      "Time:                        17:35:55   Log-Likelihood:                -41.983\n",
      "No. Observations:                 138   AIC:                             91.97\n",
      "Df Residuals:                     134   BIC:                             103.7\n",
      "Df Model:                           3                                         \n",
      "Covariance Type:            nonrobust                                         \n",
      "============================================================================================================\n",
      "                                               coef    std err          t      P>|t|      [0.025      0.975]\n",
      "------------------------------------------------------------------------------------------------------------\n",
      "Intercept                                    0.2311      0.122      1.901      0.060      -0.009       0.472\n",
      "feedback_source[T.Human]                     0.0658      0.174      0.378      0.706      -0.279       0.410\n",
      "technical_score                             -0.0152      0.216     -0.070      0.944      -0.442       0.411\n",
      "feedback_source[T.Human]:technical_score    -0.1248      0.307     -0.407      0.685      -0.732       0.482\n",
      "==============================================================================\n",
      "Omnibus:                       28.700   Durbin-Watson:                   1.829\n",
      "Prob(Omnibus):                  0.000   Jarque-Bera (JB):               39.648\n",
      "Skew:                           1.296   Prob(JB):                     2.46e-09\n",
      "Kurtosis:                       3.421   Cond. No.                         18.2\n",
      "==============================================================================\n",
      "\n",
      "Notes:\n",
      "[1] Standard Errors assume that the covariance matrix of the errors is correctly specified.\n"
     ]
    }
   ],
   "source": [
    "# Run the regression model with interaction\n",
    "model = smf.ols('flip_rate ~ feedback_source * technical_score', data=conf_df3).fit()\n",
    "\n",
    "# Show summary\n",
    "print(model.summary())"
   ]
  },
  {
   "cell_type": "markdown",
   "metadata": {},
   "source": [
    "The results do not support the idea that technical knowledge influences how much people trust or follow feedback from AI or Human sources.\n",
    "\n",
    "None of the predictors are statistically significant (p > 0.05)\n",
    "\n",
    "R² is almost zero → the model doesn’t explain much of the variability\n",
    "\n",
    "Interaction is not significant → no moderation effect of technical skill"
   ]
  },
  {
   "cell_type": "markdown",
   "metadata": {},
   "source": [
    "### Analyze open-ended responses\n",
    "Count keyword frequencies "
   ]
  },
  {
   "cell_type": "code",
   "execution_count": 28,
   "metadata": {},
   "outputs": [
    {
     "name": "stderr",
     "output_type": "stream",
     "text": [
      "C:\\Users\\utilisateur\\AppData\\Local\\Temp\\ipykernel_12320\\923215321.py:31: FutureWarning: \n",
      "\n",
      "Passing `palette` without assigning `hue` is deprecated and will be removed in v0.14.0. Assign the `y` variable to `hue` and set `legend=False` for the same effect.\n",
      "\n",
      "  sns.barplot(x=word_totals.values, y=word_totals.index, palette=\"rocket\")\n"
     ]
    },
    {
     "data": {
      "image/png": "[encoded data removed]",
      "text/plain": [
       "<Figure size 576x360 with 1 Axes>"
      ]
     },
     "metadata": {
      "needs_background": "light"
     },
     "output_type": "display_data"
    }
   ],
   "source": [
    "from sklearn.feature_extraction.text import CountVectorizer\n",
    "import unidecode\n",
    "\n",
    "# Step 1: Extract and clean comments\n",
    "comments = new_df['comments'].dropna().astype(str)\n",
    "\n",
    "# Optional: normalize accents (é → e, etc.) for consistent counting\n",
    "comments = comments.apply(lambda x: unidecode.unidecode(x.lower()))\n",
    "\n",
    "# Step 2: Define a French stopword list\n",
    "french_stopwords = [\n",
    "    'le', 'la', 'les', 'un', 'une', 'des', 'de', 'du', 'ce', 'cet', 'cette',\n",
    "    'et', 'ou', 'mais', 'donc', 'or', 'ni', 'car', 'je', 'tu', 'il', 'elle',\n",
    "    'nous', 'vous', 'ils', 'elles', 'on', 'que', 'qui', 'quoi', 'dans',\n",
    "    'ne', 'pas', 'plus', 'moins', 'comme', 'a', 'au', 'aux', 'avec', 'par',\n",
    "    'pour', 'en', 'sur', 'sous', 'entre', 'chez', 'lui', 'leur', 'leurs',\n",
    "    'y', 'se', 'sa', 'son', 'ses', 'ceci', 'cela', 'cette', 'quel', 'quelle',\n",
    "    'quels', 'quelles', 'mes', 'tes', 'nos', 'vos', 'est', 'mon', 'qu', 'me', \n",
    "    'suis', 'ma', 'ca', 'tres', 'fait', \n",
    "]\n",
    "\n",
    "# Step 3: Count word frequencies, excluding stopwords\n",
    "vectorizer = CountVectorizer(stop_words=french_stopwords)\n",
    "X = vectorizer.fit_transform(comments)\n",
    "\n",
    "# Step 4: Summarize and visualize\n",
    "word_counts = pd.DataFrame(X.toarray(), columns=vectorizer.get_feature_names_out())\n",
    "word_totals = word_counts.sum().sort_values(ascending=False).head(20)\n",
    "\n",
    "plt.figure(figsize=(8, 5))\n",
    "sns.barplot(x=word_totals.values, y=word_totals.index, palette=\"rocket\")\n",
    "plt.title('Top 20 mots les plus fréquents dans les commentaires')\n",
    "plt.xlabel('Fréquence')\n",
    "plt.ylabel('Mot')\n",
    "plt.tight_layout()\n",
    "plt.show()"
   ]
  },
  {
   "cell_type": "code",
   "execution_count": null,
   "metadata": {},
   "outputs": [],
   "source": []
  },
  {
   "cell_type": "code",
   "execution_count": null,
   "metadata": {},
   "outputs": [],
   "source": []
  },
  {
   "cell_type": "code",
   "execution_count": null,
   "metadata": {},
   "outputs": [],
   "source": []
  },
  {
   "cell_type": "code",
   "execution_count": null,
   "metadata": {},
   "outputs": [],
   "source": []
  },
  {
   "cell_type": "code",
   "execution_count": null,
   "metadata": {},
   "outputs": [],
   "source": []
  },
  {
   "cell_type": "code",
   "execution_count": 29,
   "metadata": {},
   "outputs": [
    {
     "data": {
      "text/plain": [
       "<Axes: xlabel='feedback_influence', ylabel='Count'>"
      ]
     },
     "execution_count": 29,
     "metadata": {},
     "output_type": "execute_result"
    },
    {
     "data": {
      "image/png": "[encoded data removed]",
      "text/plain": [
       "<Figure size 432x288 with 1 Axes>"
      ]
     },
     "metadata": {
      "needs_background": "light"
     },
     "output_type": "display_data"
    }
   ],
   "source": [
    "sns.histplot(data=new_df, x=\"feedback_influence\")"
   ]
  },
  {
   "cell_type": "code",
   "execution_count": 30,
   "metadata": {},
   "outputs": [
    {
     "data": {
      "image/png": "[encoded data removed]",
      "text/plain": [
       "<Figure size 432x288 with 1 Axes>"
      ]
     },
     "metadata": {
      "needs_background": "light"
     },
     "output_type": "display_data"
    }
   ],
   "source": [
    "# plot the amount of people that changed their opions after feedback with only 2 bins and xticks no for 0 and yes for 1\n",
    "sns.histplot(data=new_df, x=\"feedback_change\",bins=2)\n",
    "plt.xticks([0, 1], [\"No\", \"Yes\"])\n",
    "plt.xlabel(\"Feedback Change\")\n",
    "plt.ylabel(\"Count\")\n",
    "plt.title(\"Feedback Change Distribution\")\n",
    "plt.show()"
   ]
  },
  {
   "cell_type": "code",
   "execution_count": 31,
   "metadata": {},
   "outputs": [
    {
     "data": {
      "image/png": "[encoded data removed]",
      "text/plain": [
       "<Figure size 432x288 with 1 Axes>"
      ]
     },
     "metadata": {
      "needs_background": "light"
     },
     "output_type": "display_data"
    }
   ],
   "source": [
    "import matplotlib.pyplot as plt\n",
    "\n",
    "# Count values\n",
    "no_fb_change_same_fb = np.sum((new_df[\"feedback_change\"] == 0) & (new_df[\"initial_guess\"] != new_df[\"AI_guess\"]))\n",
    "fb_change_same_fb = np.sum((new_df[\"feedback_change\"] == 1) & (new_df[\"initial_guess\"] != new_df[\"AI_guess\"]))\n",
    "\n",
    "# Bar plot\n",
    "labels = [\"No Feedback Change\", \"Feedback Change\"]\n",
    "counts = [no_fb_change_same_fb, fb_change_same_fb]\n",
    "\n",
    "plt.figure(figsize=(6, 4))\n",
    "plt.bar(labels, counts)\n",
    "plt.ylabel(\"Count\")\n",
    "plt.title(\"Count of Changed Guesses when feedback contradicts initial guess\")\n",
    "plt.tight_layout()\n",
    "plt.show()\n"
   ]
  },
  {
   "cell_type": "code",
   "execution_count": null,
   "metadata": {},
   "outputs": [],
   "source": []
  },
  {
   "cell_type": "markdown",
   "metadata": {},
   "source": [
    "## ChatGPT proposed analysis : (A vérifier et completer !!)"
   ]
  },
  {
   "cell_type": "code",
   "execution_count": 32,
   "metadata": {},
   "outputs": [],
   "source": [
    "\n",
    "from scipy import stats\n",
    "import statsmodels.api as sm\n",
    "from statsmodels.formula.api import ols\n",
    "from statsmodels.stats.anova import AnovaRM\n",
    "\n",
    "df2 = new_df.copy()"
   ]
  },
  {
   "cell_type": "code",
   "execution_count": 33,
   "metadata": {},
   "outputs": [],
   "source": [
    "# Whether initial and later guess are correct\n",
    "df2['initial_correct'] = df2['initial_guess'] == df2['ground_truth']\n",
    "df2['later_correct'] = df2['later_guess'] == df2['ground_truth']\n",
    "\n",
    "# Change in confidence and accuracy\n",
    "df2['confidence_change'] = df2['later_confidence'] - df2['initial_confidence']\n",
    "df2['accuracy_change'] = df2['later_correct'].astype(int) - df2['initial_correct'].astype(int)"
   ]
  },
  {
   "cell_type": "code",
   "execution_count": 34,
   "metadata": {},
   "outputs": [
    {
     "data": {
      "text/plain": [
       "'R_8Do6YUFYQenUARY'"
      ]
     },
     "execution_count": 34,
     "metadata": {},
     "output_type": "execute_result"
    }
   ],
   "source": [
    "df2[\"participant_id\"].iloc[0]"
   ]
  },
  {
   "cell_type": "markdown",
   "metadata": {},
   "source": [
    "### 2x2 Mixed ANOVA\n",
    "\n",
    "- Within: hum_AI (AI vs Human)\n",
    "- Between: feedback_type (Text vs Audio)\n",
    "- DVs: confidence_change, accuracy_change"
   ]
  },
  {
   "cell_type": "code",
   "execution_count": 35,
   "metadata": {},
   "outputs": [],
   "source": [
    "# Aggregate per participant per condition (AI vs Human)\n",
    "agg = df2.groupby(['participant_id', 'feedback_type', 'hum_AI']).agg({\n",
    "    'confidence_change': 'mean',\n",
    "    'accuracy_change': 'mean'\n",
    "}).reset_index()\n"
   ]
  },
  {
   "cell_type": "markdown",
   "metadata": {},
   "source": [
    "##### Run Mixed ANOVA (e.g., for confidence change):"
   ]
  },
  {
   "cell_type": "code",
   "execution_count": 36,
   "metadata": {},
   "outputs": [
    {
     "name": "stdout",
     "output_type": "stream",
     "text": [
      "          Source          SS  DF1  DF2          MS         F     p-unc  \\\n",
      "0  feedback_type  138.345829    1   71  138.345829  1.291295  0.259630   \n",
      "1         hum_AI  175.781096    1   71  175.781096  2.125774  0.149249   \n",
      "2    Interaction   27.940056    1   71   27.940056  0.337888  0.562892   \n",
      "\n",
      "        np2  eps  \n",
      "0  0.017862  NaN  \n",
      "1  0.029070  1.0  \n",
      "2  0.004736  NaN  \n"
     ]
    }
   ],
   "source": [
    "import pingouin as pg\n",
    "\n",
    "aov = pg.mixed_anova(data=agg, dv='confidence_change', \n",
    "                     within='hum_AI', between='feedback_type', \n",
    "                     subject='participant_id')\n",
    "print(aov)\n"
   ]
  },
  {
   "cell_type": "markdown",
   "metadata": {},
   "source": [
    "## Paired t-tests Within Each Group (e.g., audio group AI vs Human)"
   ]
  },
  {
   "cell_type": "code",
   "execution_count": 37,
   "metadata": {},
   "outputs": [
    {
     "name": "stdout",
     "output_type": "stream",
     "text": [
      "Audio group: AI vs Human confidence change t-test: t_stat: 0.7812802454547029 , p_val : 0.4391259328832018\n",
      "Text group: AI vs Human confidence change t-test, t_stat: 1.2789652215996343 , p_val : 0.21071431968291854\n"
     ]
    }
   ],
   "source": [
    "audio_group = agg[agg['feedback_type'] == 'audio']\n",
    "text_group = agg[agg['feedback_type'] == 'text']\n",
    "\n",
    "# Paired t-tests within audio group\n",
    "audio_ai = audio_group[audio_group['hum_AI'] == 'NH'].set_index('participant_id')\n",
    "audio_human = audio_group[audio_group['hum_AI'] == 'H'].set_index('participant_id')\n",
    "\n",
    "# Match on participant_id\n",
    "common_ids = audio_ai.index.intersection(audio_human.index)\n",
    "t_stat, p_val = stats.ttest_rel(audio_ai.loc[common_ids, 'confidence_change'],\n",
    "                                 audio_human.loc[common_ids, 'confidence_change'])\n",
    "print(\"Audio group: AI vs Human confidence change t-test: t_stat:\", t_stat,\", p_val :\", p_val)\n",
    "\n",
    "# same for text group\n",
    "text_ai = text_group[text_group['hum_AI'] == 'NH'].set_index('participant_id')\n",
    "text_human = text_group[text_group['hum_AI'] == 'H'].set_index('participant_id')\n",
    "# Match on participant_id\n",
    "common_ids = text_ai.index.intersection(text_human.index)\n",
    "t_stat, p_val = stats.ttest_rel(text_ai.loc[common_ids, 'confidence_change'],\n",
    "                                 text_human.loc[common_ids, 'confidence_change'])\n",
    "print(\"Text group: AI vs Human confidence change t-test, t_stat:\", t_stat,\", p_val :\", p_val)\n"
   ]
  },
  {
   "cell_type": "code",
   "execution_count": 38,
   "metadata": {},
   "outputs": [
    {
     "name": "stdout",
     "output_type": "stream",
     "text": [
      "Audio group: AI vs Human accuracy change t-test, t_stat: 4.87754783707993 , p_val : 1.661693702889556e-05\n",
      "Text group: AI vs Human accuracy change t-test, t_stat: 2.7524094128159016 , p_val : 0.009941586197226604\n"
     ]
    }
   ],
   "source": [
    "# same for accuracy_change\n",
    "# Paired t-tests within audio group\n",
    "audio_ai = audio_group[audio_group['hum_AI'] == 'NH'].set_index('participant_id')\n",
    "audio_human = audio_group[audio_group['hum_AI'] == 'H'].set_index('participant_id')\n",
    "# Match on participant_id\n",
    "common_ids = audio_ai.index.intersection(audio_human.index)\n",
    "t_stat, p_val = stats.ttest_rel(audio_ai.loc[common_ids, 'accuracy_change'],\n",
    "                                 audio_human.loc[common_ids, 'accuracy_change'])\n",
    "print(\"Audio group: AI vs Human accuracy change t-test, t_stat:\", t_stat,\", p_val :\", p_val)\n",
    "# same for text group\n",
    "text_ai = text_group[text_group['hum_AI'] == 'NH'].set_index('participant_id')\n",
    "text_human = text_group[text_group['hum_AI'] == 'H'].set_index('participant_id')\n",
    "# Match on participant_id\n",
    "common_ids = text_ai.index.intersection(text_human.index)\n",
    "t_stat, p_val = stats.ttest_rel(text_ai.loc[common_ids, 'accuracy_change'],\n",
    "                                 text_human.loc[common_ids, 'accuracy_change'])\n",
    "print(\"Text group: AI vs Human accuracy change t-test, t_stat:\", t_stat,\", p_val :\", p_val)"
   ]
  },
  {
   "cell_type": "markdown",
   "metadata": {},
   "source": [
    "## Visualizations : Bar plots for confidence and accuracy change"
   ]
  },
  {
   "cell_type": "code",
   "execution_count": 39,
   "metadata": {},
   "outputs": [
    {
     "name": "stderr",
     "output_type": "stream",
     "text": [
      "C:\\Users\\utilisateur\\AppData\\Local\\Temp\\ipykernel_12320\\1112360397.py:1: FutureWarning: \n",
      "\n",
      "The `ci` parameter is deprecated. Use `errorbar=('ci', 68)` for the same effect.\n",
      "\n",
      "  sns.barplot(data=agg, x='hum_AI', y='confidence_change', hue='feedback_type', ci=68)\n"
     ]
    },
    {
     "data": {
      "image/png": "[encoded data removed]",
      "text/plain": [
       "<Figure size 432x288 with 1 Axes>"
      ]
     },
     "metadata": {
      "needs_background": "light"
     },
     "output_type": "display_data"
    }
   ],
   "source": [
    "\n",
    "sns.barplot(data=agg, x='hum_AI', y='confidence_change', hue='feedback_type', ci=68)\n",
    "plt.title(\"Confidence Change by Feedback Source and Modality\")\n",
    "plt.ylabel(\"Mean Confidence Change\")\n",
    "plt.show()\n"
   ]
  },
  {
   "cell_type": "code",
   "execution_count": 40,
   "metadata": {},
   "outputs": [
    {
     "name": "stderr",
     "output_type": "stream",
     "text": [
      "C:\\Users\\utilisateur\\AppData\\Local\\Temp\\ipykernel_12320\\141734533.py:1: FutureWarning: \n",
      "\n",
      "The `ci` parameter is deprecated. Use `errorbar=('ci', 68)` for the same effect.\n",
      "\n",
      "  sns.barplot(data=agg, x='hum_AI', y='accuracy_change', hue='feedback_type', ci=68)\n"
     ]
    },
    {
     "data": {
      "image/png": "[encoded data removed]",
      "text/plain": [
       "<Figure size 432x288 with 1 Axes>"
      ]
     },
     "metadata": {
      "needs_background": "light"
     },
     "output_type": "display_data"
    }
   ],
   "source": [
    "sns.barplot(data=agg, x='hum_AI', y='accuracy_change', hue='feedback_type', ci=68)\n",
    "plt.title(\"Accuracy Change by Feedback Source and Modality\")\n",
    "plt.ylabel(\"Mean Accuracy Change\")\n",
    "plt.show()\n"
   ]
  },
  {
   "cell_type": "markdown",
   "metadata": {},
   "source": [
    "## Exploratory Analyses"
   ]
  },
  {
   "cell_type": "markdown",
   "metadata": {},
   "source": [
    "Correlation: confidence change vs feedback_influence"
   ]
  },
  {
   "cell_type": "code",
   "execution_count": 41,
   "metadata": {},
   "outputs": [
    {
     "name": "stdout",
     "output_type": "stream",
     "text": [
      "Correlation between confidence change and perceived feedback influence: -0.11106693368378617\n"
     ]
    }
   ],
   "source": [
    "corr = df2['confidence_change'].corr(df2['feedback_influence'])\n",
    "print(\"Correlation between confidence change and perceived feedback influence:\", corr)\n"
   ]
  },
  {
   "cell_type": "markdown",
   "metadata": {},
   "source": [
    "Time-on-video vs change in confidence"
   ]
  },
  {
   "cell_type": "code",
   "execution_count": 42,
   "metadata": {},
   "outputs": [
    {
     "data": {
      "image/png": "[encoded data removed]",
      "text/plain": [
       "<Figure size 432x288 with 1 Axes>"
      ]
     },
     "metadata": {
      "needs_background": "light"
     },
     "output_type": "display_data"
    }
   ],
   "source": [
    "sns.scatterplot(data=df2, x='time_on_video', y='confidence_change', hue='feedback_type')\n",
    "plt.title(\"Time Spent on Video vs. Change in Confidence\")\n",
    "plt.show()\n"
   ]
  },
  {
   "cell_type": "markdown",
   "metadata": {},
   "source": [
    "## Thematic Analysis of Open-ended Responses"
   ]
  },
  {
   "cell_type": "code",
   "execution_count": 43,
   "metadata": {},
   "outputs": [
    {
     "data": {
      "image/png": "[encoded data removed]",
      "text/plain": [
       "<Figure size 432x288 with 1 Axes>"
      ]
     },
     "metadata": {
      "needs_background": "light"
     },
     "output_type": "display_data"
    }
   ],
   "source": [
    "from sklearn.feature_extraction.text import CountVectorizer\n",
    "\n",
    "vectorizer = CountVectorizer(stop_words='english', max_features=30)\n",
    "X = vectorizer.fit_transform(df2['comments'].dropna())\n",
    "words = vectorizer.get_feature_names_out()\n",
    "counts = X.toarray().sum(axis=0)\n",
    "\n",
    "top_words = pd.DataFrame({'word': words, 'count': counts}).sort_values(by='count', ascending=False)\n",
    "sns.barplot(data=top_words.head(10), x='count', y='word')\n",
    "plt.title(\"Top 10 Words in Feedback Comments\")\n",
    "plt.show()\n"
   ]
  },
  {
   "cell_type": "markdown",
   "metadata": {},
   "source": [
    "## Participant-Level Summary Stats"
   ]
  },
  {
   "cell_type": "code",
   "execution_count": 44,
   "metadata": {},
   "outputs": [
    {
     "data": {
      "image/png": "[encoded data removed]",
      "text/plain": [
       "<Figure size 864x288 with 3 Axes>"
      ]
     },
     "metadata": {
      "needs_background": "light"
     },
     "output_type": "display_data"
    }
   ],
   "source": [
    "participant_summary = df2.groupby('participant_id').agg({\n",
    "    'confidence_change': 'mean',\n",
    "    'accuracy_change': 'mean',\n",
    "    'feedback_influence': 'mean'\n",
    "}).reset_index()\n",
    "\n",
    "# plot the distribution of confidence, accuracy and feedback influence change\n",
    "plt.figure(figsize=(12, 4))\n",
    "plt.subplot(1, 3, 1)\n",
    "sns.histplot(data=participant_summary, x='confidence_change', bins=10)\n",
    "plt.title(\"Distribution of Confidence Change\")\n",
    "plt.subplot(1, 3, 2)\n",
    "sns.histplot(data=participant_summary, x='accuracy_change', bins=10)\n",
    "plt.title(\"Distribution of Accuracy Change\")\n",
    "plt.subplot(1, 3, 3)\n",
    "sns.histplot(data=participant_summary, x='feedback_influence', bins=10)\n",
    "plt.title(\"Distribution of Feedback Influence\")\n",
    "plt.tight_layout()\n",
    "plt.show()\n",
    "\n",
    "\n",
    "\n"
   ]
  },
  {
   "cell_type": "code",
   "execution_count": 45,
   "metadata": {},
   "outputs": [
    {
     "data": {
      "image/png": "[encoded data removed]",
      "text/plain": [
       "<Figure size 432x288 with 1 Axes>"
      ]
     },
     "metadata": {
      "needs_background": "light"
     },
     "output_type": "display_data"
    }
   ],
   "source": [
    "# participants accuracy vs ai guess accuracy\n",
    "AI_acc = (np.array(list(gt_guess_dict.values())) == np.array(list(feedb_guess_dict.values()))).sum()/10\n",
    "participant_accuracy = (df2['initial_guess'] == df2['ground_truth']).sum()/len(df2)\n",
    "participant_accuracy_aft = (df2['later_guess'] == df2['ground_truth']).sum()/len(df2)\n",
    "\n",
    "\n",
    "\n",
    "# plot histogram of the accuracy of the participants and AI on the y axis\n",
    "plt.bar(['Participant','Participants post feedback', 'AI'],[participant_accuracy,participant_accuracy_aft, AI_acc])\n",
    "plt.ylabel(\"Accuracy\")\n",
    "plt.title(\"Accuracy of Participants vs AI\")\n",
    "plt.show()\n",
    "\n"
   ]
  },
  {
   "cell_type": "code",
   "execution_count": 46,
   "metadata": {},
   "outputs": [
    {
     "name": "stderr",
     "output_type": "stream",
     "text": [
      "c:\\users\\utilisateur\\anaconda3\\lib\\site-packages\\matplotlib\\axes\\_axes.py:7001: RuntimeWarning: Converting input from bool to <class 'numpy.uint8'> for compatibility.\n",
      "  m, bins = np.histogram(x[i], bins, weights=w[i], **hist_kwargs)\n"
     ]
    },
    {
     "ename": "TypeError",
     "evalue": "numpy boolean subtract, the `-` operator, is not supported, use the bitwise_xor, the `^` operator, or the logical_xor function instead.",
     "output_type": "error",
     "traceback": [
      "\u001b[1;31m---------------------------------------------------------------------------\u001b[0m",
      "\u001b[1;31mKeyError\u001b[0m                                  Traceback (most recent call last)",
      "File \u001b[1;32mc:\\users\\utilisateur\\anaconda3\\lib\\site-packages\\numpy\\lib\\histograms.py:351\u001b[0m, in \u001b[0;36m_unsigned_subtract\u001b[1;34m(a, b)\u001b[0m\n\u001b[0;32m    350\u001b[0m \u001b[38;5;28;01mtry\u001b[39;00m:\n\u001b[1;32m--> 351\u001b[0m     dt \u001b[38;5;241m=\u001b[39m \u001b[43msigned_to_unsigned\u001b[49m\u001b[43m[\u001b[49m\u001b[43mdt\u001b[49m\u001b[38;5;241;43m.\u001b[39;49m\u001b[43mtype\u001b[49m\u001b[43m]\u001b[49m\n\u001b[0;32m    352\u001b[0m \u001b[38;5;28;01mexcept\u001b[39;00m \u001b[38;5;167;01mKeyError\u001b[39;00m:\n",
      "\u001b[1;31mKeyError\u001b[0m: <class 'numpy.bool_'>",
      "\nDuring handling of the above exception, another exception occurred:\n",
      "\u001b[1;31mTypeError\u001b[0m                                 Traceback (most recent call last)",
      "Input \u001b[1;32mIn [46]\u001b[0m, in \u001b[0;36m<cell line: 3>\u001b[1;34m()\u001b[0m\n\u001b[0;32m      1\u001b[0m \u001b[38;5;66;03m# plot the distribution of the accuracy of the participants\u001b[39;00m\n\u001b[0;32m      2\u001b[0m plt\u001b[38;5;241m.\u001b[39mfigure(figsize\u001b[38;5;241m=\u001b[39m(\u001b[38;5;241m8\u001b[39m, \u001b[38;5;241m4\u001b[39m))\n\u001b[1;32m----> 3\u001b[0m \u001b[43mplt\u001b[49m\u001b[38;5;241;43m.\u001b[39;49m\u001b[43mhist\u001b[49m\u001b[43m(\u001b[49m\u001b[43mdf2\u001b[49m\u001b[43m[\u001b[49m\u001b[38;5;124;43m'\u001b[39;49m\u001b[38;5;124;43minitial_guess\u001b[39;49m\u001b[38;5;124;43m'\u001b[39;49m\u001b[43m]\u001b[49m\u001b[43m \u001b[49m\u001b[38;5;241;43m==\u001b[39;49m\u001b[43m \u001b[49m\u001b[43mdf2\u001b[49m\u001b[43m[\u001b[49m\u001b[38;5;124;43m'\u001b[39;49m\u001b[38;5;124;43mground_truth\u001b[39;49m\u001b[38;5;124;43m'\u001b[39;49m\u001b[43m]\u001b[49m\u001b[43m,\u001b[49m\u001b[43m \u001b[49m\u001b[43mbins\u001b[49m\u001b[38;5;241;43m=\u001b[39;49m\u001b[38;5;241;43m10\u001b[39;49m\u001b[43m,\u001b[49m\u001b[43m \u001b[49m\u001b[43malpha\u001b[49m\u001b[38;5;241;43m=\u001b[39;49m\u001b[38;5;241;43m0.5\u001b[39;49m\u001b[43m)\u001b[49m\n\u001b[0;32m      4\u001b[0m plt\u001b[38;5;241m.\u001b[39mtitle(\u001b[38;5;124m\"\u001b[39m\u001b[38;5;124mDistribution of Participants Accuracy\u001b[39m\u001b[38;5;124m\"\u001b[39m)\n\u001b[0;32m      5\u001b[0m plt\u001b[38;5;241m.\u001b[39mxlabel(\u001b[38;5;124m\"\u001b[39m\u001b[38;5;124mAccuracy\u001b[39m\u001b[38;5;124m\"\u001b[39m)\n",
      "File \u001b[1;32mc:\\users\\utilisateur\\anaconda3\\lib\\site-packages\\matplotlib\\pyplot.py:3440\u001b[0m, in \u001b[0;36mhist\u001b[1;34m(x, bins, range, density, weights, cumulative, bottom, histtype, align, orientation, rwidth, log, color, label, stacked, data, **kwargs)\u001b[0m\n\u001b[0;32m   3415\u001b[0m \u001b[38;5;129m@_copy_docstring_and_deprecators\u001b[39m(Axes\u001b[38;5;241m.\u001b[39mhist)\n\u001b[0;32m   3416\u001b[0m \u001b[38;5;28;01mdef\u001b[39;00m \u001b[38;5;21mhist\u001b[39m(\n\u001b[0;32m   3417\u001b[0m     x: ArrayLike \u001b[38;5;241m|\u001b[39m Sequence[ArrayLike],\n\u001b[1;32m   (...)\u001b[0m\n\u001b[0;32m   3438\u001b[0m     BarContainer \u001b[38;5;241m|\u001b[39m Polygon \u001b[38;5;241m|\u001b[39m \u001b[38;5;28mlist\u001b[39m[BarContainer \u001b[38;5;241m|\u001b[39m Polygon],\n\u001b[0;32m   3439\u001b[0m ]:\n\u001b[1;32m-> 3440\u001b[0m     \u001b[38;5;28;01mreturn\u001b[39;00m gca()\u001b[38;5;241m.\u001b[39mhist(\n\u001b[0;32m   3441\u001b[0m         x,\n\u001b[0;32m   3442\u001b[0m         bins\u001b[38;5;241m=\u001b[39mbins,\n\u001b[0;32m   3443\u001b[0m         \u001b[38;5;28mrange\u001b[39m\u001b[38;5;241m=\u001b[39m\u001b[38;5;28mrange\u001b[39m,\n\u001b[0;32m   3444\u001b[0m         density\u001b[38;5;241m=\u001b[39mdensity,\n\u001b[0;32m   3445\u001b[0m         weights\u001b[38;5;241m=\u001b[39mweights,\n\u001b[0;32m   3446\u001b[0m         cumulative\u001b[38;5;241m=\u001b[39mcumulative,\n\u001b[0;32m   3447\u001b[0m         bottom\u001b[38;5;241m=\u001b[39mbottom,\n\u001b[0;32m   3448\u001b[0m         histtype\u001b[38;5;241m=\u001b[39mhisttype,\n\u001b[0;32m   3449\u001b[0m         align\u001b[38;5;241m=\u001b[39malign,\n\u001b[0;32m   3450\u001b[0m         orientation\u001b[38;5;241m=\u001b[39morientation,\n\u001b[0;32m   3451\u001b[0m         rwidth\u001b[38;5;241m=\u001b[39mrwidth,\n\u001b[0;32m   3452\u001b[0m         log\u001b[38;5;241m=\u001b[39mlog,\n\u001b[0;32m   3453\u001b[0m         color\u001b[38;5;241m=\u001b[39mcolor,\n\u001b[0;32m   3454\u001b[0m         label\u001b[38;5;241m=\u001b[39mlabel,\n\u001b[0;32m   3455\u001b[0m         stacked\u001b[38;5;241m=\u001b[39mstacked,\n\u001b[0;32m   3456\u001b[0m         \u001b[38;5;241m*\u001b[39m\u001b[38;5;241m*\u001b[39m({\u001b[38;5;124m\"\u001b[39m\u001b[38;5;124mdata\u001b[39m\u001b[38;5;124m\"\u001b[39m: data} \u001b[38;5;28;01mif\u001b[39;00m data \u001b[38;5;129;01mis\u001b[39;00m \u001b[38;5;129;01mnot\u001b[39;00m \u001b[38;5;28;01mNone\u001b[39;00m \u001b[38;5;28;01melse\u001b[39;00m {}),\n\u001b[0;32m   3457\u001b[0m         \u001b[38;5;241m*\u001b[39m\u001b[38;5;241m*\u001b[39mkwargs,\n\u001b[0;32m   3458\u001b[0m     )\n",
      "File \u001b[1;32mc:\\users\\utilisateur\\anaconda3\\lib\\site-packages\\matplotlib\\__init__.py:1476\u001b[0m, in \u001b[0;36m_preprocess_data.<locals>.inner\u001b[1;34m(ax, data, *args, **kwargs)\u001b[0m\n\u001b[0;32m   1473\u001b[0m \u001b[38;5;129m@functools\u001b[39m\u001b[38;5;241m.\u001b[39mwraps(func)\n\u001b[0;32m   1474\u001b[0m \u001b[38;5;28;01mdef\u001b[39;00m \u001b[38;5;21minner\u001b[39m(ax, \u001b[38;5;241m*\u001b[39margs, data\u001b[38;5;241m=\u001b[39m\u001b[38;5;28;01mNone\u001b[39;00m, \u001b[38;5;241m*\u001b[39m\u001b[38;5;241m*\u001b[39mkwargs):\n\u001b[0;32m   1475\u001b[0m     \u001b[38;5;28;01mif\u001b[39;00m data \u001b[38;5;129;01mis\u001b[39;00m \u001b[38;5;28;01mNone\u001b[39;00m:\n\u001b[1;32m-> 1476\u001b[0m         \u001b[38;5;28;01mreturn\u001b[39;00m func(\n\u001b[0;32m   1477\u001b[0m             ax,\n\u001b[0;32m   1478\u001b[0m             \u001b[38;5;241m*\u001b[39m\u001b[38;5;28mmap\u001b[39m(sanitize_sequence, args),\n\u001b[0;32m   1479\u001b[0m             \u001b[38;5;241m*\u001b[39m\u001b[38;5;241m*\u001b[39m{k: sanitize_sequence(v) \u001b[38;5;28;01mfor\u001b[39;00m k, v \u001b[38;5;129;01min\u001b[39;00m kwargs\u001b[38;5;241m.\u001b[39mitems()})\n\u001b[0;32m   1481\u001b[0m     bound \u001b[38;5;241m=\u001b[39m new_sig\u001b[38;5;241m.\u001b[39mbind(ax, \u001b[38;5;241m*\u001b[39margs, \u001b[38;5;241m*\u001b[39m\u001b[38;5;241m*\u001b[39mkwargs)\n\u001b[0;32m   1482\u001b[0m     auto_label \u001b[38;5;241m=\u001b[39m (bound\u001b[38;5;241m.\u001b[39marguments\u001b[38;5;241m.\u001b[39mget(label_namer)\n\u001b[0;32m   1483\u001b[0m                   \u001b[38;5;129;01mor\u001b[39;00m bound\u001b[38;5;241m.\u001b[39mkwargs\u001b[38;5;241m.\u001b[39mget(label_namer))\n",
      "File \u001b[1;32mc:\\users\\utilisateur\\anaconda3\\lib\\site-packages\\matplotlib\\axes\\_axes.py:7001\u001b[0m, in \u001b[0;36mAxes.hist\u001b[1;34m(self, x, bins, range, density, weights, cumulative, bottom, histtype, align, orientation, rwidth, log, color, label, stacked, **kwargs)\u001b[0m\n\u001b[0;32m   6997\u001b[0m \u001b[38;5;66;03m# Loop through datasets\u001b[39;00m\n\u001b[0;32m   6998\u001b[0m \u001b[38;5;28;01mfor\u001b[39;00m i \u001b[38;5;129;01min\u001b[39;00m \u001b[38;5;28mrange\u001b[39m(nx):\n\u001b[0;32m   6999\u001b[0m     \u001b[38;5;66;03m# this will automatically overwrite bins,\u001b[39;00m\n\u001b[0;32m   7000\u001b[0m     \u001b[38;5;66;03m# so that each histogram uses the same bins\u001b[39;00m\n\u001b[1;32m-> 7001\u001b[0m     m, bins \u001b[38;5;241m=\u001b[39m np\u001b[38;5;241m.\u001b[39mhistogram(x[i], bins, weights\u001b[38;5;241m=\u001b[39mw[i], \u001b[38;5;241m*\u001b[39m\u001b[38;5;241m*\u001b[39mhist_kwargs)\n\u001b[0;32m   7002\u001b[0m     tops\u001b[38;5;241m.\u001b[39mappend(m)\n\u001b[0;32m   7003\u001b[0m tops \u001b[38;5;241m=\u001b[39m np\u001b[38;5;241m.\u001b[39marray(tops, \u001b[38;5;28mfloat\u001b[39m)  \u001b[38;5;66;03m# causes problems later if it's an int\u001b[39;00m\n",
      "File \u001b[1;32mc:\\users\\utilisateur\\anaconda3\\lib\\site-packages\\numpy\\lib\\histograms.py:811\u001b[0m, in \u001b[0;36mhistogram\u001b[1;34m(a, bins, range, density, weights)\u001b[0m\n\u001b[0;32m    809\u001b[0m \u001b[38;5;66;03m# Pre-compute histogram scaling factor\u001b[39;00m\n\u001b[0;32m    810\u001b[0m norm_numerator \u001b[38;5;241m=\u001b[39m n_equal_bins\n\u001b[1;32m--> 811\u001b[0m norm_denom \u001b[38;5;241m=\u001b[39m \u001b[43m_unsigned_subtract\u001b[49m\u001b[43m(\u001b[49m\u001b[43mlast_edge\u001b[49m\u001b[43m,\u001b[49m\u001b[43m \u001b[49m\u001b[43mfirst_edge\u001b[49m\u001b[43m)\u001b[49m\n\u001b[0;32m    813\u001b[0m \u001b[38;5;66;03m# We iterate over blocks here for two reasons: the first is that for\u001b[39;00m\n\u001b[0;32m    814\u001b[0m \u001b[38;5;66;03m# large arrays, it is actually faster (for example for a 10^8 array it\u001b[39;00m\n\u001b[0;32m    815\u001b[0m \u001b[38;5;66;03m# is 2x as fast) and it results in a memory footprint 3x lower in the\u001b[39;00m\n\u001b[0;32m    816\u001b[0m \u001b[38;5;66;03m# limit of large arrays.\u001b[39;00m\n\u001b[0;32m    817\u001b[0m \u001b[38;5;28;01mfor\u001b[39;00m i \u001b[38;5;129;01min\u001b[39;00m _range(\u001b[38;5;241m0\u001b[39m, \u001b[38;5;28mlen\u001b[39m(a), BLOCK):\n",
      "File \u001b[1;32mc:\\users\\utilisateur\\anaconda3\\lib\\site-packages\\numpy\\lib\\histograms.py:353\u001b[0m, in \u001b[0;36m_unsigned_subtract\u001b[1;34m(a, b)\u001b[0m\n\u001b[0;32m    351\u001b[0m     dt \u001b[38;5;241m=\u001b[39m signed_to_unsigned[dt\u001b[38;5;241m.\u001b[39mtype]\n\u001b[0;32m    352\u001b[0m \u001b[38;5;28;01mexcept\u001b[39;00m \u001b[38;5;167;01mKeyError\u001b[39;00m:\n\u001b[1;32m--> 353\u001b[0m     \u001b[38;5;28;01mreturn\u001b[39;00m \u001b[43mnp\u001b[49m\u001b[38;5;241;43m.\u001b[39;49m\u001b[43msubtract\u001b[49m\u001b[43m(\u001b[49m\u001b[43ma\u001b[49m\u001b[43m,\u001b[49m\u001b[43m \u001b[49m\u001b[43mb\u001b[49m\u001b[43m,\u001b[49m\u001b[43m \u001b[49m\u001b[43mdtype\u001b[49m\u001b[38;5;241;43m=\u001b[39;49m\u001b[43mdt\u001b[49m\u001b[43m)\u001b[49m\n\u001b[0;32m    354\u001b[0m \u001b[38;5;28;01melse\u001b[39;00m:\n\u001b[0;32m    355\u001b[0m     \u001b[38;5;66;03m# we know the inputs are integers, and we are deliberately casting\u001b[39;00m\n\u001b[0;32m    356\u001b[0m     \u001b[38;5;66;03m# signed to unsigned\u001b[39;00m\n\u001b[0;32m    357\u001b[0m     \u001b[38;5;28;01mreturn\u001b[39;00m np\u001b[38;5;241m.\u001b[39msubtract(a, b, casting\u001b[38;5;241m=\u001b[39m\u001b[38;5;124m'\u001b[39m\u001b[38;5;124munsafe\u001b[39m\u001b[38;5;124m'\u001b[39m, dtype\u001b[38;5;241m=\u001b[39mdt)\n",
      "\u001b[1;31mTypeError\u001b[0m: numpy boolean subtract, the `-` operator, is not supported, use the bitwise_xor, the `^` operator, or the logical_xor function instead."
     ]
    },
    {
     "data": {
      "image/png": "[encoded data removed]",
      "text/plain": [
       "<Figure size 576x288 with 1 Axes>"
      ]
     },
     "metadata": {
      "needs_background": "light"
     },
     "output_type": "display_data"
    }
   ],
   "source": [
    "# plot the distribution of the accuracy of the participants\n",
    "plt.figure(figsize=(8, 4))\n",
    "plt.hist(df2['initial_guess'] == df2['ground_truth'], bins=10, alpha=0.5)\n",
    "plt.title(\"Distribution of Participants Accuracy\")\n",
    "plt.xlabel(\"Accuracy\")\n",
    "plt.ylabel(\"Count\")\n",
    "plt.legend()\n",
    "plt.show()\n",
    "\n"
   ]
  },
  {
   "cell_type": "code",
   "execution_count": null,
   "metadata": {},
   "outputs": [
    {
     "data": {
      "text/plain": [
       "(Index(['participant_id', 'video_number', 'feedback_type', 'hum_AI',\n",
       "        'time_on_video', 'initial_guess', 'initial_confidence', 'later_guess',\n",
       "        'later_confidence', 'feedback_influence', 'comments', 'feedback_change',\n",
       "        'ground_truth', 'AI_guess', 'initial_correct', 'later_correct',\n",
       "        'confidence_change', 'accuracy_change', 'AI_guess_correct',\n",
       "        'participant_accuracy'],\n",
       "       dtype='object'),\n",
       " np.float64(0.5375))"
      ]
     },
     "execution_count": 145,
     "metadata": {},
     "output_type": "execute_result"
    }
   ],
   "source": [
    "df2.columns, participant_accuracy"
   ]
  },
  {
   "cell_type": "code",
   "execution_count": null,
   "metadata": {},
   "outputs": [],
   "source": []
  },
  {
   "cell_type": "code",
   "execution_count": null,
   "metadata": {},
   "outputs": [],
   "source": []
  },
  {
   "cell_type": "code",
   "execution_count": null,
   "metadata": {},
   "outputs": [],
   "source": []
  },
  {
   "cell_type": "code",
   "execution_count": null,
   "metadata": {},
   "outputs": [],
   "source": []
  },
  {
   "cell_type": "code",
   "execution_count": null,
   "metadata": {},
   "outputs": [],
   "source": []
  },
  {
   "cell_type": "code",
   "execution_count": null,
   "metadata": {},
   "outputs": [],
   "source": []
  },
  {
   "cell_type": "markdown",
   "metadata": {},
   "source": [
    "# Trucs de Lio qui sont là depuis le début, pas sûr que c'est utile ..."
   ]
  },
  {
   "cell_type": "code",
   "execution_count": null,
   "metadata": {},
   "outputs": [
    {
     "name": "stdout",
     "output_type": "stream",
     "text": [
      "<class 'pandas.core.frame.DataFrame'>\n",
      "Index: 40 entries, 6 to 64\n",
      "Columns: 162 entries, startdate to feedback_type\n",
      "dtypes: int64(1), object(161)\n",
      "memory usage: 50.9+ KB\n"
     ]
    },
    {
     "data": {
      "text/html": [
       "<div>\n",
       "<style scoped>\n",
       "    .dataframe tbody tr th:only-of-type {\n",
       "        vertical-align: middle;\n",
       "    }\n",
       "\n",
       "    .dataframe tbody tr th {\n",
       "        vertical-align: top;\n",
       "    }\n",
       "\n",
       "    .dataframe thead th {\n",
       "        text-align: right;\n",
       "    }\n",
       "</style>\n",
       "<table border=\"1\" class=\"dataframe\">\n",
       "  <thead>\n",
       "    <tr style=\"text-align: right;\">\n",
       "      <th></th>\n",
       "      <th>finished</th>\n",
       "    </tr>\n",
       "  </thead>\n",
       "  <tbody>\n",
       "    <tr>\n",
       "      <th>count</th>\n",
       "      <td>40.0</td>\n",
       "    </tr>\n",
       "    <tr>\n",
       "      <th>mean</th>\n",
       "      <td>1.0</td>\n",
       "    </tr>\n",
       "    <tr>\n",
       "      <th>std</th>\n",
       "      <td>0.0</td>\n",
       "    </tr>\n",
       "    <tr>\n",
       "      <th>min</th>\n",
       "      <td>1.0</td>\n",
       "    </tr>\n",
       "    <tr>\n",
       "      <th>25%</th>\n",
       "      <td>1.0</td>\n",
       "    </tr>\n",
       "    <tr>\n",
       "      <th>50%</th>\n",
       "      <td>1.0</td>\n",
       "    </tr>\n",
       "    <tr>\n",
       "      <th>75%</th>\n",
       "      <td>1.0</td>\n",
       "    </tr>\n",
       "    <tr>\n",
       "      <th>max</th>\n",
       "      <td>1.0</td>\n",
       "    </tr>\n",
       "  </tbody>\n",
       "</table>\n",
       "</div>"
      ],
      "text/plain": [
       "       finished\n",
       "count      40.0\n",
       "mean        1.0\n",
       "std         0.0\n",
       "min         1.0\n",
       "25%         1.0\n",
       "50%         1.0\n",
       "75%         1.0\n",
       "max         1.0"
      ]
     },
     "execution_count": 68,
     "metadata": {},
     "output_type": "execute_result"
    }
   ],
   "source": [
    "# Exemple (à adapter):\n",
    "# df = df.dropna(subset=[\"participant_id\", \"accuracy_pre\", \"accuracy_post\", \"confidence_pre\", \"confidence_post\"])\n",
    "\n",
    "# Renommer si besoin\n",
    "# df.rename(columns={\n",
    "#     \"old_colname_1\": \"accuracy_pre\",\n",
    "#     \"old_colname_2\": \"accuracy_post\",\n",
    "#     ...\n",
    "# }, inplace=True)\n",
    "\n",
    "df.info()\n",
    "df.describe()\n"
   ]
  },
  {
   "cell_type": "markdown",
   "metadata": {},
   "source": [
    "## 2. Création des variables d'intérêt\n",
    "\n",
    "Ici, on crée par exemple la différence de précision et de confiance (post - pré) pour chaque participant.\n"
   ]
  },
  {
   "cell_type": "code",
   "execution_count": null,
   "metadata": {},
   "outputs": [],
   "source": [
    "# Supposez que df contient déjà accuracy_pre, accuracy_post, confidence_pre, confidence_post\n",
    "df[\"accuracy_diff\"] = df[\"accuracy_post\"] - df[\"accuracy_pre\"]\n",
    "df[\"confidence_diff\"] = df[\"confidence_post\"] - df[\"confidence_pre\"]\n",
    "\n",
    "df.head()\n"
   ]
  },
  {
   "cell_type": "markdown",
   "metadata": {},
   "source": [
    "## 3. Statistiques descriptives\n"
   ]
  },
  {
   "cell_type": "code",
   "execution_count": null,
   "metadata": {},
   "outputs": [
    {
     "ename": "NameError",
     "evalue": "name 'df' is not defined",
     "output_type": "error",
     "traceback": [
      "\u001b[1;31m---------------------------------------------------------------------------\u001b[0m",
      "\u001b[1;31mNameError\u001b[0m                                 Traceback (most recent call last)",
      "Cell \u001b[1;32mIn[4], line 2\u001b[0m\n\u001b[0;32m      1\u001b[0m \u001b[38;5;66;03m# Statistiques descriptives globales\u001b[39;00m\n\u001b[1;32m----> 2\u001b[0m \u001b[38;5;28mprint\u001b[39m(\u001b[43mdf\u001b[49m[[\u001b[38;5;124m\"\u001b[39m\u001b[38;5;124maccuracy_pre\u001b[39m\u001b[38;5;124m\"\u001b[39m, \u001b[38;5;124m\"\u001b[39m\u001b[38;5;124maccuracy_post\u001b[39m\u001b[38;5;124m\"\u001b[39m, \u001b[38;5;124m\"\u001b[39m\u001b[38;5;124mconfidence_pre\u001b[39m\u001b[38;5;124m\"\u001b[39m, \u001b[38;5;124m\"\u001b[39m\u001b[38;5;124mconfidence_post\u001b[39m\u001b[38;5;124m\"\u001b[39m]]\u001b[38;5;241m.\u001b[39mdescribe())\n\u001b[0;32m      4\u001b[0m \u001b[38;5;66;03m# Par groupe de Feedback Modality (Audio vs. Texte) et Feedback Source (Humain vs. IA)\u001b[39;00m\n\u001b[0;32m      5\u001b[0m group_stats \u001b[38;5;241m=\u001b[39m df\u001b[38;5;241m.\u001b[39mgroupby([\u001b[38;5;124m\"\u001b[39m\u001b[38;5;124mfeedback_modality\u001b[39m\u001b[38;5;124m\"\u001b[39m, \u001b[38;5;124m\"\u001b[39m\u001b[38;5;124mfeedback_source\u001b[39m\u001b[38;5;124m\"\u001b[39m])[[\u001b[38;5;124m\"\u001b[39m\u001b[38;5;124maccuracy_pre\u001b[39m\u001b[38;5;124m\"\u001b[39m,\u001b[38;5;124m\"\u001b[39m\u001b[38;5;124maccuracy_post\u001b[39m\u001b[38;5;124m\"\u001b[39m,\u001b[38;5;124m\"\u001b[39m\u001b[38;5;124mconfidence_pre\u001b[39m\u001b[38;5;124m\"\u001b[39m,\u001b[38;5;124m\"\u001b[39m\u001b[38;5;124mconfidence_post\u001b[39m\u001b[38;5;124m\"\u001b[39m]]\u001b[38;5;241m.\u001b[39mdescribe()\n",
      "\u001b[1;31mNameError\u001b[0m: name 'df' is not defined"
     ]
    }
   ],
   "source": [
    "# Statistiques descriptives globales\n",
    "print(df[[\"accuracy_pre\", \"accuracy_post\", \"confidence_pre\", \"confidence_post\"]].describe())\n",
    "\n",
    "# Par groupe de Feedback Modality (Audio vs. Texte) et Feedback Source (Humain vs. IA)\n",
    "group_stats = df.groupby([\"feedback_modality\", \"feedback_source\"])[[\"accuracy_pre\",\"accuracy_post\",\"confidence_pre\",\"confidence_post\"]].describe()\n",
    "group_stats\n"
   ]
  },
  {
   "cell_type": "markdown",
   "metadata": {},
   "source": [
    "### Visualisation (optionnel)\n",
    "\n",
    "On peut faire quelques graphiques (histogrammes, boxplots) pour visualiser la distribution des variables et tester la normalité.\n"
   ]
  },
  {
   "cell_type": "code",
   "execution_count": null,
   "metadata": {},
   "outputs": [
    {
     "ename": "NameError",
     "evalue": "name 'df' is not defined",
     "output_type": "error",
     "traceback": [
      "\u001b[1;31m---------------------------------------------------------------------------\u001b[0m",
      "\u001b[1;31mNameError\u001b[0m                                 Traceback (most recent call last)",
      "Cell \u001b[1;32mIn[5], line 3\u001b[0m\n\u001b[0;32m      1\u001b[0m \u001b[38;5;66;03m# Histograms\u001b[39;00m\n\u001b[0;32m      2\u001b[0m fig, axes \u001b[38;5;241m=\u001b[39m plt\u001b[38;5;241m.\u001b[39msubplots(\u001b[38;5;241m1\u001b[39m, \u001b[38;5;241m2\u001b[39m, figsize\u001b[38;5;241m=\u001b[39m(\u001b[38;5;241m10\u001b[39m,\u001b[38;5;241m4\u001b[39m))\n\u001b[1;32m----> 3\u001b[0m axes[\u001b[38;5;241m0\u001b[39m]\u001b[38;5;241m.\u001b[39mhist(\u001b[43mdf\u001b[49m[\u001b[38;5;124m\"\u001b[39m\u001b[38;5;124maccuracy_diff\u001b[39m\u001b[38;5;124m\"\u001b[39m]\u001b[38;5;241m.\u001b[39mdropna(), bins\u001b[38;5;241m=\u001b[39m\u001b[38;5;241m10\u001b[39m)\n\u001b[0;32m      4\u001b[0m axes[\u001b[38;5;241m0\u001b[39m]\u001b[38;5;241m.\u001b[39mset_title(\u001b[38;5;124m\"\u001b[39m\u001b[38;5;124mDistribution accuracy_diff\u001b[39m\u001b[38;5;124m\"\u001b[39m)\n\u001b[0;32m      6\u001b[0m axes[\u001b[38;5;241m1\u001b[39m]\u001b[38;5;241m.\u001b[39mhist(df[\u001b[38;5;124m\"\u001b[39m\u001b[38;5;124mconfidence_diff\u001b[39m\u001b[38;5;124m\"\u001b[39m]\u001b[38;5;241m.\u001b[39mdropna(), bins\u001b[38;5;241m=\u001b[39m\u001b[38;5;241m10\u001b[39m)\n",
      "\u001b[1;31mNameError\u001b[0m: name 'df' is not defined"
     ]
    },
    {
     "data": {
      "image/png": "[encoded data removed]",
      "text/plain": [
       "<Figure size 1000x400 with 2 Axes>"
      ]
     },
     "metadata": {},
     "output_type": "display_data"
    }
   ],
   "source": [
    "# Histograms\n",
    "fig, axes = plt.subplots(1, 2, figsize=(10,4))\n",
    "axes[0].hist(df[\"accuracy_diff\"].dropna(), bins=10)\n",
    "axes[0].set_title(\"Distribution accuracy_diff\")\n",
    "\n",
    "axes[1].hist(df[\"confidence_diff\"].dropna(), bins=10)\n",
    "axes[1].set_title(\"Distribution confidence_diff\")\n",
    "\n",
    "plt.show()\n"
   ]
  },
  {
   "cell_type": "markdown",
   "metadata": {},
   "source": [
    "## 4. ANOVA mixte 2×2\n",
    "\n",
    "Nous avons :\n",
    "- Facteur intra-sujets : Feedback Source (Humain vs. IA)\n",
    "- Facteur inter-sujets : Feedback Modality (Audio vs. Texte)\n",
    "- Variable dépendante : par exemple *accuracy_diff* (et on fera la même chose pour *confidence_diff*).\n",
    "\n",
    "### Option A : Avec Pingouin (Mixed ANOVA)\n"
   ]
  },
  {
   "cell_type": "code",
   "execution_count": null,
   "metadata": {},
   "outputs": [],
   "source": [
    "# Exemple si vous utilisez pingouin.\n",
    "# 1. Il faut avoir un format \"long\" :\n",
    "#    Chaque participant apparaît dans 2 lignes (Humain vs. IA) pour la mesure within-subject\n",
    "#    feedback_modality reste constant pour le participant.\n",
    "\n",
    "# Démélangez ou \"melt\" si nécessaire. Supposez que vous avez une variable 'feedback_source' \n",
    "# déjà incrémentée sur chaque ligne. \n",
    "# Sinon, vous devez réorganiser le DataFrame (pivot_longer, etc.).\n",
    "\n",
    "# Pour la démonstration seulement (pseudo-code):\n",
    "\"\"\"\n",
    "df_long = pd.melt(\n",
    "    df, \n",
    "    id_vars=[\"participant_id\", \"feedback_modality\"], \n",
    "    value_vars=[\"accuracy_diff_humain\",\"accuracy_diff_IA\"], \n",
    "    var_name=\"feedback_source\", \n",
    "    value_name=\"accuracy_diff\"\n",
    ")\n",
    "# feedback_source pourra être \"humain\" ou \"IA\" selon la colonne d'origine\n",
    "# Ensuite:\n",
    "anova_results = pg.mixed_anova(dv=\"accuracy_diff\",\n",
    "                               within=\"feedback_source\",\n",
    "                               between=\"feedback_modality\",\n",
    "                               subject=\"participant_id\",\n",
    "                               data=df_long)\n",
    "print(anova_results)\n",
    "\"\"\"\n"
   ]
  },
  {
   "cell_type": "markdown",
   "metadata": {},
   "source": [
    "### Option B : Avec Statsmodels (MixedLM)\n",
    "\n",
    "Il faut un modèle linéaire mixte, avec participant_id comme effet aléatoire (group).  \n",
    "Vous pouvez également modéliser l’interaction.\n",
    "\n",
    "*(La mise en forme dépend de la manière dont vos données sont structurées.)*\n"
   ]
  },
  {
   "cell_type": "code",
   "execution_count": null,
   "metadata": {},
   "outputs": [
    {
     "data": {
      "text/plain": [
       "'\\nmodel = smf.mixedlm(\"accuracy_diff ~ feedback_source * feedback_modality\", \\n                    df_long, \\n                    groups=df_long[\"participant_id\"])\\nfit = model.fit()\\nprint(fit.summary())\\n'"
      ]
     },
     "execution_count": 6,
     "metadata": {},
     "output_type": "execute_result"
    }
   ],
   "source": [
    "# Exemple très simplifié (vous devrez sans doute adapter le code et le format):\n",
    "# Notons que dans Statsmodels, il faut coder feedback_source en 0/1 ou en variable catégorielle.\n",
    "\n",
    "# Supposez que feedback_source (Humain vs. IA) et feedback_modality (Audio vs. Texte) \n",
    "# sont des colonnes du DF 'df_long' (chaque ligne = 1 participant × 1 condition).\n",
    "# On va créer un modèle mixte:\n",
    "\"\"\"\n",
    "model = smf.mixedlm(\"accuracy_diff ~ feedback_source * feedback_modality\", \n",
    "                    df_long, \n",
    "                    groups=df_long[\"participant_id\"])\n",
    "fit = model.fit()\n",
    "print(fit.summary())\n",
    "\"\"\"\n"
   ]
  },
  {
   "cell_type": "markdown",
   "metadata": {},
   "source": [
    "## 5. Comparaisons t-tests appariés (avant/après)\n"
   ]
  },
  {
   "cell_type": "code",
   "execution_count": null,
   "metadata": {},
   "outputs": [
    {
     "ename": "NameError",
     "evalue": "name 'df' is not defined",
     "output_type": "error",
     "traceback": [
      "\u001b[1;31m---------------------------------------------------------------------------\u001b[0m",
      "\u001b[1;31mNameError\u001b[0m                                 Traceback (most recent call last)",
      "Cell \u001b[1;32mIn[7], line 2\u001b[0m\n\u001b[0;32m      1\u001b[0m \u001b[38;5;66;03m# Exemple : Comparer la confiance avant/après pour le groupe \"audio\"\u001b[39;00m\n\u001b[1;32m----> 2\u001b[0m audio_df \u001b[38;5;241m=\u001b[39m \u001b[43mdf\u001b[49m[df[\u001b[38;5;124m\"\u001b[39m\u001b[38;5;124mfeedback_modality\u001b[39m\u001b[38;5;124m\"\u001b[39m] \u001b[38;5;241m==\u001b[39m \u001b[38;5;124m\"\u001b[39m\u001b[38;5;124maudio\u001b[39m\u001b[38;5;124m\"\u001b[39m]\u001b[38;5;241m.\u001b[39mdropna(subset\u001b[38;5;241m=\u001b[39m[\u001b[38;5;124m\"\u001b[39m\u001b[38;5;124mconfidence_pre\u001b[39m\u001b[38;5;124m\"\u001b[39m,\u001b[38;5;124m\"\u001b[39m\u001b[38;5;124mconfidence_post\u001b[39m\u001b[38;5;124m\"\u001b[39m])\n\u001b[0;32m      3\u001b[0m t_stat, p_val \u001b[38;5;241m=\u001b[39m stats\u001b[38;5;241m.\u001b[39mttest_rel(audio_df[\u001b[38;5;124m\"\u001b[39m\u001b[38;5;124mconfidence_pre\u001b[39m\u001b[38;5;124m\"\u001b[39m], audio_df[\u001b[38;5;124m\"\u001b[39m\u001b[38;5;124mconfidence_post\u001b[39m\u001b[38;5;124m\"\u001b[39m])\n\u001b[0;32m      4\u001b[0m \u001b[38;5;28mprint\u001b[39m(\u001b[38;5;124mf\u001b[39m\u001b[38;5;124m\"\u001b[39m\u001b[38;5;124mGroupe Audio - t=\u001b[39m\u001b[38;5;132;01m{\u001b[39;00mt_stat\u001b[38;5;132;01m:\u001b[39;00m\u001b[38;5;124m.2f\u001b[39m\u001b[38;5;132;01m}\u001b[39;00m\u001b[38;5;124m, p=\u001b[39m\u001b[38;5;132;01m{\u001b[39;00mp_val\u001b[38;5;132;01m:\u001b[39;00m\u001b[38;5;124m.4f\u001b[39m\u001b[38;5;132;01m}\u001b[39;00m\u001b[38;5;124m\"\u001b[39m)\n",
      "\u001b[1;31mNameError\u001b[0m: name 'df' is not defined"
     ]
    }
   ],
   "source": [
    "# Exemple : Comparer la confiance avant/après pour le groupe \"audio\"\n",
    "audio_df = df[df[\"feedback_modality\"] == \"audio\"].dropna(subset=[\"confidence_pre\",\"confidence_post\"])\n",
    "t_stat, p_val = stats.ttest_rel(audio_df[\"confidence_pre\"], audio_df[\"confidence_post\"])\n",
    "print(f\"Groupe Audio - t={t_stat:.2f}, p={p_val:.4f}\")\n",
    "\n",
    "# Faire la même chose pour d'autres sous-groupes ou pour la variable accuracy_pre vs accuracy_post\n"
   ]
  },
  {
   "cell_type": "markdown",
   "metadata": {},
   "source": [
    "## 6. Analyse qualitative des réponses ouvertes\n",
    "\n",
    "Vous pouvez faire un premier aperçu en affichant les réponses, puis procéder à un codage manuel ou semi-automatisé.\n"
   ]
  },
  {
   "cell_type": "code",
   "execution_count": null,
   "metadata": {},
   "outputs": [],
   "source": [
    "# Exemple : si la question ouverte est dans une colonne \"open_response\"\n",
    "# On peut consulter les premières réponses\n",
    "if \"open_response\" in df.columns:\n",
    "    for idx, resp in enumerate(df[\"open_response\"].dropna().head(10)):\n",
    "        print(f\"Participant {idx}: {resp}\\n\")\n"
   ]
  },
  {
   "cell_type": "markdown",
   "metadata": {},
   "source": [
    "*(Ensuite, l’analyse approfondie peut se faire hors-ligne ou via un script dédié, \n",
    "avec par ex. des techniques de text-mining ou un codage thématique manuel.)*\n",
    "\n",
    "---\n",
    "\n",
    "## 7. Conclusion / Interprétation\n",
    "\n",
    "- Interprétez les résultats des analyses (ANOVA, t-tests, etc.).\n",
    "- Discutez des effets principaux, interactions et éventuels effets post hoc.\n",
    "- Intégrez les thèmes émergents de l’analyse qualitative.\n",
    "\n",
    "---\n"
   ]
  }
 ],
 "metadata": {
  "kernelspec": {
   "display_name": "base",
   "language": "python",
   "name": "python3"
  },
  "language_info": {
   "codemirror_mode": {
    "name": "ipython",
    "version": 3
   },
   "file_extension": ".py",
   "mimetype": "text/x-python",
   "name": "python",
   "nbconvert_exporter": "python",
   "pygments_lexer": "ipython3",
   "version": "3.9.12"
  }
 },
 "nbformat": 4,
 "nbformat_minor": 2
}
